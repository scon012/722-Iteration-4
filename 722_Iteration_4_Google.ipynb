{
  "nbformat": 4,
  "nbformat_minor": 0,
  "metadata": {
    "colab": {
      "name": "722-Iteration-4-Google.ipynb",
      "version": "0.3.2",
      "provenance": [],
      "collapsed_sections": [],
      "include_colab_link": true
    },
    "kernelspec": {
      "display_name": "Python 3",
      "language": "python",
      "name": "python3"
    }
  },
  "cells": [
    {
      "cell_type": "markdown",
      "metadata": {
        "id": "view-in-github",
        "colab_type": "text"
      },
      "source": [
        "[View in Colaboratory](https://colab.research.google.com/github/scon012/722-Iteration-4/blob/master/722_Iteration_4_Google.ipynb)"
      ]
    },
    {
      "metadata": {
        "id": "5S0SoQ-TJ8lR",
        "colab_type": "code",
        "colab": {}
      },
      "cell_type": "code",
      "source": [
        "# For AWS\n",
        "# Section must be included at the beginning of each new notebook. Remember to change the app name. \n",
        "# If you're using VirtualBox, change the below to '/home/user/spark-2.1.1-bin-hadoop2.7'\n",
        "#import findspark\n",
        "#findspark.init('/home/ubuntu/spark-2.1.1-bin-hadoop2.7')\n",
        "#import pyspark\n",
        "#from pyspark.sql import SparkSession\n",
        "#spark = SparkSession.builder.appName('missing').getOrCreate()\n",
        "\n"
      ],
      "execution_count": 0,
      "outputs": []
    },
    {
      "metadata": {
        "id": "xKQ5a_0hMUQb",
        "colab_type": "code",
        "colab": {}
      },
      "cell_type": "code",
      "source": [
        "# For Google Step 1\n",
        "!apt-get install openjdk-8-jdk-headless -qq > /dev/null\n",
        "!wget -q http://www-us.apache.org/dist/spark/spark-2.2.2/spark-2.2.2-bin-hadoop2.7.tgz\n",
        "!tar xf spark-2.2.2-bin-hadoop2.7.tgz\n",
        "!pip install -q findspark"
      ],
      "execution_count": 0,
      "outputs": []
    },
    {
      "metadata": {
        "id": "VJ7CDtHfMbkF",
        "colab_type": "code",
        "colab": {}
      },
      "cell_type": "code",
      "source": [
        "# For Google Step 2\n",
        "import os\n",
        "os.environ[\"JAVA_HOME\"] = \"/usr/lib/jvm/java-8-openjdk-amd64\"\n",
        "os.environ[\"SPARK_HOME\"] = \"/content/spark-2.2.2-bin-hadoop2.7\""
      ],
      "execution_count": 0,
      "outputs": []
    },
    {
      "metadata": {
        "id": "ZZfS3gEOMb9w",
        "colab_type": "code",
        "colab": {}
      },
      "cell_type": "code",
      "source": [
        "# For Google Step 3\n",
        "import findspark\n",
        "findspark.init()\n",
        "from pyspark.sql import SparkSession\n",
        "spark = SparkSession.builder.master(\"local[*]\").getOrCreate()"
      ],
      "execution_count": 0,
      "outputs": []
    },
    {
      "metadata": {
        "id": "HOnqemQcJ8lN",
        "colab_type": "text"
      },
      "cell_type": "markdown",
      "source": [
        "######################################################################################################\n",
        "### Configure the environment\n",
        "######################################################################################################"
      ]
    },
    {
      "metadata": {
        "id": "K2yzg9MeJ8lX",
        "colab_type": "code",
        "colab": {}
      },
      "cell_type": "code",
      "source": [
        "# Other environment imports\n",
        "from pyspark.sql.functions import datediff, to_date, lit, when, date_sub, col, isnan, count\n",
        "from pyspark.ml.feature import ChiSqSelector\n",
        "import matplotlib.pyplot as plt\n",
        "import numpy as np\n",
        "import pandas as pd\n",
        "from pyspark.ml.classification import LogisticRegression"
      ],
      "execution_count": 0,
      "outputs": []
    },
    {
      "metadata": {
        "id": "E5LAyTmfJ8lc",
        "colab_type": "text"
      },
      "cell_type": "markdown",
      "source": [
        "######################################################################################################\n",
        "### Get and inspect the data\n",
        "######################################################################################################"
      ]
    },
    {
      "metadata": {
        "id": "DxxUqdQbBhgx",
        "colab_type": "code",
        "colab": {}
      },
      "cell_type": "code",
      "source": [
        "# Clean up the old data\n",
        "# !ls -al\n",
        "# !rm \"2016-17_standings.csv\"\n",
        "# !rm \"2017-18_standings.csv\"\n",
        "# !rm \"2016-17_teamBoxScore.csv\"\n",
        "# !rm \"2017-18_teamBoxScore.csv\"\n",
        "# !ls -al\n",
        "\n",
        "# Get the data for Google\n",
        "\n",
        "# from google.colab import files\n",
        "\n",
        "# uploaded = files.upload()\n",
        "\n",
        "# for fn in uploaded.keys():\n",
        "#   print('User uploaded file \"{name}\" with length {length} bytes'.format(name=fn, length=len(uploaded[fn])))"
      ],
      "execution_count": 0,
      "outputs": []
    },
    {
      "metadata": {
        "id": "_fH74hlLJ8le",
        "colab_type": "code",
        "colab": {
          "base_uri": "https://localhost:8080/",
          "height": 870
        },
        "outputId": "ca5ba649-fe4d-463e-8b10-f941c301d323"
      },
      "cell_type": "code",
      "source": [
        "# Get the data files on AWS\n",
        "standings1617 = spark.read.csv(\"2016-17_standings.csv\", header=True, inferSchema=True)\n",
        "standings1617.show(5)\n",
        "\n",
        "standings1718 = spark.read.csv(\"2017-18_standings.csv\", header=True, inferSchema=True)\n",
        "standings1718.show(5)\n",
        "\n",
        "boxScore1617 = spark.read.csv(\"2016-17_teamBoxScore.csv\", header=True, inferSchema=True)\n",
        "boxScore1617.show(5)\n",
        "\n",
        "boxScore1718 = spark.read.csv(\"2017-18_teamBoxScore.csv\", header=True, inferSchema=True)\n",
        "boxScore1718.show(5)\n",
        "boxScore1718.head(5)\n"
      ],
      "execution_count": 40,
      "outputs": [
        {
          "output_type": "stream",
          "text": [
            "+-------------------+--------+----+-------+-------+--------+---+-------+------+--------+------+--------+-------+--------+-------+--------+-------+--------+--------+-------+--------+--------+--------+-------+----------+---------+--------------+-------------+---+-----------+---+---+------+------------+---------+---------+-----------+--------+--------+\n",
            "|             stDate|teamAbbr|rank|rankOrd|gameWon|gameLost|stk|stkType|stkTot|gameBack|ptsFor|ptsAgnst|homeWin|homeLoss|awayWin|awayLoss|confWin|confLoss|lastFive|lastTen|gamePlay|ptsScore|ptsAllow|ptsDiff|opptGmPlay|opptGmWon|opptOpptGmPlay|opptOpptGmWon|sos|relPercIndx|mov|srs|pwPerc|pythPerc1391|wpyth1391|lpyth1391|pythPerc165|wpyth165|lpyth165|\n",
            "+-------------------+--------+----+-------+-------+--------+---+-------+------+--------+------+--------+-------+--------+-------+--------+-------+--------+--------+-------+--------+--------+--------+-------+----------+---------+--------------+-------------+---+-----------+---+---+------+------------+---------+---------+-----------+--------+--------+\n",
            "|2016-10-24 00:00:00|     ATL|   1|    1st|      0|       0|  -|      -|     0|     0.0|     0|       0|      0|       0|      0|       0|      0|       0|       0|      0|       0|     0.0|     0.0|    0.0|         0|        0|             0|            0|0.0|        0.0|0.0|0.0|   0.5|         0.0|      0.0|     82.0|        0.0|     0.0|    82.0|\n",
            "|2016-10-24 00:00:00|     BKN|   1|    1st|      0|       0|  -|      -|     0|     0.0|     0|       0|      0|       0|      0|       0|      0|       0|       0|      0|       0|     0.0|     0.0|    0.0|         0|        0|             0|            0|0.0|        0.0|0.0|0.0|   0.5|         0.0|      0.0|     82.0|        0.0|     0.0|    82.0|\n",
            "|2016-10-24 00:00:00|     BOS|   1|    1st|      0|       0|  -|      -|     0|     0.0|     0|       0|      0|       0|      0|       0|      0|       0|       0|      0|       0|     0.0|     0.0|    0.0|         0|        0|             0|            0|0.0|        0.0|0.0|0.0|   0.5|         0.0|      0.0|     82.0|        0.0|     0.0|    82.0|\n",
            "|2016-10-24 00:00:00|     CHA|   1|    1st|      0|       0|  -|      -|     0|     0.0|     0|       0|      0|       0|      0|       0|      0|       0|       0|      0|       0|     0.0|     0.0|    0.0|         0|        0|             0|            0|0.0|        0.0|0.0|0.0|   0.5|         0.0|      0.0|     82.0|        0.0|     0.0|    82.0|\n",
            "|2016-10-24 00:00:00|     CHI|   1|    1st|      0|       0|  -|      -|     0|     0.0|     0|       0|      0|       0|      0|       0|      0|       0|       0|      0|       0|     0.0|     0.0|    0.0|         0|        0|             0|            0|0.0|        0.0|0.0|0.0|   0.5|         0.0|      0.0|     82.0|        0.0|     0.0|    82.0|\n",
            "+-------------------+--------+----+-------+-------+--------+---+-------+------+--------+------+--------+-------+--------+-------+--------+-------+--------+--------+-------+--------+--------+--------+-------+----------+---------+--------------+-------------+---+-----------+---+---+------+------------+---------+---------+-----------+--------+--------+\n",
            "only showing top 5 rows\n",
            "\n",
            "+-------------------+--------+----+-------+-------+--------+---+-------+------+--------+------+--------+-------+--------+-------+--------+-------+--------+--------+-------+--------+--------+--------+-------+----------+---------+--------------+-------------+---+-----------+---+---+------+------------+---------+---------+-----------+--------+--------+\n",
            "|             stDate|teamAbbr|rank|rankOrd|gameWon|gameLost|stk|stkType|stkTot|gameBack|ptsFor|ptsAgnst|homeWin|homeLoss|awayWin|awayLoss|confWin|confLoss|lastFive|lastTen|gamePlay|ptsScore|ptsAllow|ptsDiff|opptGmPlay|opptGmWon|opptOpptGmPlay|opptOpptGmWon|sos|relPercIndx|mov|srs|pwPerc|pythPerc1391|wpyth1391|lpyth1391|pythPerc165|wpyth165|lpyth165|\n",
            "+-------------------+--------+----+-------+-------+--------+---+-------+------+--------+------+--------+-------+--------+-------+--------+-------+--------+--------+-------+--------+--------+--------+-------+----------+---------+--------------+-------------+---+-----------+---+---+------+------------+---------+---------+-----------+--------+--------+\n",
            "|2017-10-16 00:00:00|     ATL|   1|    1st|      0|       0|  -|      -|     0|     0.0|     0|       0|      0|       0|      0|       0|      0|       0|       0|      0|       0|     0.0|     0.0|    0.0|         0|        0|             0|            0|0.0|        0.0|0.0|0.0|   0.5|         0.0|      0.0|     82.0|        0.0|     0.0|    82.0|\n",
            "|2017-10-16 00:00:00|     BKN|   1|    1st|      0|       0|  -|      -|     0|     0.0|     0|       0|      0|       0|      0|       0|      0|       0|       0|      0|       0|     0.0|     0.0|    0.0|         0|        0|             0|            0|0.0|        0.0|0.0|0.0|   0.5|         0.0|      0.0|     82.0|        0.0|     0.0|    82.0|\n",
            "|2017-10-16 00:00:00|     BOS|   1|    1st|      0|       0|  -|      -|     0|     0.0|     0|       0|      0|       0|      0|       0|      0|       0|       0|      0|       0|     0.0|     0.0|    0.0|         0|        0|             0|            0|0.0|        0.0|0.0|0.0|   0.5|         0.0|      0.0|     82.0|        0.0|     0.0|    82.0|\n",
            "|2017-10-16 00:00:00|     CHA|   1|    1st|      0|       0|  -|      -|     0|     0.0|     0|       0|      0|       0|      0|       0|      0|       0|       0|      0|       0|     0.0|     0.0|    0.0|         0|        0|             0|            0|0.0|        0.0|0.0|0.0|   0.5|         0.0|      0.0|     82.0|        0.0|     0.0|    82.0|\n",
            "|2017-10-16 00:00:00|     CHI|   1|    1st|      0|       0|  -|      -|     0|     0.0|     0|       0|      0|       0|      0|       0|      0|       0|       0|      0|       0|     0.0|     0.0|    0.0|         0|        0|             0|            0|0.0|        0.0|0.0|0.0|   0.5|         0.0|      0.0|     82.0|        0.0|     0.0|    82.0|\n",
            "+-------------------+--------+----+-------+-------+--------+---+-------+------+--------+------+--------+-------+--------+-------+--------+-------+--------+--------+-------+--------+--------+--------+-------+----------+---------+--------------+-------------+---+-----------+---+---+------+------------+---------+---------+-----------+--------+--------+\n",
            "only showing top 5 rows\n",
            "\n",
            "+-------------------+------+-------+-------+-------+--------+-------+--------+-------+--------+--------+---------+-------+--------+-------+----------+-------+-------+------+-------+-------+------+-------+-------+----------+-------+-------+----------+-------+-------+----------+-------+-------+----------+-------+-------+-------+--------+--------+--------+--------+--------+--------+--------+--------+------------+------------+----------+-----------+------------+------------+----------+-----------+-----------+--------+-------+-------+---------+--------+--------+---------+------------+-------+---------+---------+--------+--------+---------+-------+--------+-------+----------+-------+-------+------+-------+-------+------+-------+-------+----------+-------+-------+----------+-------+-------+----------+-------+-------+----------+-------+-------+-------+--------+--------+--------+--------+--------+--------+--------+--------+------------+------------+----------+-----------+------------+------------+----------+-----------+-----------+--------+-------+-------+---------+--------+--------+---------+------------+-------+---------+---------+--------+--------+\n",
            "|             gmDate|gmTime|seasTyp|offLNm1|offFNm1| offLNm2|offFNm2| offLNm3|offFNm3|teamAbbr|teamConf|  teamDiv|teamLoc|teamRslt|teamMin|teamDayOff|teamPTS|teamAST|teamTO|teamSTL|teamBLK|teamPF|teamFGA|teamFGM|teamFGPerc|team2PA|team2PM|team2PPerc|team3PA|team3PM|team3PPerc|teamFTA|teamFTM|teamFTPerc|teamORB|teamDRB|teamTRB|teamPTS1|teamPTS2|teamPTS3|teamPTS4|teamPTS5|teamPTS6|teamPTS7|teamPTS8|teamTREBPerc|teamASSTPerc|teamTSPerc|teamEFGPerc|teamOREBPerc|teamDREBPerc|teamTOPerc|teamSTLPerc|teamBLKPerc|teamBLKR|teamPPS|teamFIC|teamFIC40|teamOrtg|teamDrtg|teamEDiff|teamPlayPerc| teamAR|teamASTTO|teamSTLTO|opptAbbr|opptConf|  opptDiv|opptLoc|opptRslt|opptMin|opptDayOff|opptPTS|opptAST|opptTO|opptSTL|opptBLK|opptPF|opptFGA|opptFGM|opptFGPerc|oppt2PA|oppt2PM|oppt2PPerc|oppt3PA|oppt3PM|oppt3PPerc|opptFTA|opptFTM|opptFTPerc|opptORB|opptDRB|opptTRB|opptPTS1|opptPTS2|opptPTS3|opptPTS4|opptPTS5|opptPTS6|opptPTS7|opptPTS8|opptTREBPerc|opptASSTPerc|opptTSPerc|opptEFGPerc|opptOREBPerc|opptDREBPerc|opptTOPerc|opptSTLPerc|opptBLKPerc|opptBLKR|opptPPS|opptFIC|opptFIC40|opptOrtg|opptDrtg|opptEDiff|opptPlayPerc| opptAR|opptASTTO|opptSTLTO|    poss|    pace|\n",
            "+-------------------+------+-------+-------+-------+--------+-------+--------+-------+--------+--------+---------+-------+--------+-------+----------+-------+-------+------+-------+-------+------+-------+-------+----------+-------+-------+----------+-------+-------+----------+-------+-------+----------+-------+-------+-------+--------+--------+--------+--------+--------+--------+--------+--------+------------+------------+----------+-----------+------------+------------+----------+-----------+-----------+--------+-------+-------+---------+--------+--------+---------+------------+-------+---------+---------+--------+--------+---------+-------+--------+-------+----------+-------+-------+------+-------+-------+------+-------+-------+----------+-------+-------+----------+-------+-------+----------+-------+-------+----------+-------+-------+-------+--------+--------+--------+--------+--------+--------+--------+--------+------------+------------+----------+-----------+------------+------------+----------+-----------+-----------+--------+-------+-------+---------+--------+--------+---------+------------+-------+---------+---------+--------+--------+\n",
            "|2016-10-25 00:00:00| 08:00|Regular|   Lane|   Karl|   Adams| Bennie| Kennedy|   Bill|      NY|    East| Atlantic|   Away|    Loss|    240|         0|     88|     17|    18|      6|      6|    22|     87|     32|    0.3678|     60|     23|    0.3833|     27|      9|    0.3333|     20|     15|      0.75|     13|     29|     42|      18|      27|      19|      24|       0|       0|       0|       0|     45.1613|      53.125|    0.4593|     0.4195|     24.5283|        72.5|   15.8172|     5.9777|     5.9777|    10.0| 1.0115|   50.0|  41.6667| 87.6731|116.5653| -28.8922|      0.3478|12.9969|   0.9444|  33.3333|     CLE|    East|  Central|   Home|     Win|    241|         0|    117|     31|    15|     12|      5|    22|     94|     45|    0.4787|     59|     32|    0.5424|     35|     13|    0.3714|     19|     14|    0.7368|     11|     40|     51|      28|      20|      34|      35|       0|       0|       0|       0|     54.8387|     68.8889|    0.5715|     0.5479|     21.5686|     78.4314|   12.7812|    11.9554|     4.9814|  8.4746| 1.2447|102.375|  84.9585|116.5653| 87.6731|  28.8922|      0.4592|20.8951|   2.0667|     80.0|100.3729|100.3729|\n",
            "|2016-10-25 00:00:00| 08:00|Regular|   Lane|   Karl|   Adams| Bennie| Kennedy|   Bill|     CLE|    East|  Central|   Home|     Win|    241|         0|    117|     31|    15|     12|      5|    22|     94|     45|    0.4787|     59|     32|    0.5424|     35|     13|    0.3714|     19|     14|    0.7368|     11|     40|     51|      28|      20|      34|      35|       0|       0|       0|       0|     54.8387|     68.8889|    0.5715|     0.5479|        27.5|     75.4717|   12.7812|    11.9554|     4.9814|  8.4746| 1.2447|102.375|  84.9585|116.5653| 87.6731|  28.8922|      0.4592|20.8951|   2.0667|     80.0|      NY|    East| Atlantic|   Away|    Loss|    240|         0|     88|     17|    18|      6|      6|    22|     87|     32|    0.3678|     60|     23|    0.3833|     27|      9|    0.3333|     20|     15|      0.75|     13|     29|     42|      18|      27|      19|      24|       0|       0|       0|       0|     45.1613|      53.125|    0.4593|     0.4195|     30.9524|     69.0476|   15.8172|     5.9777|     5.9777|    10.0| 1.0115|   50.0|  41.6667| 87.6731|116.5653| -28.8922|      0.3478|12.9969|   0.9444|  33.3333|100.3729| 99.9564|\n",
            "|2016-10-25 00:00:00| 10:00|Regular|Buchert|   Nick|Callahan|   Mike|   Brown|   Tony|     UTA|    West|Northwest|   Away|    Loss|    241|         0|    104|     19|    14|      9|      5|    19|     82|     40|    0.4878|     58|     32|    0.5517|     24|      8|    0.3333|     16|     16|       1.0|      6|     25|     31|      26|      20|      37|      21|       0|       0|       0|       0|     47.6923|        47.5|     0.584|     0.5366|     17.1429|     83.3333|    13.587|     9.7257|     5.4032|  8.6207| 1.2683|  70.75|  58.7137|112.3863| 122.112|  -9.7257|      0.4444|15.5687|   1.3571|  64.2857|     POR|    West|Northwest|   Home|     Win|    239|         0|    113|     22|    13|      5|      3|    18|     75|     39|      0.52|     56|     26|    0.4643|     19|     13|    0.6842|     22|     22|       1.0|      5|     29|     34|      26|      28|      23|      36|       0|       0|       0|       0|     52.3077|     56.4103|    0.6672|     0.6067|     14.7059|     85.2941|   13.3088|     5.4032|     3.2419|  5.3571| 1.5067|  83.25|  69.6653| 122.112|112.3863|   9.7257|      0.4699|18.3824|   1.6923|  38.4615|  92.538|  92.154|\n",
            "|2016-10-25 00:00:00| 10:00|Regular|Buchert|   Nick|Callahan|   Mike|   Brown|   Tony|     POR|    West|Northwest|   Home|     Win|    239|         0|    113|     22|    13|      5|      3|    18|     75|     39|      0.52|     56|     26|    0.4643|     19|     13|    0.6842|     22|     22|       1.0|      5|     29|     34|      26|      28|      23|      36|       0|       0|       0|       0|     52.3077|     56.4103|    0.6672|     0.6067|     16.6667|     82.8571|   13.3088|     5.4032|     3.2419|  5.3571| 1.5067|  83.25|  69.6653| 122.112|112.3863|   9.7257|      0.4699|18.3824|   1.6923|  38.4615|     UTA|    West|Northwest|   Away|    Loss|    241|         0|    104|     19|    14|      9|      5|    19|     82|     40|    0.4878|     58|     32|    0.5517|     24|      8|    0.3333|     16|     16|       1.0|      6|     25|     31|      26|      20|      37|      21|       0|       0|       0|       0|     47.6923|        47.5|     0.584|     0.5366|     19.3548|     80.6452|    13.587|     9.7257|     5.4032|  8.6207| 1.2683|  70.75|  58.7137|112.3863| 122.112|  -9.7257|      0.4444|15.5687|   1.3571|  64.2857|  92.538| 92.9252|\n",
            "|2016-10-25 00:00:00| 10:30|Regular| Maddox|    Tre|  Fraher|    Pat|Crawford|    Dan|      SA|    West|Southwest|   Away|     Win|    240|         0|    129|     25|    14|     13|      3|    19|     98|     47|    0.4796|     74|     35|     0.473|     24|     12|       0.5|     26|     23|    0.8846|     21|     34|     55|      31|      33|      33|      32|       0|       0|       0|       0|     61.1111|     53.1915|    0.5894|     0.5408|       43.75|     80.9524|   11.3415|     13.161|     3.0372|  4.0541| 1.3163| 109.75|  91.4583|130.5979|101.2387|  29.3592|      0.5165|16.8418|   1.7857|  92.8571|      GS|    West|  Pacific|   Home|    Loss|    241|         0|    100|     24|    16|     11|      6|    19|     85|     40|    0.4706|     52|     33|    0.6346|     33|      7|    0.2121|     18|     13|    0.7222|      8|     27|     35|      20|      26|      31|      23|       0|       0|       0|       0|     38.8889|        60.0|    0.5381|     0.5118|     22.8571|     77.1429|   14.6897|    11.1363|     6.0743| 11.5385| 1.1765|  73.25|  60.7884|101.2387|130.5979| -29.3592|      0.4301| 18.056|      1.5|    68.75| 98.7765| 98.7765|\n",
            "+-------------------+------+-------+-------+-------+--------+-------+--------+-------+--------+--------+---------+-------+--------+-------+----------+-------+-------+------+-------+-------+------+-------+-------+----------+-------+-------+----------+-------+-------+----------+-------+-------+----------+-------+-------+-------+--------+--------+--------+--------+--------+--------+--------+--------+------------+------------+----------+-----------+------------+------------+----------+-----------+-----------+--------+-------+-------+---------+--------+--------+---------+------------+-------+---------+---------+--------+--------+---------+-------+--------+-------+----------+-------+-------+------+-------+-------+------+-------+-------+----------+-------+-------+----------+-------+-------+----------+-------+-------+----------+-------+-------+-------+--------+--------+--------+--------+--------+--------+--------+--------+------------+------------+----------+-----------+------------+------------+----------+-----------+-----------+--------+-------+-------+---------+--------+--------+---------+------------+-------+---------+---------+--------+--------+\n",
            "only showing top 5 rows\n",
            "\n",
            "+-------------------+------+-------+-------+-------+---------+-------+---------+-------+--------+--------+---------+-------+--------+-------+----------+-------+-------+------+-------+-------+------+-------+-------+----------+-------+-------+----------+-------+-------+----------+-------+-------+----------+-------+-------+-------+--------+--------+--------+--------+--------+--------+--------+--------+------------+------------+----------+-----------+------------+------------+----------+-----------+-----------+--------+-------+-------+---------+--------+--------+---------+------------+-------+---------+---------+--------+--------+---------+-------+--------+-------+----------+-------+-------+------+-------+-------+------+-------+-------+----------+-------+-------+----------+-------+-------+----------+-------+-------+----------+-------+-------+-------+--------+--------+--------+--------+--------+--------+--------+--------+------------+------------+----------+-----------+------------+------------+----------+-----------+-----------+--------+-------+-------+---------+--------+--------+---------+------------+-------+---------+---------+--------+--------+\n",
            "|             gmDate|gmTime|seasTyp|offLNm1|offFNm1|  offLNm2|offFNm2|  offLNm3|offFNm3|teamAbbr|teamConf|  teamDiv|teamLoc|teamRslt|teamMin|teamDayOff|teamPTS|teamAST|teamTO|teamSTL|teamBLK|teamPF|teamFGA|teamFGM|teamFGPerc|team2PA|team2PM|team2PPerc|team3PA|team3PM|team3PPerc|teamFTA|teamFTM|teamFTPerc|teamORB|teamDRB|teamTRB|teamPTS1|teamPTS2|teamPTS3|teamPTS4|teamPTS5|teamPTS6|teamPTS7|teamPTS8|teamTREBPerc|teamASSTPerc|teamTSPerc|teamEFGPerc|teamOREBPerc|teamDREBPerc|teamTOPerc|teamSTLPerc|teamBLKPerc|teamBLKR|teamPPS|teamFIC|teamFIC40|teamOrtg|teamDrtg|teamEDiff|teamPlayPerc| teamAR|teamASTTO|teamSTLTO|opptAbbr|opptConf|  opptDiv|opptLoc|opptRslt|opptMin|opptDayOff|opptPTS|opptAST|opptTO|opptSTL|opptBLK|opptPF|opptFGA|opptFGM|opptFGPerc|oppt2PA|oppt2PM|oppt2PPerc|oppt3PA|oppt3PM|oppt3PPerc|opptFTA|opptFTM|opptFTPerc|opptORB|opptDRB|opptTRB|opptPTS1|opptPTS2|opptPTS3|opptPTS4|opptPTS5|opptPTS6|opptPTS7|opptPTS8|opptTREBPerc|opptASSTPerc|opptTSPerc|opptEFGPerc|opptOREBPerc|opptDREBPerc|opptTOPerc|opptSTLPerc|opptBLKPerc|opptBLKR|opptPPS|opptFIC|opptFIC40|opptOrtg|opptDrtg|opptEDiff|opptPlayPerc| opptAR|opptASTTO|opptSTLTO|    poss|    pace|\n",
            "+-------------------+------+-------+-------+-------+---------+-------+---------+-------+--------+--------+---------+-------+--------+-------+----------+-------+-------+------+-------+-------+------+-------+-------+----------+-------+-------+----------+-------+-------+----------+-------+-------+----------+-------+-------+-------+--------+--------+--------+--------+--------+--------+--------+--------+------------+------------+----------+-----------+------------+------------+----------+-----------+-----------+--------+-------+-------+---------+--------+--------+---------+------------+-------+---------+---------+--------+--------+---------+-------+--------+-------+----------+-------+-------+------+-------+-------+------+-------+-------+----------+-------+-------+----------+-------+-------+----------+-------+-------+----------+-------+-------+-------+--------+--------+--------+--------+--------+--------+--------+--------+------------+------------+----------+-----------+------------+------------+----------+-----------+-----------+--------+-------+-------+---------+--------+--------+---------+------------+-------+---------+---------+--------+--------+\n",
            "|2017-10-17 00:00:00| 08:00|Regular|  Forte|  Brian|    Smith|Michael|McCutchen|  Monty|     BOS|    East| Atlantic|   Away|    Loss|    241|         0|     99|     24|    12|     11|      4|    24|     88|     36|    0.4091|     56|     28|       0.5|     32|      8|      0.25|     25|     19|      0.76|      9|     37|     46|      19|      19|      33|      28|       0|       0|       0|       0|     47.9167|     66.6667|       0.5|     0.4545|        18.0|     80.4348|   10.8108|    10.9692|     3.9888|  7.1429|  1.125| 75.375|  62.5519| 98.7227|101.7143|  -2.9916|      0.3956|17.7778|      2.0|  91.6667|     CLE|    East|  Central|   Home|     Win|    240|         0|    102|     19|    17|      3|      4|    25|     83|     38|    0.4578|     61|     33|     0.541|     22|      5|    0.2273|     25|     21|      0.84|      9|     41|     50|      29|      25|      18|      30|       0|       0|       0|       0|     52.0833|        50.0|    0.5426|      0.488|        18.0|        82.0|   15.3153|     2.9916|     3.9888|  6.5574| 1.2289| 66.625|  55.5208|101.7143| 98.7227|   2.9916|      0.4176|14.6154|   1.1176|  17.6471|100.2809| 99.8648|\n",
            "|2017-10-17 00:00:00| 08:00|Regular|  Forte|  Brian|    Smith|Michael|McCutchen|  Monty|     CLE|    East|  Central|   Home|     Win|    240|         0|    102|     19|    17|      3|      4|    25|     83|     38|    0.4578|     61|     33|     0.541|     22|      5|    0.2273|     25|     21|      0.84|      9|     41|     50|      29|      25|      18|      30|       0|       0|       0|       0|     52.0833|        50.0|    0.5426|      0.488|     19.5652|        82.0|   15.3153|     2.9916|     3.9888|  6.5574| 1.2289| 66.625|  55.5208|101.7143| 98.7227|   2.9916|      0.4176|14.6154|   1.1176|  17.6471|     BOS|    East| Atlantic|   Away|    Loss|    241|         0|     99|     24|    12|     11|      4|    24|     88|     36|    0.4091|     56|     28|       0.5|     32|      8|      0.25|     25|     19|      0.76|      9|     37|     46|      19|      19|      33|      28|       0|       0|       0|       0|     47.9167|     66.6667|       0.5|     0.4545|     19.5652|     80.4348|   10.8108|    10.9692|     3.9888|  7.1429|  1.125| 75.375|  62.5519| 98.7227|101.7143|  -2.9916|      0.3956|17.7778|      2.0|  91.6667|100.2809|100.2809|\n",
            "|2017-10-17 00:00:00| 10:30|Regular| Maddox|    Tre|Garretson|    Ron|   Foster|  Scott|     HOU|    West|Southwest|   Away|     Win|    239|         0|    122|     28|    13|      9|      5|    16|     97|     47|    0.4845|     56|     32|    0.5714|     41|     15|    0.3659|     19|     13|    0.6842|     10|     33|     43|      34|      28|      26|      34|       0|       0|       0|       0|     51.1905|     59.5745|     0.579|     0.5619|     22.2222|     84.6154|   10.9834|     8.7795|     4.8775|  8.9286| 1.2577| 97.875|  81.9038|119.0108|118.0353|   0.9755|        0.47|19.1309|   2.1538|  69.2308|      GS|    West|  Pacific|   Home|    Loss|    241|         0|    121|     34|    17|      5|      9|    25|     80|     43|    0.5375|     50|     27|      0.54|     30|     16|    0.5333|     21|     19|    0.9048|      6|     35|     41|      35|      36|      30|      20|       0|       0|       0|       0|     48.8095|     79.0698|    0.6779|     0.6375|     14.6341|     85.3659|   16.0015|     4.8775|     8.7795|    18.0| 1.5125|103.875|  86.2033|118.0353|119.0108|  -0.9755|      0.4725|24.2442|      2.0|  29.4118|102.5117|102.9406|\n",
            "|2017-10-17 00:00:00| 10:30|Regular| Maddox|    Tre|Garretson|    Ron|   Foster|  Scott|      GS|    West|  Pacific|   Home|    Loss|    241|         0|    121|     34|    17|      5|      9|    25|     80|     43|    0.5375|     50|     27|      0.54|     30|     16|    0.5333|     21|     19|    0.9048|      6|     35|     41|      35|      36|      30|      20|       0|       0|       0|       0|     48.8095|     79.0698|    0.6779|     0.6375|     15.3846|     77.7778|   16.0015|     4.8775|     8.7795|    18.0| 1.5125|103.875|  86.2033|118.0353|119.0108|  -0.9755|      0.4725|24.2442|      2.0|  29.4118|     HOU|    West|Southwest|   Away|     Win|    239|         0|    122|     28|    13|      9|      5|    16|     97|     47|    0.4845|     56|     32|    0.5714|     41|     15|    0.3659|     19|     13|    0.6842|     10|     33|     43|      34|      28|      26|      34|       0|       0|       0|       0|     51.1905|     59.5745|     0.579|     0.5619|     23.2558|     76.7442|   10.9834|     8.7795|     4.8775|  8.9286| 1.2577| 97.875|  81.9038|119.0108|118.0353|   0.9755|        0.47|19.1309|   2.1538|  69.2308|102.5117|102.0863|\n",
            "|2017-10-18 00:00:00| 07:00|Regular|  Davis|   Marc|   Boland|   Matt|   DeRosa|    Joe|     CHA|    East|Southeast|   Away|    Loss|    238|         0|     90|     16|    17|      4|      3|    15|     73|     29|    0.3973|     43|     20|    0.4651|     30|      9|       0.3|     29|     23|    0.7931|      3|     44|     47|      27|      18|      25|      20|       0|       0|       0|       0|        50.0|     55.1724|    0.5247|     0.4589|      7.3171|     83.0189|   16.5434|     4.0412|     3.0309|  6.9767| 1.2329| 58.875|  49.4748|  90.927|103.0506| -12.1236|      0.3333|13.4725|   0.9412|  23.5294|     DET|    East|  Central|   Home|     Win|    239|         0|    102|     24|     9|     14|      3|    21|     96|     41|    0.4271|     70|     32|    0.4571|     26|      9|    0.3462|     12|     11|    0.9167|      9|     38|     47|      29|      27|      26|      20|       0|       0|       0|       0|        50.0|     58.5366|    0.5036|      0.474|     19.1489|     80.8511|     8.161|    14.1442|     3.0309|  4.2857| 1.0625|   84.5|  70.7113|103.0506|  90.927|  12.1236|      0.4271|17.8731|   2.6667| 155.5556| 98.9805| 99.8123|\n",
            "+-------------------+------+-------+-------+-------+---------+-------+---------+-------+--------+--------+---------+-------+--------+-------+----------+-------+-------+------+-------+-------+------+-------+-------+----------+-------+-------+----------+-------+-------+----------+-------+-------+----------+-------+-------+-------+--------+--------+--------+--------+--------+--------+--------+--------+------------+------------+----------+-----------+------------+------------+----------+-----------+-----------+--------+-------+-------+---------+--------+--------+---------+------------+-------+---------+---------+--------+--------+---------+-------+--------+-------+----------+-------+-------+------+-------+-------+------+-------+-------+----------+-------+-------+----------+-------+-------+----------+-------+-------+----------+-------+-------+-------+--------+--------+--------+--------+--------+--------+--------+--------+------------+------------+----------+-----------+------------+------------+----------+-----------+-----------+--------+-------+-------+---------+--------+--------+---------+------------+-------+---------+---------+--------+--------+\n",
            "only showing top 5 rows\n",
            "\n"
          ],
          "name": "stdout"
        },
        {
          "output_type": "execute_result",
          "data": {
            "text/plain": [
              "[Row(gmDate=datetime.datetime(2017, 10, 17, 0, 0), gmTime='08:00', seasTyp='Regular', offLNm1='Forte', offFNm1='Brian', offLNm2='Smith', offFNm2='Michael', offLNm3='McCutchen', offFNm3='Monty', teamAbbr='BOS', teamConf='East', teamDiv='Atlantic', teamLoc='Away', teamRslt='Loss', teamMin=241, teamDayOff=0, teamPTS=99, teamAST=24, teamTO=12, teamSTL=11, teamBLK=4, teamPF=24, teamFGA=88, teamFGM=36, teamFGPerc=0.4091, team2PA=56, team2PM=28, team2PPerc=0.5, team3PA=32, team3PM=8, team3PPerc=0.25, teamFTA=25, teamFTM=19, teamFTPerc=0.76, teamORB=9, teamDRB=37, teamTRB=46, teamPTS1=19, teamPTS2=19, teamPTS3=33, teamPTS4=28, teamPTS5=0, teamPTS6=0, teamPTS7=0, teamPTS8=0, teamTREBPerc=47.9167, teamASSTPerc=66.6667, teamTSPerc=0.5, teamEFGPerc=0.4545, teamOREBPerc=18.0, teamDREBPerc=80.4348, teamTOPerc=10.8108, teamSTLPerc=10.9692, teamBLKPerc=3.9888, teamBLKR=7.1429, teamPPS=1.125, teamFIC=75.375, teamFIC40=62.5519, teamOrtg=98.7227, teamDrtg=101.7143, teamEDiff=-2.9916, teamPlayPerc=0.3956, teamAR=17.7778, teamASTTO=2.0, teamSTLTO=91.6667, opptAbbr='CLE', opptConf='East', opptDiv='Central', opptLoc='Home', opptRslt='Win', opptMin=240, opptDayOff=0, opptPTS=102, opptAST=19, opptTO=17, opptSTL=3, opptBLK=4, opptPF=25, opptFGA=83, opptFGM=38, opptFGPerc=0.4578, oppt2PA=61, oppt2PM=33, oppt2PPerc=0.541, oppt3PA=22, oppt3PM=5, oppt3PPerc=0.2273, opptFTA=25, opptFTM=21, opptFTPerc=0.84, opptORB=9, opptDRB=41, opptTRB=50, opptPTS1=29, opptPTS2=25, opptPTS3=18, opptPTS4=30, opptPTS5=0, opptPTS6=0, opptPTS7=0, opptPTS8=0, opptTREBPerc=52.0833, opptASSTPerc=50.0, opptTSPerc=0.5426, opptEFGPerc=0.488, opptOREBPerc=18.0, opptDREBPerc=82.0, opptTOPerc=15.3153, opptSTLPerc=2.9916, opptBLKPerc=3.9888, opptBLKR=6.5574, opptPPS=1.2289, opptFIC=66.625, opptFIC40=55.5208, opptOrtg=101.7143, opptDrtg=98.7227, opptEDiff=2.9916, opptPlayPerc=0.4176, opptAR=14.6154, opptASTTO=1.1176, opptSTLTO=17.6471, poss=100.2809, pace=99.8648),\n",
              " Row(gmDate=datetime.datetime(2017, 10, 17, 0, 0), gmTime='08:00', seasTyp='Regular', offLNm1='Forte', offFNm1='Brian', offLNm2='Smith', offFNm2='Michael', offLNm3='McCutchen', offFNm3='Monty', teamAbbr='CLE', teamConf='East', teamDiv='Central', teamLoc='Home', teamRslt='Win', teamMin=240, teamDayOff=0, teamPTS=102, teamAST=19, teamTO=17, teamSTL=3, teamBLK=4, teamPF=25, teamFGA=83, teamFGM=38, teamFGPerc=0.4578, team2PA=61, team2PM=33, team2PPerc=0.541, team3PA=22, team3PM=5, team3PPerc=0.2273, teamFTA=25, teamFTM=21, teamFTPerc=0.84, teamORB=9, teamDRB=41, teamTRB=50, teamPTS1=29, teamPTS2=25, teamPTS3=18, teamPTS4=30, teamPTS5=0, teamPTS6=0, teamPTS7=0, teamPTS8=0, teamTREBPerc=52.0833, teamASSTPerc=50.0, teamTSPerc=0.5426, teamEFGPerc=0.488, teamOREBPerc=19.5652, teamDREBPerc=82.0, teamTOPerc=15.3153, teamSTLPerc=2.9916, teamBLKPerc=3.9888, teamBLKR=6.5574, teamPPS=1.2289, teamFIC=66.625, teamFIC40=55.5208, teamOrtg=101.7143, teamDrtg=98.7227, teamEDiff=2.9916, teamPlayPerc=0.4176, teamAR=14.6154, teamASTTO=1.1176, teamSTLTO=17.6471, opptAbbr='BOS', opptConf='East', opptDiv='Atlantic', opptLoc='Away', opptRslt='Loss', opptMin=241, opptDayOff=0, opptPTS=99, opptAST=24, opptTO=12, opptSTL=11, opptBLK=4, opptPF=24, opptFGA=88, opptFGM=36, opptFGPerc=0.4091, oppt2PA=56, oppt2PM=28, oppt2PPerc=0.5, oppt3PA=32, oppt3PM=8, oppt3PPerc=0.25, opptFTA=25, opptFTM=19, opptFTPerc=0.76, opptORB=9, opptDRB=37, opptTRB=46, opptPTS1=19, opptPTS2=19, opptPTS3=33, opptPTS4=28, opptPTS5=0, opptPTS6=0, opptPTS7=0, opptPTS8=0, opptTREBPerc=47.9167, opptASSTPerc=66.6667, opptTSPerc=0.5, opptEFGPerc=0.4545, opptOREBPerc=19.5652, opptDREBPerc=80.4348, opptTOPerc=10.8108, opptSTLPerc=10.9692, opptBLKPerc=3.9888, opptBLKR=7.1429, opptPPS=1.125, opptFIC=75.375, opptFIC40=62.5519, opptOrtg=98.7227, opptDrtg=101.7143, opptEDiff=-2.9916, opptPlayPerc=0.3956, opptAR=17.7778, opptASTTO=2.0, opptSTLTO=91.6667, poss=100.2809, pace=100.2809),\n",
              " Row(gmDate=datetime.datetime(2017, 10, 17, 0, 0), gmTime='10:30', seasTyp='Regular', offLNm1='Maddox', offFNm1='Tre', offLNm2='Garretson', offFNm2='Ron', offLNm3='Foster', offFNm3='Scott', teamAbbr='HOU', teamConf='West', teamDiv='Southwest', teamLoc='Away', teamRslt='Win', teamMin=239, teamDayOff=0, teamPTS=122, teamAST=28, teamTO=13, teamSTL=9, teamBLK=5, teamPF=16, teamFGA=97, teamFGM=47, teamFGPerc=0.4845, team2PA=56, team2PM=32, team2PPerc=0.5714, team3PA=41, team3PM=15, team3PPerc=0.3659, teamFTA=19, teamFTM=13, teamFTPerc=0.6842, teamORB=10, teamDRB=33, teamTRB=43, teamPTS1=34, teamPTS2=28, teamPTS3=26, teamPTS4=34, teamPTS5=0, teamPTS6=0, teamPTS7=0, teamPTS8=0, teamTREBPerc=51.1905, teamASSTPerc=59.5745, teamTSPerc=0.579, teamEFGPerc=0.5619, teamOREBPerc=22.2222, teamDREBPerc=84.6154, teamTOPerc=10.9834, teamSTLPerc=8.7795, teamBLKPerc=4.8775, teamBLKR=8.9286, teamPPS=1.2577, teamFIC=97.875, teamFIC40=81.9038, teamOrtg=119.0108, teamDrtg=118.0353, teamEDiff=0.9755, teamPlayPerc=0.47, teamAR=19.1309, teamASTTO=2.1538, teamSTLTO=69.2308, opptAbbr='GS', opptConf='West', opptDiv='Pacific', opptLoc='Home', opptRslt='Loss', opptMin=241, opptDayOff=0, opptPTS=121, opptAST=34, opptTO=17, opptSTL=5, opptBLK=9, opptPF=25, opptFGA=80, opptFGM=43, opptFGPerc=0.5375, oppt2PA=50, oppt2PM=27, oppt2PPerc=0.54, oppt3PA=30, oppt3PM=16, oppt3PPerc=0.5333, opptFTA=21, opptFTM=19, opptFTPerc=0.9048, opptORB=6, opptDRB=35, opptTRB=41, opptPTS1=35, opptPTS2=36, opptPTS3=30, opptPTS4=20, opptPTS5=0, opptPTS6=0, opptPTS7=0, opptPTS8=0, opptTREBPerc=48.8095, opptASSTPerc=79.0698, opptTSPerc=0.6779, opptEFGPerc=0.6375, opptOREBPerc=14.6341, opptDREBPerc=85.3659, opptTOPerc=16.0015, opptSTLPerc=4.8775, opptBLKPerc=8.7795, opptBLKR=18.0, opptPPS=1.5125, opptFIC=103.875, opptFIC40=86.2033, opptOrtg=118.0353, opptDrtg=119.0108, opptEDiff=-0.9755, opptPlayPerc=0.4725, opptAR=24.2442, opptASTTO=2.0, opptSTLTO=29.4118, poss=102.5117, pace=102.9406),\n",
              " Row(gmDate=datetime.datetime(2017, 10, 17, 0, 0), gmTime='10:30', seasTyp='Regular', offLNm1='Maddox', offFNm1='Tre', offLNm2='Garretson', offFNm2='Ron', offLNm3='Foster', offFNm3='Scott', teamAbbr='GS', teamConf='West', teamDiv='Pacific', teamLoc='Home', teamRslt='Loss', teamMin=241, teamDayOff=0, teamPTS=121, teamAST=34, teamTO=17, teamSTL=5, teamBLK=9, teamPF=25, teamFGA=80, teamFGM=43, teamFGPerc=0.5375, team2PA=50, team2PM=27, team2PPerc=0.54, team3PA=30, team3PM=16, team3PPerc=0.5333, teamFTA=21, teamFTM=19, teamFTPerc=0.9048, teamORB=6, teamDRB=35, teamTRB=41, teamPTS1=35, teamPTS2=36, teamPTS3=30, teamPTS4=20, teamPTS5=0, teamPTS6=0, teamPTS7=0, teamPTS8=0, teamTREBPerc=48.8095, teamASSTPerc=79.0698, teamTSPerc=0.6779, teamEFGPerc=0.6375, teamOREBPerc=15.3846, teamDREBPerc=77.7778, teamTOPerc=16.0015, teamSTLPerc=4.8775, teamBLKPerc=8.7795, teamBLKR=18.0, teamPPS=1.5125, teamFIC=103.875, teamFIC40=86.2033, teamOrtg=118.0353, teamDrtg=119.0108, teamEDiff=-0.9755, teamPlayPerc=0.4725, teamAR=24.2442, teamASTTO=2.0, teamSTLTO=29.4118, opptAbbr='HOU', opptConf='West', opptDiv='Southwest', opptLoc='Away', opptRslt='Win', opptMin=239, opptDayOff=0, opptPTS=122, opptAST=28, opptTO=13, opptSTL=9, opptBLK=5, opptPF=16, opptFGA=97, opptFGM=47, opptFGPerc=0.4845, oppt2PA=56, oppt2PM=32, oppt2PPerc=0.5714, oppt3PA=41, oppt3PM=15, oppt3PPerc=0.3659, opptFTA=19, opptFTM=13, opptFTPerc=0.6842, opptORB=10, opptDRB=33, opptTRB=43, opptPTS1=34, opptPTS2=28, opptPTS3=26, opptPTS4=34, opptPTS5=0, opptPTS6=0, opptPTS7=0, opptPTS8=0, opptTREBPerc=51.1905, opptASSTPerc=59.5745, opptTSPerc=0.579, opptEFGPerc=0.5619, opptOREBPerc=23.2558, opptDREBPerc=76.7442, opptTOPerc=10.9834, opptSTLPerc=8.7795, opptBLKPerc=4.8775, opptBLKR=8.9286, opptPPS=1.2577, opptFIC=97.875, opptFIC40=81.9038, opptOrtg=119.0108, opptDrtg=118.0353, opptEDiff=0.9755, opptPlayPerc=0.47, opptAR=19.1309, opptASTTO=2.1538, opptSTLTO=69.2308, poss=102.5117, pace=102.0863),\n",
              " Row(gmDate=datetime.datetime(2017, 10, 18, 0, 0), gmTime='07:00', seasTyp='Regular', offLNm1='Davis', offFNm1='Marc', offLNm2='Boland', offFNm2='Matt', offLNm3='DeRosa', offFNm3='Joe', teamAbbr='CHA', teamConf='East', teamDiv='Southeast', teamLoc='Away', teamRslt='Loss', teamMin=238, teamDayOff=0, teamPTS=90, teamAST=16, teamTO=17, teamSTL=4, teamBLK=3, teamPF=15, teamFGA=73, teamFGM=29, teamFGPerc=0.3973, team2PA=43, team2PM=20, team2PPerc=0.4651, team3PA=30, team3PM=9, team3PPerc=0.3, teamFTA=29, teamFTM=23, teamFTPerc=0.7931, teamORB=3, teamDRB=44, teamTRB=47, teamPTS1=27, teamPTS2=18, teamPTS3=25, teamPTS4=20, teamPTS5=0, teamPTS6=0, teamPTS7=0, teamPTS8=0, teamTREBPerc=50.0, teamASSTPerc=55.1724, teamTSPerc=0.5247, teamEFGPerc=0.4589, teamOREBPerc=7.3171, teamDREBPerc=83.0189, teamTOPerc=16.5434, teamSTLPerc=4.0412, teamBLKPerc=3.0309, teamBLKR=6.9767, teamPPS=1.2329, teamFIC=58.875, teamFIC40=49.4748, teamOrtg=90.927, teamDrtg=103.0506, teamEDiff=-12.1236, teamPlayPerc=0.3333, teamAR=13.4725, teamASTTO=0.9412, teamSTLTO=23.5294, opptAbbr='DET', opptConf='East', opptDiv='Central', opptLoc='Home', opptRslt='Win', opptMin=239, opptDayOff=0, opptPTS=102, opptAST=24, opptTO=9, opptSTL=14, opptBLK=3, opptPF=21, opptFGA=96, opptFGM=41, opptFGPerc=0.4271, oppt2PA=70, oppt2PM=32, oppt2PPerc=0.4571, oppt3PA=26, oppt3PM=9, oppt3PPerc=0.3462, opptFTA=12, opptFTM=11, opptFTPerc=0.9167, opptORB=9, opptDRB=38, opptTRB=47, opptPTS1=29, opptPTS2=27, opptPTS3=26, opptPTS4=20, opptPTS5=0, opptPTS6=0, opptPTS7=0, opptPTS8=0, opptTREBPerc=50.0, opptASSTPerc=58.5366, opptTSPerc=0.5036, opptEFGPerc=0.474, opptOREBPerc=19.1489, opptDREBPerc=80.8511, opptTOPerc=8.161, opptSTLPerc=14.1442, opptBLKPerc=3.0309, opptBLKR=4.2857, opptPPS=1.0625, opptFIC=84.5, opptFIC40=70.7113, opptOrtg=103.0506, opptDrtg=90.927, opptEDiff=12.1236, opptPlayPerc=0.4271, opptAR=17.8731, opptASTTO=2.6667, opptSTLTO=155.5556, poss=98.9805, pace=99.8123)]"
            ]
          },
          "metadata": {
            "tags": []
          },
          "execution_count": 40
        }
      ]
    },
    {
      "metadata": {
        "id": "4yKBE-ctTArR",
        "colab_type": "code",
        "colab": {
          "base_uri": "https://localhost:8080/",
          "height": 54
        },
        "outputId": "524a9ffe-9638-4b83-d7a0-2f982a194856"
      },
      "cell_type": "code",
      "source": [
        "# Update NULL values\n",
        "boxScore1617.filter('IsNull(offFNm3)')\n",
        "\n",
        "boxScore1718.filter('IsNull(offFNm3)')\n"
      ],
      "execution_count": 41,
      "outputs": [
        {
          "output_type": "execute_result",
          "data": {
            "text/plain": [
              "DataFrame[gmDate: timestamp, gmTime: string, seasTyp: string, offLNm1: string, offFNm1: string, offLNm2: string, offFNm2: string, offLNm3: string, offFNm3: string, teamAbbr: string, teamConf: string, teamDiv: string, teamLoc: string, teamRslt: string, teamMin: int, teamDayOff: int, teamPTS: int, teamAST: int, teamTO: int, teamSTL: int, teamBLK: int, teamPF: int, teamFGA: int, teamFGM: int, teamFGPerc: double, team2PA: int, team2PM: int, team2PPerc: double, team3PA: int, team3PM: int, team3PPerc: double, teamFTA: int, teamFTM: int, teamFTPerc: double, teamORB: int, teamDRB: int, teamTRB: int, teamPTS1: int, teamPTS2: int, teamPTS3: int, teamPTS4: int, teamPTS5: int, teamPTS6: int, teamPTS7: int, teamPTS8: int, teamTREBPerc: double, teamASSTPerc: double, teamTSPerc: double, teamEFGPerc: double, teamOREBPerc: double, teamDREBPerc: double, teamTOPerc: double, teamSTLPerc: double, teamBLKPerc: double, teamBLKR: double, teamPPS: double, teamFIC: double, teamFIC40: double, teamOrtg: double, teamDrtg: double, teamEDiff: double, teamPlayPerc: double, teamAR: double, teamASTTO: double, teamSTLTO: double, opptAbbr: string, opptConf: string, opptDiv: string, opptLoc: string, opptRslt: string, opptMin: int, opptDayOff: int, opptPTS: int, opptAST: int, opptTO: int, opptSTL: int, opptBLK: int, opptPF: int, opptFGA: int, opptFGM: int, opptFGPerc: double, oppt2PA: int, oppt2PM: int, oppt2PPerc: double, oppt3PA: int, oppt3PM: int, oppt3PPerc: double, opptFTA: int, opptFTM: int, opptFTPerc: double, opptORB: int, opptDRB: int, opptTRB: int, opptPTS1: int, opptPTS2: int, opptPTS3: int, opptPTS4: int, opptPTS5: int, opptPTS6: int, opptPTS7: int, opptPTS8: int, opptTREBPerc: double, opptASSTPerc: double, opptTSPerc: double, opptEFGPerc: double, opptOREBPerc: double, opptDREBPerc: double, opptTOPerc: double, opptSTLPerc: double, opptBLKPerc: double, opptBLKR: double, opptPPS: double, opptFIC: double, opptFIC40: double, opptOrtg: double, opptDrtg: double, opptEDiff: double, opptPlayPerc: double, opptAR: double, opptASTTO: double, opptSTLTO: double, poss: double, pace: double]"
            ]
          },
          "metadata": {
            "tags": []
          },
          "execution_count": 41
        }
      ]
    },
    {
      "metadata": {
        "id": "TRwVRX6iJ8lo",
        "colab_type": "text"
      },
      "cell_type": "markdown",
      "source": [
        "######################################################################################################\n",
        "### For the Box Score preparation - the next set of steps are for the box score data preparation\n",
        "######################################################################################################"
      ]
    },
    {
      "metadata": {
        "id": "lxy4tM_YJ8lp",
        "colab_type": "code",
        "colab": {
          "base_uri": "https://localhost:8080/",
          "height": 224
        },
        "outputId": "854a50eb-9bfd-4926-f9b2-f92f4ced734d"
      },
      "cell_type": "code",
      "source": [
        "# Create column for the \"days since\" the start of the season for 2016/17\n",
        "\n",
        "boxScore1617 = boxScore1617.withColumn('daysSince', datediff(to_date(boxScore1617['gmDate']), to_date(lit('2016-10-25'))))\n",
        "boxScore1617.show(5)"
      ],
      "execution_count": 42,
      "outputs": [
        {
          "output_type": "stream",
          "text": [
            "+-------------------+------+-------+-------+-------+--------+-------+--------+-------+--------+--------+---------+-------+--------+-------+----------+-------+-------+------+-------+-------+------+-------+-------+----------+-------+-------+----------+-------+-------+----------+-------+-------+----------+-------+-------+-------+--------+--------+--------+--------+--------+--------+--------+--------+------------+------------+----------+-----------+------------+------------+----------+-----------+-----------+--------+-------+-------+---------+--------+--------+---------+------------+-------+---------+---------+--------+--------+---------+-------+--------+-------+----------+-------+-------+------+-------+-------+------+-------+-------+----------+-------+-------+----------+-------+-------+----------+-------+-------+----------+-------+-------+-------+--------+--------+--------+--------+--------+--------+--------+--------+------------+------------+----------+-----------+------------+------------+----------+-----------+-----------+--------+-------+-------+---------+--------+--------+---------+------------+-------+---------+---------+--------+--------+---------+\n",
            "|             gmDate|gmTime|seasTyp|offLNm1|offFNm1| offLNm2|offFNm2| offLNm3|offFNm3|teamAbbr|teamConf|  teamDiv|teamLoc|teamRslt|teamMin|teamDayOff|teamPTS|teamAST|teamTO|teamSTL|teamBLK|teamPF|teamFGA|teamFGM|teamFGPerc|team2PA|team2PM|team2PPerc|team3PA|team3PM|team3PPerc|teamFTA|teamFTM|teamFTPerc|teamORB|teamDRB|teamTRB|teamPTS1|teamPTS2|teamPTS3|teamPTS4|teamPTS5|teamPTS6|teamPTS7|teamPTS8|teamTREBPerc|teamASSTPerc|teamTSPerc|teamEFGPerc|teamOREBPerc|teamDREBPerc|teamTOPerc|teamSTLPerc|teamBLKPerc|teamBLKR|teamPPS|teamFIC|teamFIC40|teamOrtg|teamDrtg|teamEDiff|teamPlayPerc| teamAR|teamASTTO|teamSTLTO|opptAbbr|opptConf|  opptDiv|opptLoc|opptRslt|opptMin|opptDayOff|opptPTS|opptAST|opptTO|opptSTL|opptBLK|opptPF|opptFGA|opptFGM|opptFGPerc|oppt2PA|oppt2PM|oppt2PPerc|oppt3PA|oppt3PM|oppt3PPerc|opptFTA|opptFTM|opptFTPerc|opptORB|opptDRB|opptTRB|opptPTS1|opptPTS2|opptPTS3|opptPTS4|opptPTS5|opptPTS6|opptPTS7|opptPTS8|opptTREBPerc|opptASSTPerc|opptTSPerc|opptEFGPerc|opptOREBPerc|opptDREBPerc|opptTOPerc|opptSTLPerc|opptBLKPerc|opptBLKR|opptPPS|opptFIC|opptFIC40|opptOrtg|opptDrtg|opptEDiff|opptPlayPerc| opptAR|opptASTTO|opptSTLTO|    poss|    pace|daysSince|\n",
            "+-------------------+------+-------+-------+-------+--------+-------+--------+-------+--------+--------+---------+-------+--------+-------+----------+-------+-------+------+-------+-------+------+-------+-------+----------+-------+-------+----------+-------+-------+----------+-------+-------+----------+-------+-------+-------+--------+--------+--------+--------+--------+--------+--------+--------+------------+------------+----------+-----------+------------+------------+----------+-----------+-----------+--------+-------+-------+---------+--------+--------+---------+------------+-------+---------+---------+--------+--------+---------+-------+--------+-------+----------+-------+-------+------+-------+-------+------+-------+-------+----------+-------+-------+----------+-------+-------+----------+-------+-------+----------+-------+-------+-------+--------+--------+--------+--------+--------+--------+--------+--------+------------+------------+----------+-----------+------------+------------+----------+-----------+-----------+--------+-------+-------+---------+--------+--------+---------+------------+-------+---------+---------+--------+--------+---------+\n",
            "|2016-10-25 00:00:00| 08:00|Regular|   Lane|   Karl|   Adams| Bennie| Kennedy|   Bill|      NY|    East| Atlantic|   Away|    Loss|    240|         0|     88|     17|    18|      6|      6|    22|     87|     32|    0.3678|     60|     23|    0.3833|     27|      9|    0.3333|     20|     15|      0.75|     13|     29|     42|      18|      27|      19|      24|       0|       0|       0|       0|     45.1613|      53.125|    0.4593|     0.4195|     24.5283|        72.5|   15.8172|     5.9777|     5.9777|    10.0| 1.0115|   50.0|  41.6667| 87.6731|116.5653| -28.8922|      0.3478|12.9969|   0.9444|  33.3333|     CLE|    East|  Central|   Home|     Win|    241|         0|    117|     31|    15|     12|      5|    22|     94|     45|    0.4787|     59|     32|    0.5424|     35|     13|    0.3714|     19|     14|    0.7368|     11|     40|     51|      28|      20|      34|      35|       0|       0|       0|       0|     54.8387|     68.8889|    0.5715|     0.5479|     21.5686|     78.4314|   12.7812|    11.9554|     4.9814|  8.4746| 1.2447|102.375|  84.9585|116.5653| 87.6731|  28.8922|      0.4592|20.8951|   2.0667|     80.0|100.3729|100.3729|        0|\n",
            "|2016-10-25 00:00:00| 08:00|Regular|   Lane|   Karl|   Adams| Bennie| Kennedy|   Bill|     CLE|    East|  Central|   Home|     Win|    241|         0|    117|     31|    15|     12|      5|    22|     94|     45|    0.4787|     59|     32|    0.5424|     35|     13|    0.3714|     19|     14|    0.7368|     11|     40|     51|      28|      20|      34|      35|       0|       0|       0|       0|     54.8387|     68.8889|    0.5715|     0.5479|        27.5|     75.4717|   12.7812|    11.9554|     4.9814|  8.4746| 1.2447|102.375|  84.9585|116.5653| 87.6731|  28.8922|      0.4592|20.8951|   2.0667|     80.0|      NY|    East| Atlantic|   Away|    Loss|    240|         0|     88|     17|    18|      6|      6|    22|     87|     32|    0.3678|     60|     23|    0.3833|     27|      9|    0.3333|     20|     15|      0.75|     13|     29|     42|      18|      27|      19|      24|       0|       0|       0|       0|     45.1613|      53.125|    0.4593|     0.4195|     30.9524|     69.0476|   15.8172|     5.9777|     5.9777|    10.0| 1.0115|   50.0|  41.6667| 87.6731|116.5653| -28.8922|      0.3478|12.9969|   0.9444|  33.3333|100.3729| 99.9564|        0|\n",
            "|2016-10-25 00:00:00| 10:00|Regular|Buchert|   Nick|Callahan|   Mike|   Brown|   Tony|     UTA|    West|Northwest|   Away|    Loss|    241|         0|    104|     19|    14|      9|      5|    19|     82|     40|    0.4878|     58|     32|    0.5517|     24|      8|    0.3333|     16|     16|       1.0|      6|     25|     31|      26|      20|      37|      21|       0|       0|       0|       0|     47.6923|        47.5|     0.584|     0.5366|     17.1429|     83.3333|    13.587|     9.7257|     5.4032|  8.6207| 1.2683|  70.75|  58.7137|112.3863| 122.112|  -9.7257|      0.4444|15.5687|   1.3571|  64.2857|     POR|    West|Northwest|   Home|     Win|    239|         0|    113|     22|    13|      5|      3|    18|     75|     39|      0.52|     56|     26|    0.4643|     19|     13|    0.6842|     22|     22|       1.0|      5|     29|     34|      26|      28|      23|      36|       0|       0|       0|       0|     52.3077|     56.4103|    0.6672|     0.6067|     14.7059|     85.2941|   13.3088|     5.4032|     3.2419|  5.3571| 1.5067|  83.25|  69.6653| 122.112|112.3863|   9.7257|      0.4699|18.3824|   1.6923|  38.4615|  92.538|  92.154|        0|\n",
            "|2016-10-25 00:00:00| 10:00|Regular|Buchert|   Nick|Callahan|   Mike|   Brown|   Tony|     POR|    West|Northwest|   Home|     Win|    239|         0|    113|     22|    13|      5|      3|    18|     75|     39|      0.52|     56|     26|    0.4643|     19|     13|    0.6842|     22|     22|       1.0|      5|     29|     34|      26|      28|      23|      36|       0|       0|       0|       0|     52.3077|     56.4103|    0.6672|     0.6067|     16.6667|     82.8571|   13.3088|     5.4032|     3.2419|  5.3571| 1.5067|  83.25|  69.6653| 122.112|112.3863|   9.7257|      0.4699|18.3824|   1.6923|  38.4615|     UTA|    West|Northwest|   Away|    Loss|    241|         0|    104|     19|    14|      9|      5|    19|     82|     40|    0.4878|     58|     32|    0.5517|     24|      8|    0.3333|     16|     16|       1.0|      6|     25|     31|      26|      20|      37|      21|       0|       0|       0|       0|     47.6923|        47.5|     0.584|     0.5366|     19.3548|     80.6452|    13.587|     9.7257|     5.4032|  8.6207| 1.2683|  70.75|  58.7137|112.3863| 122.112|  -9.7257|      0.4444|15.5687|   1.3571|  64.2857|  92.538| 92.9252|        0|\n",
            "|2016-10-25 00:00:00| 10:30|Regular| Maddox|    Tre|  Fraher|    Pat|Crawford|    Dan|      SA|    West|Southwest|   Away|     Win|    240|         0|    129|     25|    14|     13|      3|    19|     98|     47|    0.4796|     74|     35|     0.473|     24|     12|       0.5|     26|     23|    0.8846|     21|     34|     55|      31|      33|      33|      32|       0|       0|       0|       0|     61.1111|     53.1915|    0.5894|     0.5408|       43.75|     80.9524|   11.3415|     13.161|     3.0372|  4.0541| 1.3163| 109.75|  91.4583|130.5979|101.2387|  29.3592|      0.5165|16.8418|   1.7857|  92.8571|      GS|    West|  Pacific|   Home|    Loss|    241|         0|    100|     24|    16|     11|      6|    19|     85|     40|    0.4706|     52|     33|    0.6346|     33|      7|    0.2121|     18|     13|    0.7222|      8|     27|     35|      20|      26|      31|      23|       0|       0|       0|       0|     38.8889|        60.0|    0.5381|     0.5118|     22.8571|     77.1429|   14.6897|    11.1363|     6.0743| 11.5385| 1.1765|  73.25|  60.7884|101.2387|130.5979| -29.3592|      0.4301| 18.056|      1.5|    68.75| 98.7765| 98.7765|        0|\n",
            "+-------------------+------+-------+-------+-------+--------+-------+--------+-------+--------+--------+---------+-------+--------+-------+----------+-------+-------+------+-------+-------+------+-------+-------+----------+-------+-------+----------+-------+-------+----------+-------+-------+----------+-------+-------+-------+--------+--------+--------+--------+--------+--------+--------+--------+------------+------------+----------+-----------+------------+------------+----------+-----------+-----------+--------+-------+-------+---------+--------+--------+---------+------------+-------+---------+---------+--------+--------+---------+-------+--------+-------+----------+-------+-------+------+-------+-------+------+-------+-------+----------+-------+-------+----------+-------+-------+----------+-------+-------+----------+-------+-------+-------+--------+--------+--------+--------+--------+--------+--------+--------+------------+------------+----------+-----------+------------+------------+----------+-----------+-----------+--------+-------+-------+---------+--------+--------+---------+------------+-------+---------+---------+--------+--------+---------+\n",
            "only showing top 5 rows\n",
            "\n"
          ],
          "name": "stdout"
        }
      ]
    },
    {
      "metadata": {
        "id": "-q3SvTxdJ8lv",
        "colab_type": "code",
        "colab": {
          "base_uri": "https://localhost:8080/",
          "height": 224
        },
        "outputId": "b8e03b54-9ce9-4a64-a833-96175fc79b6e"
      },
      "cell_type": "code",
      "source": [
        "# Create column for the \"days since\" the start of the season for 2017/18\n",
        "\n",
        "boxScore1718 = boxScore1718.withColumn('daysSince', datediff(to_date(boxScore1718['gmDate']), to_date(lit('2016-10-17'))))\n",
        "boxScore1718.show(5)"
      ],
      "execution_count": 43,
      "outputs": [
        {
          "output_type": "stream",
          "text": [
            "+-------------------+------+-------+-------+-------+---------+-------+---------+-------+--------+--------+---------+-------+--------+-------+----------+-------+-------+------+-------+-------+------+-------+-------+----------+-------+-------+----------+-------+-------+----------+-------+-------+----------+-------+-------+-------+--------+--------+--------+--------+--------+--------+--------+--------+------------+------------+----------+-----------+------------+------------+----------+-----------+-----------+--------+-------+-------+---------+--------+--------+---------+------------+-------+---------+---------+--------+--------+---------+-------+--------+-------+----------+-------+-------+------+-------+-------+------+-------+-------+----------+-------+-------+----------+-------+-------+----------+-------+-------+----------+-------+-------+-------+--------+--------+--------+--------+--------+--------+--------+--------+------------+------------+----------+-----------+------------+------------+----------+-----------+-----------+--------+-------+-------+---------+--------+--------+---------+------------+-------+---------+---------+--------+--------+---------+\n",
            "|             gmDate|gmTime|seasTyp|offLNm1|offFNm1|  offLNm2|offFNm2|  offLNm3|offFNm3|teamAbbr|teamConf|  teamDiv|teamLoc|teamRslt|teamMin|teamDayOff|teamPTS|teamAST|teamTO|teamSTL|teamBLK|teamPF|teamFGA|teamFGM|teamFGPerc|team2PA|team2PM|team2PPerc|team3PA|team3PM|team3PPerc|teamFTA|teamFTM|teamFTPerc|teamORB|teamDRB|teamTRB|teamPTS1|teamPTS2|teamPTS3|teamPTS4|teamPTS5|teamPTS6|teamPTS7|teamPTS8|teamTREBPerc|teamASSTPerc|teamTSPerc|teamEFGPerc|teamOREBPerc|teamDREBPerc|teamTOPerc|teamSTLPerc|teamBLKPerc|teamBLKR|teamPPS|teamFIC|teamFIC40|teamOrtg|teamDrtg|teamEDiff|teamPlayPerc| teamAR|teamASTTO|teamSTLTO|opptAbbr|opptConf|  opptDiv|opptLoc|opptRslt|opptMin|opptDayOff|opptPTS|opptAST|opptTO|opptSTL|opptBLK|opptPF|opptFGA|opptFGM|opptFGPerc|oppt2PA|oppt2PM|oppt2PPerc|oppt3PA|oppt3PM|oppt3PPerc|opptFTA|opptFTM|opptFTPerc|opptORB|opptDRB|opptTRB|opptPTS1|opptPTS2|opptPTS3|opptPTS4|opptPTS5|opptPTS6|opptPTS7|opptPTS8|opptTREBPerc|opptASSTPerc|opptTSPerc|opptEFGPerc|opptOREBPerc|opptDREBPerc|opptTOPerc|opptSTLPerc|opptBLKPerc|opptBLKR|opptPPS|opptFIC|opptFIC40|opptOrtg|opptDrtg|opptEDiff|opptPlayPerc| opptAR|opptASTTO|opptSTLTO|    poss|    pace|daysSince|\n",
            "+-------------------+------+-------+-------+-------+---------+-------+---------+-------+--------+--------+---------+-------+--------+-------+----------+-------+-------+------+-------+-------+------+-------+-------+----------+-------+-------+----------+-------+-------+----------+-------+-------+----------+-------+-------+-------+--------+--------+--------+--------+--------+--------+--------+--------+------------+------------+----------+-----------+------------+------------+----------+-----------+-----------+--------+-------+-------+---------+--------+--------+---------+------------+-------+---------+---------+--------+--------+---------+-------+--------+-------+----------+-------+-------+------+-------+-------+------+-------+-------+----------+-------+-------+----------+-------+-------+----------+-------+-------+----------+-------+-------+-------+--------+--------+--------+--------+--------+--------+--------+--------+------------+------------+----------+-----------+------------+------------+----------+-----------+-----------+--------+-------+-------+---------+--------+--------+---------+------------+-------+---------+---------+--------+--------+---------+\n",
            "|2017-10-17 00:00:00| 08:00|Regular|  Forte|  Brian|    Smith|Michael|McCutchen|  Monty|     BOS|    East| Atlantic|   Away|    Loss|    241|         0|     99|     24|    12|     11|      4|    24|     88|     36|    0.4091|     56|     28|       0.5|     32|      8|      0.25|     25|     19|      0.76|      9|     37|     46|      19|      19|      33|      28|       0|       0|       0|       0|     47.9167|     66.6667|       0.5|     0.4545|        18.0|     80.4348|   10.8108|    10.9692|     3.9888|  7.1429|  1.125| 75.375|  62.5519| 98.7227|101.7143|  -2.9916|      0.3956|17.7778|      2.0|  91.6667|     CLE|    East|  Central|   Home|     Win|    240|         0|    102|     19|    17|      3|      4|    25|     83|     38|    0.4578|     61|     33|     0.541|     22|      5|    0.2273|     25|     21|      0.84|      9|     41|     50|      29|      25|      18|      30|       0|       0|       0|       0|     52.0833|        50.0|    0.5426|      0.488|        18.0|        82.0|   15.3153|     2.9916|     3.9888|  6.5574| 1.2289| 66.625|  55.5208|101.7143| 98.7227|   2.9916|      0.4176|14.6154|   1.1176|  17.6471|100.2809| 99.8648|      365|\n",
            "|2017-10-17 00:00:00| 08:00|Regular|  Forte|  Brian|    Smith|Michael|McCutchen|  Monty|     CLE|    East|  Central|   Home|     Win|    240|         0|    102|     19|    17|      3|      4|    25|     83|     38|    0.4578|     61|     33|     0.541|     22|      5|    0.2273|     25|     21|      0.84|      9|     41|     50|      29|      25|      18|      30|       0|       0|       0|       0|     52.0833|        50.0|    0.5426|      0.488|     19.5652|        82.0|   15.3153|     2.9916|     3.9888|  6.5574| 1.2289| 66.625|  55.5208|101.7143| 98.7227|   2.9916|      0.4176|14.6154|   1.1176|  17.6471|     BOS|    East| Atlantic|   Away|    Loss|    241|         0|     99|     24|    12|     11|      4|    24|     88|     36|    0.4091|     56|     28|       0.5|     32|      8|      0.25|     25|     19|      0.76|      9|     37|     46|      19|      19|      33|      28|       0|       0|       0|       0|     47.9167|     66.6667|       0.5|     0.4545|     19.5652|     80.4348|   10.8108|    10.9692|     3.9888|  7.1429|  1.125| 75.375|  62.5519| 98.7227|101.7143|  -2.9916|      0.3956|17.7778|      2.0|  91.6667|100.2809|100.2809|      365|\n",
            "|2017-10-17 00:00:00| 10:30|Regular| Maddox|    Tre|Garretson|    Ron|   Foster|  Scott|     HOU|    West|Southwest|   Away|     Win|    239|         0|    122|     28|    13|      9|      5|    16|     97|     47|    0.4845|     56|     32|    0.5714|     41|     15|    0.3659|     19|     13|    0.6842|     10|     33|     43|      34|      28|      26|      34|       0|       0|       0|       0|     51.1905|     59.5745|     0.579|     0.5619|     22.2222|     84.6154|   10.9834|     8.7795|     4.8775|  8.9286| 1.2577| 97.875|  81.9038|119.0108|118.0353|   0.9755|        0.47|19.1309|   2.1538|  69.2308|      GS|    West|  Pacific|   Home|    Loss|    241|         0|    121|     34|    17|      5|      9|    25|     80|     43|    0.5375|     50|     27|      0.54|     30|     16|    0.5333|     21|     19|    0.9048|      6|     35|     41|      35|      36|      30|      20|       0|       0|       0|       0|     48.8095|     79.0698|    0.6779|     0.6375|     14.6341|     85.3659|   16.0015|     4.8775|     8.7795|    18.0| 1.5125|103.875|  86.2033|118.0353|119.0108|  -0.9755|      0.4725|24.2442|      2.0|  29.4118|102.5117|102.9406|      365|\n",
            "|2017-10-17 00:00:00| 10:30|Regular| Maddox|    Tre|Garretson|    Ron|   Foster|  Scott|      GS|    West|  Pacific|   Home|    Loss|    241|         0|    121|     34|    17|      5|      9|    25|     80|     43|    0.5375|     50|     27|      0.54|     30|     16|    0.5333|     21|     19|    0.9048|      6|     35|     41|      35|      36|      30|      20|       0|       0|       0|       0|     48.8095|     79.0698|    0.6779|     0.6375|     15.3846|     77.7778|   16.0015|     4.8775|     8.7795|    18.0| 1.5125|103.875|  86.2033|118.0353|119.0108|  -0.9755|      0.4725|24.2442|      2.0|  29.4118|     HOU|    West|Southwest|   Away|     Win|    239|         0|    122|     28|    13|      9|      5|    16|     97|     47|    0.4845|     56|     32|    0.5714|     41|     15|    0.3659|     19|     13|    0.6842|     10|     33|     43|      34|      28|      26|      34|       0|       0|       0|       0|     51.1905|     59.5745|     0.579|     0.5619|     23.2558|     76.7442|   10.9834|     8.7795|     4.8775|  8.9286| 1.2577| 97.875|  81.9038|119.0108|118.0353|   0.9755|        0.47|19.1309|   2.1538|  69.2308|102.5117|102.0863|      365|\n",
            "|2017-10-18 00:00:00| 07:00|Regular|  Davis|   Marc|   Boland|   Matt|   DeRosa|    Joe|     CHA|    East|Southeast|   Away|    Loss|    238|         0|     90|     16|    17|      4|      3|    15|     73|     29|    0.3973|     43|     20|    0.4651|     30|      9|       0.3|     29|     23|    0.7931|      3|     44|     47|      27|      18|      25|      20|       0|       0|       0|       0|        50.0|     55.1724|    0.5247|     0.4589|      7.3171|     83.0189|   16.5434|     4.0412|     3.0309|  6.9767| 1.2329| 58.875|  49.4748|  90.927|103.0506| -12.1236|      0.3333|13.4725|   0.9412|  23.5294|     DET|    East|  Central|   Home|     Win|    239|         0|    102|     24|     9|     14|      3|    21|     96|     41|    0.4271|     70|     32|    0.4571|     26|      9|    0.3462|     12|     11|    0.9167|      9|     38|     47|      29|      27|      26|      20|       0|       0|       0|       0|        50.0|     58.5366|    0.5036|      0.474|     19.1489|     80.8511|     8.161|    14.1442|     3.0309|  4.2857| 1.0625|   84.5|  70.7113|103.0506|  90.927|  12.1236|      0.4271|17.8731|   2.6667| 155.5556| 98.9805| 99.8123|      366|\n",
            "+-------------------+------+-------+-------+-------+---------+-------+---------+-------+--------+--------+---------+-------+--------+-------+----------+-------+-------+------+-------+-------+------+-------+-------+----------+-------+-------+----------+-------+-------+----------+-------+-------+----------+-------+-------+-------+--------+--------+--------+--------+--------+--------+--------+--------+------------+------------+----------+-----------+------------+------------+----------+-----------+-----------+--------+-------+-------+---------+--------+--------+---------+------------+-------+---------+---------+--------+--------+---------+-------+--------+-------+----------+-------+-------+------+-------+-------+------+-------+-------+----------+-------+-------+----------+-------+-------+----------+-------+-------+----------+-------+-------+-------+--------+--------+--------+--------+--------+--------+--------+--------+------------+------------+----------+-----------+------------+------------+----------+-----------+-----------+--------+-------+-------+---------+--------+--------+---------+------------+-------+---------+---------+--------+--------+---------+\n",
            "only showing top 5 rows\n",
            "\n"
          ],
          "name": "stdout"
        }
      ]
    },
    {
      "metadata": {
        "id": "vwWm22uQJ8l1",
        "colab_type": "code",
        "colab": {
          "base_uri": "https://localhost:8080/",
          "height": 68
        },
        "outputId": "2d2bfbd6-4dfc-4df8-81d2-19c6b901474a"
      },
      "cell_type": "code",
      "source": [
        "# Merge the two years dataframes of Games Played data\n",
        "boxScoreAll = boxScore1617.union(boxScore1718)\n",
        "\n",
        "print(\"Box Score 1617:\", boxScore1617.count())\n",
        "print(\"Box Score 1718:\", boxScore1718.count())\n",
        "print(\"Box Score All:\", boxScoreAll.count())"
      ],
      "execution_count": 44,
      "outputs": [
        {
          "output_type": "stream",
          "text": [
            "Box Score 1617: 2460\n",
            "Box Score 1718: 2460\n",
            "Box Score All: 4920\n"
          ],
          "name": "stdout"
        }
      ]
    },
    {
      "metadata": {
        "id": "yVWyNYoIJ8l-",
        "colab_type": "code",
        "colab": {
          "base_uri": "https://localhost:8080/",
          "height": 34
        },
        "outputId": "4398c616-2533-452e-88c6-1bfa1acfa66d"
      },
      "cell_type": "code",
      "source": [
        "# Remove all the \"Away\" perspective records by selecting only the \"Home\" records\n",
        "boxScoreAll = boxScoreAll.filter('teamLoc = \"Home\"')\n",
        "print(\"Box Score All:\", boxScoreAll.count())"
      ],
      "execution_count": 45,
      "outputs": [
        {
          "output_type": "stream",
          "text": [
            "Box Score All: 2460\n"
          ],
          "name": "stdout"
        }
      ]
    },
    {
      "metadata": {
        "id": "2qYz2L3pJ8mD",
        "colab_type": "code",
        "colab": {
          "base_uri": "https://localhost:8080/",
          "height": 376
        },
        "outputId": "fd8066a2-bf90-4f8c-d865-a1dd51fcfe53"
      },
      "cell_type": "code",
      "source": [
        "# Visualize the Outliers\n",
        "\n",
        "myBS = pd.DataFrame(boxScoreAll.take(5000))\n",
        "\n",
        "plotData = pd.DataFrame(myBS, columns = [13, 16]).rename(inplace=False, index = str, columns = {13:\"teamRslt\",16:'teamPTS'}).pivot(columns='teamRslt')\n",
        "\n",
        "# Remove the NaN values from the array and make into a list because they will not be the same length\n",
        "plotdata = np.array(plotData)\n",
        "mask = ~np.isnan(plotdata)\n",
        "plotdata = [d[m] for d, m in zip(plotdata.T, mask.T)]\n",
        "\n",
        "fig, axes = plt.subplots(nrows=1, ncols=2, sharey=True)\n",
        "axes[0].boxplot(plotdata, showfliers = True, labels=list('LW'))\n",
        "axes[0].set_title(\"Scores by Result\\nfor Home team\")\n",
        "\n",
        "# Repeat again for the away team\n",
        "plotData = pd.DataFrame(myBS, columns = [69, 72]).rename(inplace=False, index = str, columns = {69:\"teamRslt\",72:'teamPTS'}).pivot(columns='teamRslt')\n",
        "plotdata = np.array(plotData)\n",
        "mask = ~np.isnan(plotdata)\n",
        "plotdata = [d[m] for d, m in zip(plotdata.T, mask.T)]\n",
        "\n",
        "axes[1].boxplot(plotdata, showfliers = True, labels=list('LW'))\n",
        "axes[1].set_title(\"Scores by Result\\nfor Away team\")\n",
        "\n",
        "fig.subplots_adjust(hspace=50)\n",
        "plt.show()"
      ],
      "execution_count": 46,
      "outputs": [
        {
          "output_type": "display_data",
          "data": {
            "image/png": "[encoded data removed]",
            "text/plain": [
              "<matplotlib.figure.Figure at 0x7f5af43d7ef0>"
            ]
          },
          "metadata": {
            "tags": []
          }
        }
      ]
    },
    {
      "metadata": {
        "id": "GNPAuPx7J8mK",
        "colab_type": "code",
        "colab": {}
      },
      "cell_type": "code",
      "source": [
        "# Compare Home Win/Loss record with scatterplot\n",
        "\n",
        "\n",
        "\n",
        "\n",
        "\n",
        "\n",
        "# To do\n",
        "\n",
        "\n"
      ],
      "execution_count": 0,
      "outputs": []
    },
    {
      "metadata": {
        "id": "g8nYau_NJ8mP",
        "colab_type": "code",
        "colab": {
          "base_uri": "https://localhost:8080/",
          "height": 204
        },
        "outputId": "e1d82726-bc9a-420c-bf6f-04e2618d5d0c"
      },
      "cell_type": "code",
      "source": [
        "# Remove the columns that are not known before the game starts by selecting the columns that do.\n",
        "boxScoreAll = boxScoreAll.select('gmDate','gmTime','seasTyp','offLNm1','offFNm1','offLNm2','offFNm2','offLNm3','offFNm3','teamAbbr','teamConf','teamDiv','teamLoc','teamRslt','teamDayOff','opptAbbr','opptConf','opptDiv','opptLoc','opptDayOff','daysSince')\n",
        "boxScoreAll.show(5)"
      ],
      "execution_count": 47,
      "outputs": [
        {
          "output_type": "stream",
          "text": [
            "+-------------------+------+-------+--------+-------+--------+-------+----------+-------+--------+--------+---------+-------+--------+----------+--------+--------+---------+-------+----------+---------+\n",
            "|             gmDate|gmTime|seasTyp| offLNm1|offFNm1| offLNm2|offFNm2|   offLNm3|offFNm3|teamAbbr|teamConf|  teamDiv|teamLoc|teamRslt|teamDayOff|opptAbbr|opptConf|  opptDiv|opptLoc|opptDayOff|daysSince|\n",
            "+-------------------+------+-------+--------+-------+--------+-------+----------+-------+--------+--------+---------+-------+--------+----------+--------+--------+---------+-------+----------+---------+\n",
            "|2016-10-25 00:00:00| 08:00|Regular|    Lane|   Karl|   Adams| Bennie|   Kennedy|   Bill|     CLE|    East|  Central|   Home|     Win|         0|      NY|    East| Atlantic|   Away|         0|        0|\n",
            "|2016-10-25 00:00:00| 10:00|Regular| Buchert|   Nick|Callahan|   Mike|     Brown|   Tony|     POR|    West|Northwest|   Home|     Win|         0|     UTA|    West|Northwest|   Away|         0|        0|\n",
            "|2016-10-25 00:00:00| 10:30|Regular|  Maddox|    Tre|  Fraher|    Pat|  Crawford|    Dan|      GS|    West|  Pacific|   Home|    Loss|         0|      SA|    West|Southwest|   Away|         0|        0|\n",
            "|2016-10-26 00:00:00| 07:00|Regular|   Tiven|   Josh|    Ford|  Tyler|   Kennedy|   Bill|     IND|    East|  Central|   Home|     Win|         0|     DAL|    West|Southwest|   Away|         0|        1|\n",
            "|2016-10-26 00:00:00| 07:00|Regular|VanDuyne| Justin|  Corbin|   Sean|Washington|    Tom|     ORL|    East|Southeast|   Home|    Loss|         0|     MIA|    East|Southeast|   Away|         0|        1|\n",
            "+-------------------+------+-------+--------+-------+--------+-------+----------+-------+--------+--------+---------+-------+--------+----------+--------+--------+---------+-------+----------+---------+\n",
            "only showing top 5 rows\n",
            "\n"
          ],
          "name": "stdout"
        }
      ]
    },
    {
      "metadata": {
        "id": "MJDdhpYsE50q",
        "colab_type": "code",
        "colab": {}
      },
      "cell_type": "code",
      "source": [
        "# Find any cells that are null"
      ],
      "execution_count": 0,
      "outputs": []
    },
    {
      "metadata": {
        "id": "ZNqd9dk3E-GG",
        "colab_type": "code",
        "colab": {}
      },
      "cell_type": "code",
      "source": [
        "# Populate the null cells with data gathered from the NBA"
      ],
      "execution_count": 0,
      "outputs": []
    },
    {
      "metadata": {
        "id": "pzAlvxVnJ8mT",
        "colab_type": "code",
        "colab": {
          "base_uri": "https://localhost:8080/",
          "height": 255
        },
        "outputId": "ea8db173-4406-41ac-90b0-ca3a9b1a6a15"
      },
      "cell_type": "code",
      "source": [
        "# Fix the rows that have the wrong times - they need 12hr deducted from their times\n",
        "boxScoreAll.filter('gmTime > \"12:30\"').select('gmtime').show()\n",
        "\n",
        "boxScoreAll = boxScoreAll.withColumn(\"gmTime\", when(boxScoreAll[\"gmTime\"] > '12:30', boxScoreAll[\"gmTime\"] - '12:00').otherwise(boxScoreAll[\"gmTime\"]))\n",
        "\n",
        "boxScoreAll.filter('gmTime > \"12:30\"').select('gmtime').show()"
      ],
      "execution_count": 50,
      "outputs": [
        {
          "output_type": "stream",
          "text": [
            "+------+\n",
            "|gmtime|\n",
            "+------+\n",
            "| 18:00|\n",
            "| 18:00|\n",
            "| 19:00|\n",
            "| 19:00|\n",
            "+------+\n",
            "\n",
            "+------+\n",
            "|gmtime|\n",
            "+------+\n",
            "+------+\n",
            "\n"
          ],
          "name": "stdout"
        }
      ]
    },
    {
      "metadata": {
        "id": "6Yxp909zJ8mX",
        "colab_type": "code",
        "colab": {}
      },
      "cell_type": "code",
      "source": [
        "# Compare Home Win/Loss record with bar graph\n",
        "\n",
        "\n",
        "\n",
        "\n",
        "\n",
        "\n",
        "# To do\n",
        "\n",
        "\n"
      ],
      "execution_count": 0,
      "outputs": []
    },
    {
      "metadata": {
        "id": "cSYh51zpJ8mc",
        "colab_type": "text"
      },
      "cell_type": "markdown",
      "source": [
        "######################################################################################################\n",
        "### For the Standings preparation - the next set of steps are for the standings data preparation\n",
        "######################################################################################################"
      ]
    },
    {
      "metadata": {
        "id": "0fBJe-IAJ8md",
        "colab_type": "code",
        "colab": {
          "base_uri": "https://localhost:8080/",
          "height": 326
        },
        "outputId": "472316d7-8016-4128-90ff-68c01f69a4ba"
      },
      "cell_type": "code",
      "source": [
        "# Join the two years datasets\n",
        "standingsAll = standings1617.union(standings1718)\n",
        "standingsAll.show(1)\n",
        "\n",
        "# Rename the 'teamAbbr' column to prevent clash later\n",
        "standingsAll = standingsAll.withColumnRenamed('teamAbbr', 'steamAbbr')\n",
        "standingsAll.show(1)\n",
        "\n",
        "print(\"Standings 1617:\", standings1617.count())\n",
        "print(\"Standings 1718:\", standings1718.count()) \n",
        "# There are more standings rows in the 17/18 dataset because the season runs for a week longer\n",
        "print(\"Standings All:\", standingsAll.count())"
      ],
      "execution_count": 51,
      "outputs": [
        {
          "output_type": "stream",
          "text": [
            "+-------------------+--------+----+-------+-------+--------+---+-------+------+--------+------+--------+-------+--------+-------+--------+-------+--------+--------+-------+--------+--------+--------+-------+----------+---------+--------------+-------------+---+-----------+---+---+------+------------+---------+---------+-----------+--------+--------+\n",
            "|             stDate|teamAbbr|rank|rankOrd|gameWon|gameLost|stk|stkType|stkTot|gameBack|ptsFor|ptsAgnst|homeWin|homeLoss|awayWin|awayLoss|confWin|confLoss|lastFive|lastTen|gamePlay|ptsScore|ptsAllow|ptsDiff|opptGmPlay|opptGmWon|opptOpptGmPlay|opptOpptGmWon|sos|relPercIndx|mov|srs|pwPerc|pythPerc1391|wpyth1391|lpyth1391|pythPerc165|wpyth165|lpyth165|\n",
            "+-------------------+--------+----+-------+-------+--------+---+-------+------+--------+------+--------+-------+--------+-------+--------+-------+--------+--------+-------+--------+--------+--------+-------+----------+---------+--------------+-------------+---+-----------+---+---+------+------------+---------+---------+-----------+--------+--------+\n",
            "|2016-10-24 00:00:00|     ATL|   1|    1st|      0|       0|  -|      -|     0|     0.0|     0|       0|      0|       0|      0|       0|      0|       0|       0|      0|       0|     0.0|     0.0|    0.0|         0|        0|             0|            0|0.0|        0.0|0.0|0.0|   0.5|         0.0|      0.0|     82.0|        0.0|     0.0|    82.0|\n",
            "+-------------------+--------+----+-------+-------+--------+---+-------+------+--------+------+--------+-------+--------+-------+--------+-------+--------+--------+-------+--------+--------+--------+-------+----------+---------+--------------+-------------+---+-----------+---+---+------+------------+---------+---------+-----------+--------+--------+\n",
            "only showing top 1 row\n",
            "\n",
            "+-------------------+---------+----+-------+-------+--------+---+-------+------+--------+------+--------+-------+--------+-------+--------+-------+--------+--------+-------+--------+--------+--------+-------+----------+---------+--------------+-------------+---+-----------+---+---+------+------------+---------+---------+-----------+--------+--------+\n",
            "|             stDate|steamAbbr|rank|rankOrd|gameWon|gameLost|stk|stkType|stkTot|gameBack|ptsFor|ptsAgnst|homeWin|homeLoss|awayWin|awayLoss|confWin|confLoss|lastFive|lastTen|gamePlay|ptsScore|ptsAllow|ptsDiff|opptGmPlay|opptGmWon|opptOpptGmPlay|opptOpptGmWon|sos|relPercIndx|mov|srs|pwPerc|pythPerc1391|wpyth1391|lpyth1391|pythPerc165|wpyth165|lpyth165|\n",
            "+-------------------+---------+----+-------+-------+--------+---+-------+------+--------+------+--------+-------+--------+-------+--------+-------+--------+--------+-------+--------+--------+--------+-------+----------+---------+--------------+-------------+---+-----------+---+---+------+------------+---------+---------+-----------+--------+--------+\n",
            "|2016-10-24 00:00:00|      ATL|   1|    1st|      0|       0|  -|      -|     0|     0.0|     0|       0|      0|       0|      0|       0|      0|       0|       0|      0|       0|     0.0|     0.0|    0.0|         0|        0|             0|            0|0.0|        0.0|0.0|0.0|   0.5|         0.0|      0.0|     82.0|        0.0|     0.0|    82.0|\n",
            "+-------------------+---------+----+-------+-------+--------+---+-------+------+--------+------+--------+-------+--------+-------+--------+-------+--------+--------+-------+--------+--------+--------+-------+----------+---------+--------------+-------------+---+-----------+---+---+------+------------+---------+---------+-----------+--------+--------+\n",
            "only showing top 1 row\n",
            "\n",
            "Standings 1617: 4980\n",
            "Standings 1718: 5190\n",
            "Standings All: 10170\n"
          ],
          "name": "stdout"
        }
      ]
    },
    {
      "metadata": {
        "id": "PF2PgEGeJ8mn",
        "colab_type": "text"
      },
      "cell_type": "markdown",
      "source": [
        "##################################################################################\n",
        "### Merge the standings data into the box score data\n",
        "##################################################################################"
      ]
    },
    {
      "metadata": {
        "id": "Jj9pkj9nJ8mr",
        "colab_type": "code",
        "colab": {
          "base_uri": "https://localhost:8080/",
          "height": 51
        },
        "outputId": "2949b054-29de-4e8f-9940-d081d848203c"
      },
      "cell_type": "code",
      "source": [
        "# Home team data\n",
        "boxWithStand = boxScoreAll.join(standingsAll, (boxScoreAll.teamAbbr == standingsAll.steamAbbr) & (date_sub(boxScoreAll.gmDate, 1) == to_date(standingsAll.stDate)))\n",
        "print(boxScoreAll.count())\n",
        "print(boxWithStand.count())"
      ],
      "execution_count": 52,
      "outputs": [
        {
          "output_type": "stream",
          "text": [
            "2460\n",
            "2460\n"
          ],
          "name": "stdout"
        }
      ]
    },
    {
      "metadata": {
        "id": "pYYslzkfJ8mx",
        "colab_type": "code",
        "colab": {
          "base_uri": "https://localhost:8080/",
          "height": 51
        },
        "outputId": "2aa013ae-c5b3-4761-d28c-b9aabf7c1a07"
      },
      "cell_type": "code",
      "source": [
        "# Away team data\n",
        "\n",
        "# Rename columns by adding a suffix so that there are no name clashes\n",
        "opptStandings = standingsAll.select(*(col(x).alias(x + '_oppt') for x in standingsAll.columns))\n",
        "\n",
        "# Join the tables\n",
        "boxWithStand = boxWithStand.join(opptStandings, (boxScoreAll.opptAbbr == opptStandings.steamAbbr_oppt) & (date_sub(boxScoreAll.gmDate, 1) == to_date(opptStandings.stDate_oppt)))\n",
        "print(boxScoreAll.count())\n",
        "print(boxWithStand.count())\n"
      ],
      "execution_count": 53,
      "outputs": [
        {
          "output_type": "stream",
          "text": [
            "2460\n",
            "2460\n"
          ],
          "name": "stdout"
        }
      ]
    },
    {
      "metadata": {
        "id": "mJfawUlYJ8m1",
        "colab_type": "code",
        "colab": {}
      },
      "cell_type": "code",
      "source": [
        "# Compare Win/Loss record with rank\n",
        "\n",
        "\n",
        "\n",
        "\n",
        "\n",
        "\n",
        "# To do\n",
        "\n",
        "\n"
      ],
      "execution_count": 0,
      "outputs": []
    },
    {
      "metadata": {
        "id": "Rqm9y-HHJ8m4",
        "colab_type": "text"
      },
      "cell_type": "markdown",
      "source": [
        "##################################################################################\n",
        "\n",
        "Split the data and prepare for Machine Learning\n",
        "##################################################################################"
      ]
    },
    {
      "metadata": {
        "id": "t8oRT_vMJ8m5",
        "colab_type": "code",
        "colab": {}
      },
      "cell_type": "code",
      "source": [
        "##############\n",
        "# Training data - get all the rows that are pre 2018-01-01"
      ],
      "execution_count": 0,
      "outputs": []
    },
    {
      "metadata": {
        "id": "hejnUE53J8m_",
        "colab_type": "code",
        "colab": {
          "base_uri": "https://localhost:8080/",
          "height": 34
        },
        "outputId": "bd37cec9-7ca4-40df-c0ae-da1462082099"
      },
      "cell_type": "code",
      "source": [
        "trainingData = boxWithStand.filter('gmDate < \"2018-01-01\"')\n",
        "trainingData.count()"
      ],
      "execution_count": 55,
      "outputs": [
        {
          "output_type": "execute_result",
          "data": {
            "text/plain": [
              "1774"
            ]
          },
          "metadata": {
            "tags": []
          },
          "execution_count": 55
        }
      ]
    },
    {
      "metadata": {
        "id": "rMEa9AcRJ8nE",
        "colab_type": "code",
        "colab": {}
      },
      "cell_type": "code",
      "source": [
        "##############\n",
        "# Test data - get all the rows that are between 2018-01-01 and 2018-02-07"
      ],
      "execution_count": 0,
      "outputs": []
    },
    {
      "metadata": {
        "id": "4FugAmpHJ8nH",
        "colab_type": "code",
        "colab": {
          "base_uri": "https://localhost:8080/",
          "height": 34
        },
        "outputId": "40313dcf-55ba-42bb-cf03-96dd02d1f2aa"
      },
      "cell_type": "code",
      "source": [
        "testData = boxWithStand.filter('gmDate >= \"2018-01-01\" AND gmDate <= \"2018-02-07\"')\n",
        "testData.count()"
      ],
      "execution_count": 57,
      "outputs": [
        {
          "output_type": "execute_result",
          "data": {
            "text/plain": [
              "260"
            ]
          },
          "metadata": {
            "tags": []
          },
          "execution_count": 57
        }
      ]
    },
    {
      "metadata": {
        "id": "p13H3Mb5J8nM",
        "colab_type": "code",
        "colab": {}
      },
      "cell_type": "code",
      "source": [
        "######################\n",
        "# Feature Selection"
      ],
      "execution_count": 0,
      "outputs": []
    },
    {
      "metadata": {
        "id": "4cMxfJPEJ8nP",
        "colab_type": "code",
        "colab": {}
      },
      "cell_type": "code",
      "source": [
        "#selector = ChiSqSelector(numTopFeatures=50, featuresCol=\"features\", outputCol=\"selectedFeatures\", labelCol=\"teamRslt\")\n",
        "#selector = ChiSqSelector(numTopFeatures=50, outputCol=\"selectedFeatures\", labelCol=\"teamRslt\")\n",
        "selector = ChiSqSelector(numTopFeatures=50, labelCol=\"teamRslt\", outputCol = \"selectedFeatures\")\n",
        "chiData = trainingData.select('gmDate', 'gameBack', 'ptsAgnst', 'ptsFor', 'stkTot', 'ptsDiff', 'homeWin', 'awayWin')\n",
        "result = selector.fit(trainingData).transform(trainingData)\n",
        "\n",
        "#print(\"ChiSqSelector output with top %d features selected\" % selector.getNumTopFeatures())\n",
        "result.show()"
      ],
      "execution_count": 0,
      "outputs": []
    },
    {
      "metadata": {
        "id": "9PIQAnJnJ8nU",
        "colab_type": "code",
        "colab": {
          "base_uri": "https://localhost:8080/",
          "height": 170
        },
        "outputId": "e3e65c34-afe6-425b-8d8c-4d086adda18c"
      },
      "cell_type": "code",
      "source": [
        "from pyspark.ml.feature import ChiSqSelector\n",
        "from pyspark.ml.linalg import Vectors\n",
        "\n",
        "df = spark.createDataFrame([\n",
        "    (7, Vectors.dense([0.0, 0.0, 18.0, 1.0]), 1.0,),\n",
        "    (8, Vectors.dense([0.0, 1.0, 12.0, 0.0]), 0.0,),\n",
        "    (9, Vectors.dense([1.0, 0.0, 15.0, 0.1]), 0.0,)], [\"id\", \"features\", \"clicked\"])\n",
        "\n",
        "selector = ChiSqSelector(numTopFeatures=1, featuresCol=\"features\",\n",
        "                         outputCol=\"selectedFeatures\", labelCol=\"clicked\")\n",
        "\n",
        "result = selector.fit(df).transform(df)\n",
        "\n",
        "print(\"ChiSqSelector output with top %d features selected\" % selector.getNumTopFeatures())\n",
        "result.show()"
      ],
      "execution_count": 36,
      "outputs": [
        {
          "output_type": "stream",
          "text": [
            "ChiSqSelector output with top 1 features selected\n",
            "+---+------------------+-------+----------------+\n",
            "| id|          features|clicked|selectedFeatures|\n",
            "+---+------------------+-------+----------------+\n",
            "|  7|[0.0,0.0,18.0,1.0]|    1.0|          [18.0]|\n",
            "|  8|[0.0,1.0,12.0,0.0]|    0.0|          [12.0]|\n",
            "|  9|[1.0,0.0,15.0,0.1]|    0.0|          [15.0]|\n",
            "+---+------------------+-------+----------------+\n",
            "\n"
          ],
          "name": "stdout"
        }
      ]
    },
    {
      "metadata": {
        "id": "wPWjagSAJ8nX",
        "colab_type": "code",
        "colab": {}
      },
      "cell_type": "code",
      "source": [
        "# Select the columns chosen by Feature Selection"
      ],
      "execution_count": 0,
      "outputs": []
    },
    {
      "metadata": {
        "id": "f0KqF5d0J8na",
        "colab_type": "code",
        "colab": {}
      },
      "cell_type": "code",
      "source": [
        "# Assemble the column values into the vector format\n",
        "assembler = VectorAssembler(inputCols=['jobVec','maritalVec','educationVec','defaultVec',\n",
        "                                       'housingVec','loanVec','contactVec','poutcomeVec',\n",
        "                                       'age', 'balance', 'duration', 'campaign', 'pdays',\n",
        "                                       'previous'], outputCol=\"features\")"
      ],
      "execution_count": 0,
      "outputs": []
    },
    {
      "metadata": {
        "id": "FufEW8_bJ8nd",
        "colab_type": "code",
        "colab": {}
      },
      "cell_type": "code",
      "source": [
        ""
      ],
      "execution_count": 0,
      "outputs": []
    },
    {
      "metadata": {
        "id": "ff9zkEoUJ8nh",
        "colab_type": "code",
        "colab": {
          "base_uri": "https://localhost:8080/",
          "height": 1608
        },
        "outputId": "7db90223-0690-467b-a1d8-7d7d8a3519a5"
      },
      "cell_type": "code",
      "source": [
        "# Split the Training data into 70 Training & 30 Validation\n",
        "lr_train, lr_test = trainingData.randomSplit([0.7,0.3])\n",
        "\n",
        "# Create instance of the logistic regression model.\n",
        "final_model = LogisticRegression()\n",
        "\n",
        "# Now fit the model on a subset of data.\n",
        "fit_final = final_model.fit(lr_train)\n",
        "\n",
        "# And evaluate it against the test data.\n",
        "predictions_and_labels = fit_final.evaluate(lr_test)\n",
        "\n",
        "predictions_and_labels.predictions.show()"
      ],
      "execution_count": 62,
      "outputs": [
        {
          "output_type": "error",
          "ename": "IllegalArgumentException",
          "evalue": "ignored",
          "traceback": [
            "\u001b[0;31m---------------------------------------------------------------------------\u001b[0m",
            "\u001b[0;31mPy4JJavaError\u001b[0m                             Traceback (most recent call last)",
            "\u001b[0;32m/content/spark-2.2.2-bin-hadoop2.7/python/pyspark/sql/utils.py\u001b[0m in \u001b[0;36mdeco\u001b[0;34m(*a, **kw)\u001b[0m\n\u001b[1;32m     62\u001b[0m         \u001b[0;32mtry\u001b[0m\u001b[0;34m:\u001b[0m\u001b[0;34m\u001b[0m\u001b[0m\n\u001b[0;32m---> 63\u001b[0;31m             \u001b[0;32mreturn\u001b[0m \u001b[0mf\u001b[0m\u001b[0;34m(\u001b[0m\u001b[0;34m*\u001b[0m\u001b[0ma\u001b[0m\u001b[0;34m,\u001b[0m \u001b[0;34m**\u001b[0m\u001b[0mkw\u001b[0m\u001b[0;34m)\u001b[0m\u001b[0;34m\u001b[0m\u001b[0m\n\u001b[0m\u001b[1;32m     64\u001b[0m         \u001b[0;32mexcept\u001b[0m \u001b[0mpy4j\u001b[0m\u001b[0;34m.\u001b[0m\u001b[0mprotocol\u001b[0m\u001b[0;34m.\u001b[0m\u001b[0mPy4JJavaError\u001b[0m \u001b[0;32mas\u001b[0m \u001b[0me\u001b[0m\u001b[0;34m:\u001b[0m\u001b[0;34m\u001b[0m\u001b[0m\n",
            "\u001b[0;32m/content/spark-2.2.2-bin-hadoop2.7/python/lib/py4j-0.10.7-src.zip/py4j/protocol.py\u001b[0m in \u001b[0;36mget_return_value\u001b[0;34m(answer, gateway_client, target_id, name)\u001b[0m\n\u001b[1;32m    327\u001b[0m                     \u001b[0;34m\"An error occurred while calling {0}{1}{2}.\\n\"\u001b[0m\u001b[0;34m.\u001b[0m\u001b[0;34m\u001b[0m\u001b[0m\n\u001b[0;32m--> 328\u001b[0;31m                     format(target_id, \".\", name), value)\n\u001b[0m\u001b[1;32m    329\u001b[0m             \u001b[0;32melse\u001b[0m\u001b[0;34m:\u001b[0m\u001b[0;34m\u001b[0m\u001b[0m\n",
            "\u001b[0;31mPy4JJavaError\u001b[0m: An error occurred while calling o1106.fit.\n: java.lang.IllegalArgumentException: Field \"features\" does not exist.\n\tat org.apache.spark.sql.types.StructType$$anonfun$apply$1.apply(StructType.scala:266)\n\tat org.apache.spark.sql.types.StructType$$anonfun$apply$1.apply(StructType.scala:266)\n\tat scala.collection.MapLike$class.getOrElse(MapLike.scala:128)\n\tat scala.collection.AbstractMap.getOrElse(Map.scala:59)\n\tat org.apache.spark.sql.types.StructType.apply(StructType.scala:265)\n\tat org.apache.spark.ml.util.SchemaUtils$.checkColumnType(SchemaUtils.scala:40)\n\tat org.apache.spark.ml.PredictorParams$class.validateAndTransformSchema(Predictor.scala:51)\n\tat org.apache.spark.ml.classification.Classifier.org$apache$spark$ml$classification$ClassifierParams$$super$validateAndTransformSchema(Classifier.scala:58)\n\tat org.apache.spark.ml.classification.ClassifierParams$class.validateAndTransformSchema(Classifier.scala:42)\n\tat org.apache.spark.ml.classification.ProbabilisticClassifier.org$apache$spark$ml$classification$ProbabilisticClassifierParams$$super$validateAndTransformSchema(ProbabilisticClassifier.scala:53)\n\tat org.apache.spark.ml.classification.ProbabilisticClassifierParams$class.validateAndTransformSchema(ProbabilisticClassifier.scala:37)\n\tat org.apache.spark.ml.classification.LogisticRegression.org$apache$spark$ml$classification$LogisticRegressionParams$$super$validateAndTransformSchema(LogisticRegression.scala:278)\n\tat org.apache.spark.ml.classification.LogisticRegressionParams$class.validateAndTransformSchema(LogisticRegression.scala:265)\n\tat org.apache.spark.ml.classification.LogisticRegression.validateAndTransformSchema(LogisticRegression.scala:278)\n\tat org.apache.spark.ml.Predictor.transformSchema(Predictor.scala:144)\n\tat org.apache.spark.ml.PipelineStage.transformSchema(Pipeline.scala:74)\n\tat org.apache.spark.ml.Predictor.fit(Predictor.scala:100)\n\tat org.apache.spark.ml.Predictor.fit(Predictor.scala:82)\n\tat sun.reflect.NativeMethodAccessorImpl.invoke0(Native Method)\n\tat sun.reflect.NativeMethodAccessorImpl.invoke(NativeMethodAccessorImpl.java:62)\n\tat sun.reflect.DelegatingMethodAccessorImpl.invoke(DelegatingMethodAccessorImpl.java:43)\n\tat java.lang.reflect.Method.invoke(Method.java:498)\n\tat py4j.reflection.MethodInvoker.invoke(MethodInvoker.java:244)\n\tat py4j.reflection.ReflectionEngine.invoke(ReflectionEngine.java:357)\n\tat py4j.Gateway.invoke(Gateway.java:282)\n\tat py4j.commands.AbstractCommand.invokeMethod(AbstractCommand.java:132)\n\tat py4j.commands.CallCommand.execute(CallCommand.java:79)\n\tat py4j.GatewayConnection.run(GatewayConnection.java:238)\n\tat java.lang.Thread.run(Thread.java:748)\n",
            "\nDuring handling of the above exception, another exception occurred:\n",
            "\u001b[0;31mIllegalArgumentException\u001b[0m                  Traceback (most recent call last)",
            "\u001b[0;32m<ipython-input-62-11af4ef8465c>\u001b[0m in \u001b[0;36m<module>\u001b[0;34m()\u001b[0m\n\u001b[1;32m      5\u001b[0m \u001b[0;34m\u001b[0m\u001b[0m\n\u001b[1;32m      6\u001b[0m \u001b[0;31m# Now fit the model on a subset of data.\u001b[0m\u001b[0;34m\u001b[0m\u001b[0;34m\u001b[0m\u001b[0m\n\u001b[0;32m----> 7\u001b[0;31m \u001b[0mfit_final\u001b[0m \u001b[0;34m=\u001b[0m \u001b[0mfinal_model\u001b[0m\u001b[0;34m.\u001b[0m\u001b[0mfit\u001b[0m\u001b[0;34m(\u001b[0m\u001b[0mlr_train\u001b[0m\u001b[0;34m)\u001b[0m\u001b[0;34m\u001b[0m\u001b[0m\n\u001b[0m\u001b[1;32m      8\u001b[0m \u001b[0;34m\u001b[0m\u001b[0m\n\u001b[1;32m      9\u001b[0m \u001b[0;31m# And evaluate it against the test data.\u001b[0m\u001b[0;34m\u001b[0m\u001b[0;34m\u001b[0m\u001b[0m\n",
            "\u001b[0;32m/content/spark-2.2.2-bin-hadoop2.7/python/pyspark/ml/base.py\u001b[0m in \u001b[0;36mfit\u001b[0;34m(self, dataset, params)\u001b[0m\n\u001b[1;32m     62\u001b[0m                 \u001b[0;32mreturn\u001b[0m \u001b[0mself\u001b[0m\u001b[0;34m.\u001b[0m\u001b[0mcopy\u001b[0m\u001b[0;34m(\u001b[0m\u001b[0mparams\u001b[0m\u001b[0;34m)\u001b[0m\u001b[0;34m.\u001b[0m\u001b[0m_fit\u001b[0m\u001b[0;34m(\u001b[0m\u001b[0mdataset\u001b[0m\u001b[0;34m)\u001b[0m\u001b[0;34m\u001b[0m\u001b[0m\n\u001b[1;32m     63\u001b[0m             \u001b[0;32melse\u001b[0m\u001b[0;34m:\u001b[0m\u001b[0;34m\u001b[0m\u001b[0m\n\u001b[0;32m---> 64\u001b[0;31m                 \u001b[0;32mreturn\u001b[0m \u001b[0mself\u001b[0m\u001b[0;34m.\u001b[0m\u001b[0m_fit\u001b[0m\u001b[0;34m(\u001b[0m\u001b[0mdataset\u001b[0m\u001b[0;34m)\u001b[0m\u001b[0;34m\u001b[0m\u001b[0m\n\u001b[0m\u001b[1;32m     65\u001b[0m         \u001b[0;32melse\u001b[0m\u001b[0;34m:\u001b[0m\u001b[0;34m\u001b[0m\u001b[0m\n\u001b[1;32m     66\u001b[0m             raise ValueError(\"Params must be either a param map or a list/tuple of param maps, \"\n",
            "\u001b[0;32m/content/spark-2.2.2-bin-hadoop2.7/python/pyspark/ml/wrapper.py\u001b[0m in \u001b[0;36m_fit\u001b[0;34m(self, dataset)\u001b[0m\n\u001b[1;32m    263\u001b[0m \u001b[0;34m\u001b[0m\u001b[0m\n\u001b[1;32m    264\u001b[0m     \u001b[0;32mdef\u001b[0m \u001b[0m_fit\u001b[0m\u001b[0;34m(\u001b[0m\u001b[0mself\u001b[0m\u001b[0;34m,\u001b[0m \u001b[0mdataset\u001b[0m\u001b[0;34m)\u001b[0m\u001b[0;34m:\u001b[0m\u001b[0;34m\u001b[0m\u001b[0m\n\u001b[0;32m--> 265\u001b[0;31m         \u001b[0mjava_model\u001b[0m \u001b[0;34m=\u001b[0m \u001b[0mself\u001b[0m\u001b[0;34m.\u001b[0m\u001b[0m_fit_java\u001b[0m\u001b[0;34m(\u001b[0m\u001b[0mdataset\u001b[0m\u001b[0;34m)\u001b[0m\u001b[0;34m\u001b[0m\u001b[0m\n\u001b[0m\u001b[1;32m    266\u001b[0m         \u001b[0;32mreturn\u001b[0m \u001b[0mself\u001b[0m\u001b[0;34m.\u001b[0m\u001b[0m_create_model\u001b[0m\u001b[0;34m(\u001b[0m\u001b[0mjava_model\u001b[0m\u001b[0;34m)\u001b[0m\u001b[0;34m\u001b[0m\u001b[0m\n\u001b[1;32m    267\u001b[0m \u001b[0;34m\u001b[0m\u001b[0m\n",
            "\u001b[0;32m/content/spark-2.2.2-bin-hadoop2.7/python/pyspark/ml/wrapper.py\u001b[0m in \u001b[0;36m_fit_java\u001b[0;34m(self, dataset)\u001b[0m\n\u001b[1;32m    260\u001b[0m         \"\"\"\n\u001b[1;32m    261\u001b[0m         \u001b[0mself\u001b[0m\u001b[0;34m.\u001b[0m\u001b[0m_transfer_params_to_java\u001b[0m\u001b[0;34m(\u001b[0m\u001b[0;34m)\u001b[0m\u001b[0;34m\u001b[0m\u001b[0m\n\u001b[0;32m--> 262\u001b[0;31m         \u001b[0;32mreturn\u001b[0m \u001b[0mself\u001b[0m\u001b[0;34m.\u001b[0m\u001b[0m_java_obj\u001b[0m\u001b[0;34m.\u001b[0m\u001b[0mfit\u001b[0m\u001b[0;34m(\u001b[0m\u001b[0mdataset\u001b[0m\u001b[0;34m.\u001b[0m\u001b[0m_jdf\u001b[0m\u001b[0;34m)\u001b[0m\u001b[0;34m\u001b[0m\u001b[0m\n\u001b[0m\u001b[1;32m    263\u001b[0m \u001b[0;34m\u001b[0m\u001b[0m\n\u001b[1;32m    264\u001b[0m     \u001b[0;32mdef\u001b[0m \u001b[0m_fit\u001b[0m\u001b[0;34m(\u001b[0m\u001b[0mself\u001b[0m\u001b[0;34m,\u001b[0m \u001b[0mdataset\u001b[0m\u001b[0;34m)\u001b[0m\u001b[0;34m:\u001b[0m\u001b[0;34m\u001b[0m\u001b[0m\n",
            "\u001b[0;32m/content/spark-2.2.2-bin-hadoop2.7/python/lib/py4j-0.10.7-src.zip/py4j/java_gateway.py\u001b[0m in \u001b[0;36m__call__\u001b[0;34m(self, *args)\u001b[0m\n\u001b[1;32m   1255\u001b[0m         \u001b[0manswer\u001b[0m \u001b[0;34m=\u001b[0m \u001b[0mself\u001b[0m\u001b[0;34m.\u001b[0m\u001b[0mgateway_client\u001b[0m\u001b[0;34m.\u001b[0m\u001b[0msend_command\u001b[0m\u001b[0;34m(\u001b[0m\u001b[0mcommand\u001b[0m\u001b[0;34m)\u001b[0m\u001b[0;34m\u001b[0m\u001b[0m\n\u001b[1;32m   1256\u001b[0m         return_value = get_return_value(\n\u001b[0;32m-> 1257\u001b[0;31m             answer, self.gateway_client, self.target_id, self.name)\n\u001b[0m\u001b[1;32m   1258\u001b[0m \u001b[0;34m\u001b[0m\u001b[0m\n\u001b[1;32m   1259\u001b[0m         \u001b[0;32mfor\u001b[0m \u001b[0mtemp_arg\u001b[0m \u001b[0;32min\u001b[0m \u001b[0mtemp_args\u001b[0m\u001b[0;34m:\u001b[0m\u001b[0;34m\u001b[0m\u001b[0m\n",
            "\u001b[0;32m/content/spark-2.2.2-bin-hadoop2.7/python/pyspark/sql/utils.py\u001b[0m in \u001b[0;36mdeco\u001b[0;34m(*a, **kw)\u001b[0m\n\u001b[1;32m     77\u001b[0m                 \u001b[0;32mraise\u001b[0m \u001b[0mQueryExecutionException\u001b[0m\u001b[0;34m(\u001b[0m\u001b[0ms\u001b[0m\u001b[0;34m.\u001b[0m\u001b[0msplit\u001b[0m\u001b[0;34m(\u001b[0m\u001b[0;34m': '\u001b[0m\u001b[0;34m,\u001b[0m \u001b[0;36m1\u001b[0m\u001b[0;34m)\u001b[0m\u001b[0;34m[\u001b[0m\u001b[0;36m1\u001b[0m\u001b[0;34m]\u001b[0m\u001b[0;34m,\u001b[0m \u001b[0mstackTrace\u001b[0m\u001b[0;34m)\u001b[0m\u001b[0;34m\u001b[0m\u001b[0m\n\u001b[1;32m     78\u001b[0m             \u001b[0;32mif\u001b[0m \u001b[0ms\u001b[0m\u001b[0;34m.\u001b[0m\u001b[0mstartswith\u001b[0m\u001b[0;34m(\u001b[0m\u001b[0;34m'java.lang.IllegalArgumentException: '\u001b[0m\u001b[0;34m)\u001b[0m\u001b[0;34m:\u001b[0m\u001b[0;34m\u001b[0m\u001b[0m\n\u001b[0;32m---> 79\u001b[0;31m                 \u001b[0;32mraise\u001b[0m \u001b[0mIllegalArgumentException\u001b[0m\u001b[0;34m(\u001b[0m\u001b[0ms\u001b[0m\u001b[0;34m.\u001b[0m\u001b[0msplit\u001b[0m\u001b[0;34m(\u001b[0m\u001b[0;34m': '\u001b[0m\u001b[0;34m,\u001b[0m \u001b[0;36m1\u001b[0m\u001b[0;34m)\u001b[0m\u001b[0;34m[\u001b[0m\u001b[0;36m1\u001b[0m\u001b[0;34m]\u001b[0m\u001b[0;34m,\u001b[0m \u001b[0mstackTrace\u001b[0m\u001b[0;34m)\u001b[0m\u001b[0;34m\u001b[0m\u001b[0m\n\u001b[0m\u001b[1;32m     80\u001b[0m             \u001b[0;32mraise\u001b[0m\u001b[0;34m\u001b[0m\u001b[0m\n\u001b[1;32m     81\u001b[0m     \u001b[0;32mreturn\u001b[0m \u001b[0mdeco\u001b[0m\u001b[0;34m\u001b[0m\u001b[0m\n",
            "\u001b[0;31mIllegalArgumentException\u001b[0m: 'Field \"features\" does not exist.'"
          ]
        }
      ]
    },
    {
      "metadata": {
        "id": "kwaxkh0PJ8nk",
        "colab_type": "code",
        "colab": {}
      },
      "cell_type": "code",
      "source": [
        "# Use Binomial Regression \n",
        "\n",
        "lrModel = lr.fit(training)\n",
        "\n",
        "# Instead of printing the coefficients/intercept, let's try to get a high level view of the model output. \n",
        "trainingSummary = lrModel.summary\n",
        "\n",
        "# Print schema again. Note the additional columns. As with other models, we simply want to compare the label (actual value) to the predicted value.\n",
        "trainingSummary.predictions.printSchema()\n",
        "\n",
        "# Visualise the DataFrame. Visually compare label to prediction. What do you see? \n",
        "trainingSummary.predictions.show()"
      ],
      "execution_count": 0,
      "outputs": []
    },
    {
      "metadata": {
        "id": "ZNe5f2bxJ8nm",
        "colab_type": "code",
        "colab": {}
      },
      "cell_type": "code",
      "source": [
        ""
      ],
      "execution_count": 0,
      "outputs": []
    },
    {
      "metadata": {
        "id": "1nGnlCpVJ8nq",
        "colab_type": "code",
        "colab": {}
      },
      "cell_type": "code",
      "source": [
        ""
      ],
      "execution_count": 0,
      "outputs": []
    },
    {
      "metadata": {
        "id": "PHUSSDCKJ8nt",
        "colab_type": "code",
        "colab": {}
      },
      "cell_type": "code",
      "source": [
        ""
      ],
      "execution_count": 0,
      "outputs": []
    },
    {
      "metadata": {
        "id": "oAExi3YLJ8nw",
        "colab_type": "code",
        "colab": {}
      },
      "cell_type": "code",
      "source": [
        ""
      ],
      "execution_count": 0,
      "outputs": []
    },
    {
      "metadata": {
        "id": "W2awpVllJ8n0",
        "colab_type": "code",
        "colab": {}
      },
      "cell_type": "code",
      "source": [
        ""
      ],
      "execution_count": 0,
      "outputs": []
    },
    {
      "metadata": {
        "id": "v1Xs6lyrJ8n8",
        "colab_type": "code",
        "colab": {}
      },
      "cell_type": "code",
      "source": [
        ""
      ],
      "execution_count": 0,
      "outputs": []
    },
    {
      "metadata": {
        "id": "eXCOPPtvJ8n_",
        "colab_type": "code",
        "colab": {}
      },
      "cell_type": "code",
      "source": [
        ""
      ],
      "execution_count": 0,
      "outputs": []
    },
    {
      "metadata": {
        "id": "q6YMgmIeJ8oA",
        "colab_type": "code",
        "colab": {}
      },
      "cell_type": "code",
      "source": [
        ""
      ],
      "execution_count": 0,
      "outputs": []
    },
    {
      "metadata": {
        "id": "aCJOov_8J8oC",
        "colab_type": "code",
        "colab": {}
      },
      "cell_type": "code",
      "source": [
        ""
      ],
      "execution_count": 0,
      "outputs": []
    }
  ]
}