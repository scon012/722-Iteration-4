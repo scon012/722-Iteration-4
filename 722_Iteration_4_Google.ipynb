{
  "nbformat": 4,
  "nbformat_minor": 0,
  "metadata": {
    "colab": {
      "name": "722-Iteration-4-Google.ipynb",
      "version": "0.3.2",
      "provenance": [],
      "collapsed_sections": [],
      "include_colab_link": true
    },
    "kernelspec": {
      "display_name": "Python 3",
      "language": "python",
      "name": "python3"
    }
  },
  "cells": [
    {
      "cell_type": "markdown",
      "metadata": {
        "id": "view-in-github",
        "colab_type": "text"
      },
      "source": [
        "[View in Colaboratory](https://colab.research.google.com/github/scon012/722-Iteration-4/blob/master/722_Iteration_4_Google.ipynb)"
      ]
    },
    {
      "metadata": {
        "id": "5S0SoQ-TJ8lR",
        "colab_type": "code",
        "colab": {}
      },
      "cell_type": "code",
      "source": [
        "# For AWS\n",
        "# Section must be included at the beginning of each new notebook. Remember to change the app name. \n",
        "# If you're using VirtualBox, change the below to '/home/user/spark-2.1.1-bin-hadoop2.7'\n",
        "#import findspark\n",
        "#findspark.init('/home/ubuntu/spark-2.1.1-bin-hadoop2.7')\n",
        "#import pyspark\n",
        "#from pyspark.sql import SparkSession\n",
        "#spark = SparkSession.builder.appName('missing').getOrCreate()\n",
        "\n"
      ],
      "execution_count": 0,
      "outputs": []
    },
    {
      "metadata": {
        "id": "xKQ5a_0hMUQb",
        "colab_type": "code",
        "colab": {
          "base_uri": "https://localhost:8080/",
          "height": 221
        },
        "outputId": "d0ad296f-0ba4-4ec0-9d8c-18924f37c35b"
      },
      "cell_type": "code",
      "source": [
        "# For Google Step 1\n",
        "!apt-get install openjdk-8-jdk-headless -qq > /dev/null\n",
        "!wget -q http://www-us.apache.org/dist/spark/spark-2.2.2/spark-2.2.2-bin-hadoop2.7.tgz\n",
        "!tar xf spark-2.2.2-bin-hadoop2.7.tgz\n",
        "!pip install -q findspark\n",
        "\n",
        "# Install Pydrive so that the data files can be got from GoogleDrive\n",
        "!pip install PyDrive\n",
        "\n",
        "# Install R and required components\n",
        "# !apt-get update\n",
        "# !apt-get install r-base\n",
        "# !pip install rpy2==2.9.4\n",
        "# !pip install tzlocal\n",
        "\n"
      ],
      "execution_count": 49,
      "outputs": [
        {
          "output_type": "stream",
          "text": [
            "\n",
            "Redirecting output to ‘wget-log.3’.\n",
            "Requirement already satisfied: PyDrive in /usr/local/lib/python3.6/dist-packages (1.3.1)\n",
            "Requirement already satisfied: PyYAML>=3.0 in /usr/local/lib/python3.6/dist-packages (from PyDrive) (3.13)\n",
            "Requirement already satisfied: google-api-python-client>=1.2 in /usr/local/lib/python3.6/dist-packages (from PyDrive) (1.6.7)\n",
            "Requirement already satisfied: oauth2client>=4.0.0 in /usr/local/lib/python3.6/dist-packages (from PyDrive) (4.1.3)\n",
            "Requirement already satisfied: six<2dev,>=1.6.1 in /usr/local/lib/python3.6/dist-packages (from google-api-python-client>=1.2->PyDrive) (1.11.0)\n",
            "Requirement already satisfied: uritemplate<4dev,>=3.0.0 in /usr/local/lib/python3.6/dist-packages (from google-api-python-client>=1.2->PyDrive) (3.0.0)\n",
            "Requirement already satisfied: httplib2<1dev,>=0.9.2 in /usr/local/lib/python3.6/dist-packages (from google-api-python-client>=1.2->PyDrive) (0.11.3)\n",
            "Requirement already satisfied: pyasn1-modules>=0.0.5 in /usr/local/lib/python3.6/dist-packages (from oauth2client>=4.0.0->PyDrive) (0.2.2)\n",
            "Requirement already satisfied: pyasn1>=0.1.7 in /usr/local/lib/python3.6/dist-packages (from oauth2client>=4.0.0->PyDrive) (0.4.4)\n",
            "Requirement already satisfied: rsa>=3.1.4 in /usr/local/lib/python3.6/dist-packages (from oauth2client>=4.0.0->PyDrive) (4.0)\n"
          ],
          "name": "stdout"
        }
      ]
    },
    {
      "metadata": {
        "id": "gDlvpdgq9rS4",
        "colab_type": "code",
        "colab": {}
      },
      "cell_type": "code",
      "source": [
        "# Test that rpy2 works\n",
        "#import rpy2.tests as rpt\n",
        "#import unittest\n",
        "#import rpy2.interactive as r\n",
        "\n",
        "# from rpy2 import robjects\n",
        "# import rpy2.robjects as robjects\n",
        "# robjects.r('library(ade4)')\n",
        "\n",
        "# # the verbosity level can be increased if needed\n",
        "# tr = unittest.TextTestRunner(verbosity = 1)\n",
        "# suite = rpy2.tests.suite()\n",
        "# tr.run(suite)\n",
        "\n",
        "#from rpy2.robjects import r, pandas2ri\n",
        "#from rpy2.robjects.packages import importr\n",
        "#import rpy2.robjects as ro\n",
        "\n",
        "# ro.r('install.packages(\"ggplot2\")')\n",
        "\n",
        "# ro.r('x=c()')\n",
        "# ro.r('x[1] = 1 + 2')\n",
        "# ro.r('x[3] = 1 + 77')\n",
        "# x = pandas2ri.ri2py(r['x'])\n",
        "# print(ro.r('x'))\n",
        "# print(x)\n"
      ],
      "execution_count": 0,
      "outputs": []
    },
    {
      "metadata": {
        "id": "VJ7CDtHfMbkF",
        "colab_type": "code",
        "colab": {}
      },
      "cell_type": "code",
      "source": [
        "# For Google Step 2\n",
        "import os\n",
        "os.environ[\"JAVA_HOME\"] = \"/usr/lib/jvm/java-8-openjdk-amd64\"\n",
        "os.environ[\"SPARK_HOME\"] = \"/content/spark-2.2.2-bin-hadoop2.7\""
      ],
      "execution_count": 0,
      "outputs": []
    },
    {
      "metadata": {
        "id": "ZZfS3gEOMb9w",
        "colab_type": "code",
        "colab": {}
      },
      "cell_type": "code",
      "source": [
        "# For Google Step 3\n",
        "import findspark\n",
        "findspark.init()\n",
        "from pyspark.sql import SparkSession\n",
        "spark = SparkSession.builder.master(\"local[*]\").getOrCreate()"
      ],
      "execution_count": 0,
      "outputs": []
    },
    {
      "metadata": {
        "id": "HOnqemQcJ8lN",
        "colab_type": "text"
      },
      "cell_type": "markdown",
      "source": [
        "######################################################################################################\n",
        "### Configure the environment\n",
        "######################################################################################################"
      ]
    },
    {
      "metadata": {
        "id": "K2yzg9MeJ8lX",
        "colab_type": "code",
        "colab": {}
      },
      "cell_type": "code",
      "source": [
        "# Other environment imports\n",
        "from pyspark.sql.functions import datediff, to_date, lit, when, date_sub, col, isnan, count, abs\n",
        "from pyspark.ml.feature import ChiSqSelector, VectorAssembler, VectorIndexer, OneHotEncoder, StringIndexer\n",
        "import matplotlib.pyplot as plt\n",
        "import numpy as np\n",
        "import pandas as pd\n",
        "from pyspark.ml.classification import LogisticRegression\n",
        "from pyspark.ml import Pipeline"
      ],
      "execution_count": 0,
      "outputs": []
    },
    {
      "metadata": {
        "id": "E5LAyTmfJ8lc",
        "colab_type": "text"
      },
      "cell_type": "markdown",
      "source": [
        "######################################################################################################\n",
        "### Get and inspect the data\n",
        "######################################################################################################"
      ]
    },
    {
      "metadata": {
        "id": "DxxUqdQbBhgx",
        "colab_type": "code",
        "colab": {}
      },
      "cell_type": "code",
      "source": [
        "# Clean up the old data\n",
        "# !ls -al\n",
        "# !rm \"2016-17_standings.csv\"\n",
        "# !rm \"2017-18_standings.csv\"\n",
        "# !rm \"2016-17_teamBoxScore.csv\"\n",
        "# !rm \"2017-18_teamBoxScore.csv\"\n",
        "# !ls -al\n",
        "\n",
        "#############################################################\n",
        "# Get the data for Colab from the local file system\n",
        "\n",
        "# from google.colab import files\n",
        "\n",
        "# uploaded = files.upload()\n",
        "\n",
        "# for fn in uploaded.keys():\n",
        "#   print('User uploaded file \"{name}\" with length {length} bytes'.format(name=fn, length=len(uploaded[fn])))\n",
        "\n",
        "#############################################################\n",
        "# Get the data from Google Drive\n",
        "\n",
        "from pydrive.auth import GoogleAuth\n",
        "from pydrive.drive import GoogleDrive\n",
        "from google.colab import auth\n",
        "from oauth2client.client import GoogleCredentials\n",
        "\n",
        "auth.authenticate_user()\n",
        "\n",
        "# Download the basketball files\n",
        "standings1617fileID = '1zP8Ua8NGlhYAkEaACXFMvEeLh8rQ2Jtq'\n",
        "standings1718fileID = '1XfyfvX-hiI4KcERgLsDsgE1C7_hbgfIC'\n",
        "boxScore1617fielID = '1bahfh1jOp9brP4CnGg_lywxvjyfmTIMT'\n",
        "boxScore1718fielID = '1R3jEED7ME4voFajkzAK_IsZM_MGINF8P'\n",
        "\n",
        "gauth = GoogleAuth()\n",
        "gauth.credentials = GoogleCredentials.get_application_default()\n",
        "drive = GoogleDrive(gauth)\n",
        "\n",
        "# Get the data files on Colab\n",
        "def getGoogleFile(fileId, filename):\n",
        "  train_downloaded = drive.CreateFile({'id': fileId})\n",
        "  train_downloaded.GetContentFile(filename)\n",
        "  return\n",
        "\n",
        "dummy = getGoogleFile(standings1617fileID, \"2016-17_standings.csv\")\n",
        "dummy = getGoogleFile(standings1718fileID, \"2017-18_standings.csv\")\n",
        "dummy = getGoogleFile(boxScore1617fielID, \"2016-17_teamBoxScore.csv\")\n",
        "dummy = getGoogleFile(boxScore1718fielID, \"2017-18_teamBoxScore.csv\")\n"
      ],
      "execution_count": 0,
      "outputs": []
    },
    {
      "metadata": {
        "id": "_fH74hlLJ8le",
        "colab_type": "code",
        "colab": {
          "base_uri": "https://localhost:8080/",
          "height": 785
        },
        "outputId": "62cbcb40-e8e8-4abb-c846-67889690ae55"
      },
      "cell_type": "code",
      "source": [
        "# Get the data files on AWS\n",
        "standings1617 = spark.read.csv(\"2016-17_standings.csv\", header=True, inferSchema=True)\n",
        "standings1617.show(5)\n",
        "\n",
        "standings1718 = spark.read.csv(\"2017-18_standings.csv\", header=True, inferSchema=True)\n",
        "standings1718.show(5)\n",
        "\n",
        "boxScore1617 = spark.read.csv(\"2016-17_teamBoxScore.csv\", header=True, inferSchema=True)\n",
        "boxScore1617.show(5)\n",
        "\n",
        "boxScore1718 = spark.read.csv(\"2017-18_teamBoxScore.csv\", header=True, inferSchema=True)\n",
        "boxScore1718.show(5)\n"
      ],
      "execution_count": 225,
      "outputs": [
        {
          "output_type": "stream",
          "text": [
            "+-------------------+--------+----+-------+-------+--------+---+-------+------+--------+------+--------+-------+--------+-------+--------+-------+--------+--------+-------+--------+--------+--------+-------+----------+---------+--------------+-------------+---+-----------+---+---+------+------------+---------+---------+-----------+--------+--------+\n",
            "|             stDate|teamAbbr|rank|rankOrd|gameWon|gameLost|stk|stkType|stkTot|gameBack|ptsFor|ptsAgnst|homeWin|homeLoss|awayWin|awayLoss|confWin|confLoss|lastFive|lastTen|gamePlay|ptsScore|ptsAllow|ptsDiff|opptGmPlay|opptGmWon|opptOpptGmPlay|opptOpptGmWon|sos|relPercIndx|mov|srs|pwPerc|pythPerc1391|wpyth1391|lpyth1391|pythPerc165|wpyth165|lpyth165|\n",
            "+-------------------+--------+----+-------+-------+--------+---+-------+------+--------+------+--------+-------+--------+-------+--------+-------+--------+--------+-------+--------+--------+--------+-------+----------+---------+--------------+-------------+---+-----------+---+---+------+------------+---------+---------+-----------+--------+--------+\n",
            "|2016-10-24 00:00:00|     ATL|   1|    1st|      0|       0|  -|      -|     0|     0.0|     0|       0|      0|       0|      0|       0|      0|       0|       0|      0|       0|     0.0|     0.0|    0.0|         0|        0|             0|            0|0.0|        0.0|0.0|0.0|   0.5|         0.0|      0.0|     82.0|        0.0|     0.0|    82.0|\n",
            "|2016-10-24 00:00:00|     BKN|   1|    1st|      0|       0|  -|      -|     0|     0.0|     0|       0|      0|       0|      0|       0|      0|       0|       0|      0|       0|     0.0|     0.0|    0.0|         0|        0|             0|            0|0.0|        0.0|0.0|0.0|   0.5|         0.0|      0.0|     82.0|        0.0|     0.0|    82.0|\n",
            "|2016-10-24 00:00:00|     BOS|   1|    1st|      0|       0|  -|      -|     0|     0.0|     0|       0|      0|       0|      0|       0|      0|       0|       0|      0|       0|     0.0|     0.0|    0.0|         0|        0|             0|            0|0.0|        0.0|0.0|0.0|   0.5|         0.0|      0.0|     82.0|        0.0|     0.0|    82.0|\n",
            "|2016-10-24 00:00:00|     CHA|   1|    1st|      0|       0|  -|      -|     0|     0.0|     0|       0|      0|       0|      0|       0|      0|       0|       0|      0|       0|     0.0|     0.0|    0.0|         0|        0|             0|            0|0.0|        0.0|0.0|0.0|   0.5|         0.0|      0.0|     82.0|        0.0|     0.0|    82.0|\n",
            "|2016-10-24 00:00:00|     CHI|   1|    1st|      0|       0|  -|      -|     0|     0.0|     0|       0|      0|       0|      0|       0|      0|       0|       0|      0|       0|     0.0|     0.0|    0.0|         0|        0|             0|            0|0.0|        0.0|0.0|0.0|   0.5|         0.0|      0.0|     82.0|        0.0|     0.0|    82.0|\n",
            "+-------------------+--------+----+-------+-------+--------+---+-------+------+--------+------+--------+-------+--------+-------+--------+-------+--------+--------+-------+--------+--------+--------+-------+----------+---------+--------------+-------------+---+-----------+---+---+------+------------+---------+---------+-----------+--------+--------+\n",
            "only showing top 5 rows\n",
            "\n",
            "+-------------------+--------+----+-------+-------+--------+---+-------+------+--------+------+--------+-------+--------+-------+--------+-------+--------+--------+-------+--------+--------+--------+-------+----------+---------+--------------+-------------+---+-----------+---+---+------+------------+---------+---------+-----------+--------+--------+\n",
            "|             stDate|teamAbbr|rank|rankOrd|gameWon|gameLost|stk|stkType|stkTot|gameBack|ptsFor|ptsAgnst|homeWin|homeLoss|awayWin|awayLoss|confWin|confLoss|lastFive|lastTen|gamePlay|ptsScore|ptsAllow|ptsDiff|opptGmPlay|opptGmWon|opptOpptGmPlay|opptOpptGmWon|sos|relPercIndx|mov|srs|pwPerc|pythPerc1391|wpyth1391|lpyth1391|pythPerc165|wpyth165|lpyth165|\n",
            "+-------------------+--------+----+-------+-------+--------+---+-------+------+--------+------+--------+-------+--------+-------+--------+-------+--------+--------+-------+--------+--------+--------+-------+----------+---------+--------------+-------------+---+-----------+---+---+------+------------+---------+---------+-----------+--------+--------+\n",
            "|2017-10-16 00:00:00|     ATL|   1|    1st|      0|       0|  -|      -|     0|     0.0|     0|       0|      0|       0|      0|       0|      0|       0|       0|      0|       0|     0.0|     0.0|    0.0|         0|        0|             0|            0|0.0|        0.0|0.0|0.0|   0.5|         0.0|      0.0|     82.0|        0.0|     0.0|    82.0|\n",
            "|2017-10-16 00:00:00|     BKN|   1|    1st|      0|       0|  -|      -|     0|     0.0|     0|       0|      0|       0|      0|       0|      0|       0|       0|      0|       0|     0.0|     0.0|    0.0|         0|        0|             0|            0|0.0|        0.0|0.0|0.0|   0.5|         0.0|      0.0|     82.0|        0.0|     0.0|    82.0|\n",
            "|2017-10-16 00:00:00|     BOS|   1|    1st|      0|       0|  -|      -|     0|     0.0|     0|       0|      0|       0|      0|       0|      0|       0|       0|      0|       0|     0.0|     0.0|    0.0|         0|        0|             0|            0|0.0|        0.0|0.0|0.0|   0.5|         0.0|      0.0|     82.0|        0.0|     0.0|    82.0|\n",
            "|2017-10-16 00:00:00|     CHA|   1|    1st|      0|       0|  -|      -|     0|     0.0|     0|       0|      0|       0|      0|       0|      0|       0|       0|      0|       0|     0.0|     0.0|    0.0|         0|        0|             0|            0|0.0|        0.0|0.0|0.0|   0.5|         0.0|      0.0|     82.0|        0.0|     0.0|    82.0|\n",
            "|2017-10-16 00:00:00|     CHI|   1|    1st|      0|       0|  -|      -|     0|     0.0|     0|       0|      0|       0|      0|       0|      0|       0|       0|      0|       0|     0.0|     0.0|    0.0|         0|        0|             0|            0|0.0|        0.0|0.0|0.0|   0.5|         0.0|      0.0|     82.0|        0.0|     0.0|    82.0|\n",
            "+-------------------+--------+----+-------+-------+--------+---+-------+------+--------+------+--------+-------+--------+-------+--------+-------+--------+--------+-------+--------+--------+--------+-------+----------+---------+--------------+-------------+---+-----------+---+---+------+------------+---------+---------+-----------+--------+--------+\n",
            "only showing top 5 rows\n",
            "\n",
            "+-------------------+------+-------+-------+-------+--------+-------+--------+-------+--------+--------+---------+-------+--------+-------+----------+-------+-------+------+-------+-------+------+-------+-------+----------+-------+-------+----------+-------+-------+----------+-------+-------+----------+-------+-------+-------+--------+--------+--------+--------+--------+--------+--------+--------+------------+------------+----------+-----------+------------+------------+----------+-----------+-----------+--------+-------+-------+---------+--------+--------+---------+------------+-------+---------+---------+--------+--------+---------+-------+--------+-------+----------+-------+-------+------+-------+-------+------+-------+-------+----------+-------+-------+----------+-------+-------+----------+-------+-------+----------+-------+-------+-------+--------+--------+--------+--------+--------+--------+--------+--------+------------+------------+----------+-----------+------------+------------+----------+-----------+-----------+--------+-------+-------+---------+--------+--------+---------+------------+-------+---------+---------+--------+--------+\n",
            "|             gmDate|gmTime|seasTyp|offLNm1|offFNm1| offLNm2|offFNm2| offLNm3|offFNm3|teamAbbr|teamConf|  teamDiv|teamLoc|teamRslt|teamMin|teamDayOff|teamPTS|teamAST|teamTO|teamSTL|teamBLK|teamPF|teamFGA|teamFGM|teamFGPerc|team2PA|team2PM|team2PPerc|team3PA|team3PM|team3PPerc|teamFTA|teamFTM|teamFTPerc|teamORB|teamDRB|teamTRB|teamPTS1|teamPTS2|teamPTS3|teamPTS4|teamPTS5|teamPTS6|teamPTS7|teamPTS8|teamTREBPerc|teamASSTPerc|teamTSPerc|teamEFGPerc|teamOREBPerc|teamDREBPerc|teamTOPerc|teamSTLPerc|teamBLKPerc|teamBLKR|teamPPS|teamFIC|teamFIC40|teamOrtg|teamDrtg|teamEDiff|teamPlayPerc| teamAR|teamASTTO|teamSTLTO|opptAbbr|opptConf|  opptDiv|opptLoc|opptRslt|opptMin|opptDayOff|opptPTS|opptAST|opptTO|opptSTL|opptBLK|opptPF|opptFGA|opptFGM|opptFGPerc|oppt2PA|oppt2PM|oppt2PPerc|oppt3PA|oppt3PM|oppt3PPerc|opptFTA|opptFTM|opptFTPerc|opptORB|opptDRB|opptTRB|opptPTS1|opptPTS2|opptPTS3|opptPTS4|opptPTS5|opptPTS6|opptPTS7|opptPTS8|opptTREBPerc|opptASSTPerc|opptTSPerc|opptEFGPerc|opptOREBPerc|opptDREBPerc|opptTOPerc|opptSTLPerc|opptBLKPerc|opptBLKR|opptPPS|opptFIC|opptFIC40|opptOrtg|opptDrtg|opptEDiff|opptPlayPerc| opptAR|opptASTTO|opptSTLTO|    poss|    pace|\n",
            "+-------------------+------+-------+-------+-------+--------+-------+--------+-------+--------+--------+---------+-------+--------+-------+----------+-------+-------+------+-------+-------+------+-------+-------+----------+-------+-------+----------+-------+-------+----------+-------+-------+----------+-------+-------+-------+--------+--------+--------+--------+--------+--------+--------+--------+------------+------------+----------+-----------+------------+------------+----------+-----------+-----------+--------+-------+-------+---------+--------+--------+---------+------------+-------+---------+---------+--------+--------+---------+-------+--------+-------+----------+-------+-------+------+-------+-------+------+-------+-------+----------+-------+-------+----------+-------+-------+----------+-------+-------+----------+-------+-------+-------+--------+--------+--------+--------+--------+--------+--------+--------+------------+------------+----------+-----------+------------+------------+----------+-----------+-----------+--------+-------+-------+---------+--------+--------+---------+------------+-------+---------+---------+--------+--------+\n",
            "|2016-10-25 00:00:00| 08:00|Regular|   Lane|   Karl|   Adams| Bennie| Kennedy|   Bill|      NY|    East| Atlantic|   Away|    Loss|    240|         0|     88|     17|    18|      6|      6|    22|     87|     32|    0.3678|     60|     23|    0.3833|     27|      9|    0.3333|     20|     15|      0.75|     13|     29|     42|      18|      27|      19|      24|       0|       0|       0|       0|     45.1613|      53.125|    0.4593|     0.4195|     24.5283|        72.5|   15.8172|     5.9777|     5.9777|    10.0| 1.0115|   50.0|  41.6667| 87.6731|116.5653| -28.8922|      0.3478|12.9969|   0.9444|  33.3333|     CLE|    East|  Central|   Home|     Win|    241|         0|    117|     31|    15|     12|      5|    22|     94|     45|    0.4787|     59|     32|    0.5424|     35|     13|    0.3714|     19|     14|    0.7368|     11|     40|     51|      28|      20|      34|      35|       0|       0|       0|       0|     54.8387|     68.8889|    0.5715|     0.5479|     21.5686|     78.4314|   12.7812|    11.9554|     4.9814|  8.4746| 1.2447|102.375|  84.9585|116.5653| 87.6731|  28.8922|      0.4592|20.8951|   2.0667|     80.0|100.3729|100.3729|\n",
            "|2016-10-25 00:00:00| 08:00|Regular|   Lane|   Karl|   Adams| Bennie| Kennedy|   Bill|     CLE|    East|  Central|   Home|     Win|    241|         0|    117|     31|    15|     12|      5|    22|     94|     45|    0.4787|     59|     32|    0.5424|     35|     13|    0.3714|     19|     14|    0.7368|     11|     40|     51|      28|      20|      34|      35|       0|       0|       0|       0|     54.8387|     68.8889|    0.5715|     0.5479|        27.5|     75.4717|   12.7812|    11.9554|     4.9814|  8.4746| 1.2447|102.375|  84.9585|116.5653| 87.6731|  28.8922|      0.4592|20.8951|   2.0667|     80.0|      NY|    East| Atlantic|   Away|    Loss|    240|         0|     88|     17|    18|      6|      6|    22|     87|     32|    0.3678|     60|     23|    0.3833|     27|      9|    0.3333|     20|     15|      0.75|     13|     29|     42|      18|      27|      19|      24|       0|       0|       0|       0|     45.1613|      53.125|    0.4593|     0.4195|     30.9524|     69.0476|   15.8172|     5.9777|     5.9777|    10.0| 1.0115|   50.0|  41.6667| 87.6731|116.5653| -28.8922|      0.3478|12.9969|   0.9444|  33.3333|100.3729| 99.9564|\n",
            "|2016-10-25 00:00:00| 10:00|Regular|Buchert|   Nick|Callahan|   Mike|   Brown|   Tony|     UTA|    West|Northwest|   Away|    Loss|    241|         0|    104|     19|    14|      9|      5|    19|     82|     40|    0.4878|     58|     32|    0.5517|     24|      8|    0.3333|     16|     16|       1.0|      6|     25|     31|      26|      20|      37|      21|       0|       0|       0|       0|     47.6923|        47.5|     0.584|     0.5366|     17.1429|     83.3333|    13.587|     9.7257|     5.4032|  8.6207| 1.2683|  70.75|  58.7137|112.3863| 122.112|  -9.7257|      0.4444|15.5687|   1.3571|  64.2857|     POR|    West|Northwest|   Home|     Win|    239|         0|    113|     22|    13|      5|      3|    18|     75|     39|      0.52|     56|     26|    0.4643|     19|     13|    0.6842|     22|     22|       1.0|      5|     29|     34|      26|      28|      23|      36|       0|       0|       0|       0|     52.3077|     56.4103|    0.6672|     0.6067|     14.7059|     85.2941|   13.3088|     5.4032|     3.2419|  5.3571| 1.5067|  83.25|  69.6653| 122.112|112.3863|   9.7257|      0.4699|18.3824|   1.6923|  38.4615|  92.538|  92.154|\n",
            "|2016-10-25 00:00:00| 10:00|Regular|Buchert|   Nick|Callahan|   Mike|   Brown|   Tony|     POR|    West|Northwest|   Home|     Win|    239|         0|    113|     22|    13|      5|      3|    18|     75|     39|      0.52|     56|     26|    0.4643|     19|     13|    0.6842|     22|     22|       1.0|      5|     29|     34|      26|      28|      23|      36|       0|       0|       0|       0|     52.3077|     56.4103|    0.6672|     0.6067|     16.6667|     82.8571|   13.3088|     5.4032|     3.2419|  5.3571| 1.5067|  83.25|  69.6653| 122.112|112.3863|   9.7257|      0.4699|18.3824|   1.6923|  38.4615|     UTA|    West|Northwest|   Away|    Loss|    241|         0|    104|     19|    14|      9|      5|    19|     82|     40|    0.4878|     58|     32|    0.5517|     24|      8|    0.3333|     16|     16|       1.0|      6|     25|     31|      26|      20|      37|      21|       0|       0|       0|       0|     47.6923|        47.5|     0.584|     0.5366|     19.3548|     80.6452|    13.587|     9.7257|     5.4032|  8.6207| 1.2683|  70.75|  58.7137|112.3863| 122.112|  -9.7257|      0.4444|15.5687|   1.3571|  64.2857|  92.538| 92.9252|\n",
            "|2016-10-25 00:00:00| 10:30|Regular| Maddox|    Tre|  Fraher|    Pat|Crawford|    Dan|      SA|    West|Southwest|   Away|     Win|    240|         0|    129|     25|    14|     13|      3|    19|     98|     47|    0.4796|     74|     35|     0.473|     24|     12|       0.5|     26|     23|    0.8846|     21|     34|     55|      31|      33|      33|      32|       0|       0|       0|       0|     61.1111|     53.1915|    0.5894|     0.5408|       43.75|     80.9524|   11.3415|     13.161|     3.0372|  4.0541| 1.3163| 109.75|  91.4583|130.5979|101.2387|  29.3592|      0.5165|16.8418|   1.7857|  92.8571|      GS|    West|  Pacific|   Home|    Loss|    241|         0|    100|     24|    16|     11|      6|    19|     85|     40|    0.4706|     52|     33|    0.6346|     33|      7|    0.2121|     18|     13|    0.7222|      8|     27|     35|      20|      26|      31|      23|       0|       0|       0|       0|     38.8889|        60.0|    0.5381|     0.5118|     22.8571|     77.1429|   14.6897|    11.1363|     6.0743| 11.5385| 1.1765|  73.25|  60.7884|101.2387|130.5979| -29.3592|      0.4301| 18.056|      1.5|    68.75| 98.7765| 98.7765|\n",
            "+-------------------+------+-------+-------+-------+--------+-------+--------+-------+--------+--------+---------+-------+--------+-------+----------+-------+-------+------+-------+-------+------+-------+-------+----------+-------+-------+----------+-------+-------+----------+-------+-------+----------+-------+-------+-------+--------+--------+--------+--------+--------+--------+--------+--------+------------+------------+----------+-----------+------------+------------+----------+-----------+-----------+--------+-------+-------+---------+--------+--------+---------+------------+-------+---------+---------+--------+--------+---------+-------+--------+-------+----------+-------+-------+------+-------+-------+------+-------+-------+----------+-------+-------+----------+-------+-------+----------+-------+-------+----------+-------+-------+-------+--------+--------+--------+--------+--------+--------+--------+--------+------------+------------+----------+-----------+------------+------------+----------+-----------+-----------+--------+-------+-------+---------+--------+--------+---------+------------+-------+---------+---------+--------+--------+\n",
            "only showing top 5 rows\n",
            "\n",
            "+-------------------+------+-------+-------+-------+---------+-------+---------+-------+--------+--------+---------+-------+--------+-------+----------+-------+-------+------+-------+-------+------+-------+-------+----------+-------+-------+----------+-------+-------+----------+-------+-------+----------+-------+-------+-------+--------+--------+--------+--------+--------+--------+--------+--------+------------+------------+----------+-----------+------------+------------+----------+-----------+-----------+--------+-------+-------+---------+--------+--------+---------+------------+-------+---------+---------+--------+--------+---------+-------+--------+-------+----------+-------+-------+------+-------+-------+------+-------+-------+----------+-------+-------+----------+-------+-------+----------+-------+-------+----------+-------+-------+-------+--------+--------+--------+--------+--------+--------+--------+--------+------------+------------+----------+-----------+------------+------------+----------+-----------+-----------+--------+-------+-------+---------+--------+--------+---------+------------+-------+---------+---------+--------+--------+\n",
            "|             gmDate|gmTime|seasTyp|offLNm1|offFNm1|  offLNm2|offFNm2|  offLNm3|offFNm3|teamAbbr|teamConf|  teamDiv|teamLoc|teamRslt|teamMin|teamDayOff|teamPTS|teamAST|teamTO|teamSTL|teamBLK|teamPF|teamFGA|teamFGM|teamFGPerc|team2PA|team2PM|team2PPerc|team3PA|team3PM|team3PPerc|teamFTA|teamFTM|teamFTPerc|teamORB|teamDRB|teamTRB|teamPTS1|teamPTS2|teamPTS3|teamPTS4|teamPTS5|teamPTS6|teamPTS7|teamPTS8|teamTREBPerc|teamASSTPerc|teamTSPerc|teamEFGPerc|teamOREBPerc|teamDREBPerc|teamTOPerc|teamSTLPerc|teamBLKPerc|teamBLKR|teamPPS|teamFIC|teamFIC40|teamOrtg|teamDrtg|teamEDiff|teamPlayPerc| teamAR|teamASTTO|teamSTLTO|opptAbbr|opptConf|  opptDiv|opptLoc|opptRslt|opptMin|opptDayOff|opptPTS|opptAST|opptTO|opptSTL|opptBLK|opptPF|opptFGA|opptFGM|opptFGPerc|oppt2PA|oppt2PM|oppt2PPerc|oppt3PA|oppt3PM|oppt3PPerc|opptFTA|opptFTM|opptFTPerc|opptORB|opptDRB|opptTRB|opptPTS1|opptPTS2|opptPTS3|opptPTS4|opptPTS5|opptPTS6|opptPTS7|opptPTS8|opptTREBPerc|opptASSTPerc|opptTSPerc|opptEFGPerc|opptOREBPerc|opptDREBPerc|opptTOPerc|opptSTLPerc|opptBLKPerc|opptBLKR|opptPPS|opptFIC|opptFIC40|opptOrtg|opptDrtg|opptEDiff|opptPlayPerc| opptAR|opptASTTO|opptSTLTO|    poss|    pace|\n",
            "+-------------------+------+-------+-------+-------+---------+-------+---------+-------+--------+--------+---------+-------+--------+-------+----------+-------+-------+------+-------+-------+------+-------+-------+----------+-------+-------+----------+-------+-------+----------+-------+-------+----------+-------+-------+-------+--------+--------+--------+--------+--------+--------+--------+--------+------------+------------+----------+-----------+------------+------------+----------+-----------+-----------+--------+-------+-------+---------+--------+--------+---------+------------+-------+---------+---------+--------+--------+---------+-------+--------+-------+----------+-------+-------+------+-------+-------+------+-------+-------+----------+-------+-------+----------+-------+-------+----------+-------+-------+----------+-------+-------+-------+--------+--------+--------+--------+--------+--------+--------+--------+------------+------------+----------+-----------+------------+------------+----------+-----------+-----------+--------+-------+-------+---------+--------+--------+---------+------------+-------+---------+---------+--------+--------+\n",
            "|2017-10-17 00:00:00| 08:00|Regular|  Forte|  Brian|    Smith|Michael|McCutchen|  Monty|     BOS|    East| Atlantic|   Away|    Loss|    241|         0|     99|     24|    12|     11|      4|    24|     88|     36|    0.4091|     56|     28|       0.5|     32|      8|      0.25|     25|     19|      0.76|      9|     37|     46|      19|      19|      33|      28|       0|       0|       0|       0|     47.9167|     66.6667|       0.5|     0.4545|        18.0|     80.4348|   10.8108|    10.9692|     3.9888|  7.1429|  1.125| 75.375|  62.5519| 98.7227|101.7143|  -2.9916|      0.3956|17.7778|      2.0|  91.6667|     CLE|    East|  Central|   Home|     Win|    240|         0|    102|     19|    17|      3|      4|    25|     83|     38|    0.4578|     61|     33|     0.541|     22|      5|    0.2273|     25|     21|      0.84|      9|     41|     50|      29|      25|      18|      30|       0|       0|       0|       0|     52.0833|        50.0|    0.5426|      0.488|        18.0|        82.0|   15.3153|     2.9916|     3.9888|  6.5574| 1.2289| 66.625|  55.5208|101.7143| 98.7227|   2.9916|      0.4176|14.6154|   1.1176|  17.6471|100.2809| 99.8648|\n",
            "|2017-10-17 00:00:00| 08:00|Regular|  Forte|  Brian|    Smith|Michael|McCutchen|  Monty|     CLE|    East|  Central|   Home|     Win|    240|         0|    102|     19|    17|      3|      4|    25|     83|     38|    0.4578|     61|     33|     0.541|     22|      5|    0.2273|     25|     21|      0.84|      9|     41|     50|      29|      25|      18|      30|       0|       0|       0|       0|     52.0833|        50.0|    0.5426|      0.488|     19.5652|        82.0|   15.3153|     2.9916|     3.9888|  6.5574| 1.2289| 66.625|  55.5208|101.7143| 98.7227|   2.9916|      0.4176|14.6154|   1.1176|  17.6471|     BOS|    East| Atlantic|   Away|    Loss|    241|         0|     99|     24|    12|     11|      4|    24|     88|     36|    0.4091|     56|     28|       0.5|     32|      8|      0.25|     25|     19|      0.76|      9|     37|     46|      19|      19|      33|      28|       0|       0|       0|       0|     47.9167|     66.6667|       0.5|     0.4545|     19.5652|     80.4348|   10.8108|    10.9692|     3.9888|  7.1429|  1.125| 75.375|  62.5519| 98.7227|101.7143|  -2.9916|      0.3956|17.7778|      2.0|  91.6667|100.2809|100.2809|\n",
            "|2017-10-17 00:00:00| 10:30|Regular| Maddox|    Tre|Garretson|    Ron|   Foster|  Scott|     HOU|    West|Southwest|   Away|     Win|    239|         0|    122|     28|    13|      9|      5|    16|     97|     47|    0.4845|     56|     32|    0.5714|     41|     15|    0.3659|     19|     13|    0.6842|     10|     33|     43|      34|      28|      26|      34|       0|       0|       0|       0|     51.1905|     59.5745|     0.579|     0.5619|     22.2222|     84.6154|   10.9834|     8.7795|     4.8775|  8.9286| 1.2577| 97.875|  81.9038|119.0108|118.0353|   0.9755|        0.47|19.1309|   2.1538|  69.2308|      GS|    West|  Pacific|   Home|    Loss|    241|         0|    121|     34|    17|      5|      9|    25|     80|     43|    0.5375|     50|     27|      0.54|     30|     16|    0.5333|     21|     19|    0.9048|      6|     35|     41|      35|      36|      30|      20|       0|       0|       0|       0|     48.8095|     79.0698|    0.6779|     0.6375|     14.6341|     85.3659|   16.0015|     4.8775|     8.7795|    18.0| 1.5125|103.875|  86.2033|118.0353|119.0108|  -0.9755|      0.4725|24.2442|      2.0|  29.4118|102.5117|102.9406|\n",
            "|2017-10-17 00:00:00| 10:30|Regular| Maddox|    Tre|Garretson|    Ron|   Foster|  Scott|      GS|    West|  Pacific|   Home|    Loss|    241|         0|    121|     34|    17|      5|      9|    25|     80|     43|    0.5375|     50|     27|      0.54|     30|     16|    0.5333|     21|     19|    0.9048|      6|     35|     41|      35|      36|      30|      20|       0|       0|       0|       0|     48.8095|     79.0698|    0.6779|     0.6375|     15.3846|     77.7778|   16.0015|     4.8775|     8.7795|    18.0| 1.5125|103.875|  86.2033|118.0353|119.0108|  -0.9755|      0.4725|24.2442|      2.0|  29.4118|     HOU|    West|Southwest|   Away|     Win|    239|         0|    122|     28|    13|      9|      5|    16|     97|     47|    0.4845|     56|     32|    0.5714|     41|     15|    0.3659|     19|     13|    0.6842|     10|     33|     43|      34|      28|      26|      34|       0|       0|       0|       0|     51.1905|     59.5745|     0.579|     0.5619|     23.2558|     76.7442|   10.9834|     8.7795|     4.8775|  8.9286| 1.2577| 97.875|  81.9038|119.0108|118.0353|   0.9755|        0.47|19.1309|   2.1538|  69.2308|102.5117|102.0863|\n",
            "|2017-10-18 00:00:00| 07:00|Regular|  Davis|   Marc|   Boland|   Matt|   DeRosa|    Joe|     CHA|    East|Southeast|   Away|    Loss|    238|         0|     90|     16|    17|      4|      3|    15|     73|     29|    0.3973|     43|     20|    0.4651|     30|      9|       0.3|     29|     23|    0.7931|      3|     44|     47|      27|      18|      25|      20|       0|       0|       0|       0|        50.0|     55.1724|    0.5247|     0.4589|      7.3171|     83.0189|   16.5434|     4.0412|     3.0309|  6.9767| 1.2329| 58.875|  49.4748|  90.927|103.0506| -12.1236|      0.3333|13.4725|   0.9412|  23.5294|     DET|    East|  Central|   Home|     Win|    239|         0|    102|     24|     9|     14|      3|    21|     96|     41|    0.4271|     70|     32|    0.4571|     26|      9|    0.3462|     12|     11|    0.9167|      9|     38|     47|      29|      27|      26|      20|       0|       0|       0|       0|        50.0|     58.5366|    0.5036|      0.474|     19.1489|     80.8511|     8.161|    14.1442|     3.0309|  4.2857| 1.0625|   84.5|  70.7113|103.0506|  90.927|  12.1236|      0.4271|17.8731|   2.6667| 155.5556| 98.9805| 99.8123|\n",
            "+-------------------+------+-------+-------+-------+---------+-------+---------+-------+--------+--------+---------+-------+--------+-------+----------+-------+-------+------+-------+-------+------+-------+-------+----------+-------+-------+----------+-------+-------+----------+-------+-------+----------+-------+-------+-------+--------+--------+--------+--------+--------+--------+--------+--------+------------+------------+----------+-----------+------------+------------+----------+-----------+-----------+--------+-------+-------+---------+--------+--------+---------+------------+-------+---------+---------+--------+--------+---------+-------+--------+-------+----------+-------+-------+------+-------+-------+------+-------+-------+----------+-------+-------+----------+-------+-------+----------+-------+-------+----------+-------+-------+-------+--------+--------+--------+--------+--------+--------+--------+--------+------------+------------+----------+-----------+------------+------------+----------+-----------+-----------+--------+-------+-------+---------+--------+--------+---------+------------+-------+---------+---------+--------+--------+\n",
            "only showing top 5 rows\n",
            "\n"
          ],
          "name": "stdout"
        }
      ]
    },
    {
      "metadata": {
        "id": "4yKBE-ctTArR",
        "colab_type": "code",
        "colab": {
          "base_uri": "https://localhost:8080/",
          "height": 530
        },
        "outputId": "98f0b7fb-32ab-4d0c-bd04-3517da279525"
      },
      "cell_type": "code",
      "source": [
        "# Update NULL values\n",
        "# Date: 2017-12-28\n",
        "# Third Official: Petraitis\tGediminas \n",
        "\n",
        "# Show the Null values in each of the dataframes\n",
        "boxScore1617.filter('IsNull(offFNm3)').show()\n",
        "boxScore1718.filter('IsNull(offFNm3)').show()\n",
        "\n",
        "# Show the null values\n",
        "boxScore1718.filter('IsNull(offFNm3)').select(\"offLNm3\", \"offFNm3\").show()\n",
        "\n",
        "# Replace the nulls\n",
        "boxScore1718 = boxScore1718.na.fill({'offLNm3' : \"Gediminas\", 'offFNm3' : \"Petraitis\" })\n",
        "\n",
        "# Show that there are no more null values\n",
        "boxScore1718.filter('IsNull(offFNm3)').select(\"offLNm3\", \"offFNm3\").show()\n",
        "\n",
        "# Show that the Null values in the 1718 dataframes have gone\n",
        "boxScore1718.filter('IsNull(offFNm3)').show()\n"
      ],
      "execution_count": 55,
      "outputs": [
        {
          "output_type": "stream",
          "text": [
            "+------+------+-------+-------+-------+-------+-------+-------+-------+--------+--------+-------+-------+--------+-------+----------+-------+-------+------+-------+-------+------+-------+-------+----------+-------+-------+----------+-------+-------+----------+-------+-------+----------+-------+-------+-------+--------+--------+--------+--------+--------+--------+--------+--------+------------+------------+----------+-----------+------------+------------+----------+-----------+-----------+--------+-------+-------+---------+--------+--------+---------+------------+------+---------+---------+--------+--------+-------+-------+--------+-------+----------+-------+-------+------+-------+-------+------+-------+-------+----------+-------+-------+----------+-------+-------+----------+-------+-------+----------+-------+-------+-------+--------+--------+--------+--------+--------+--------+--------+--------+------------+------------+----------+-----------+------------+------------+----------+-----------+-----------+--------+-------+-------+---------+--------+--------+---------+------------+------+---------+---------+----+----+\n",
            "|gmDate|gmTime|seasTyp|offLNm1|offFNm1|offLNm2|offFNm2|offLNm3|offFNm3|teamAbbr|teamConf|teamDiv|teamLoc|teamRslt|teamMin|teamDayOff|teamPTS|teamAST|teamTO|teamSTL|teamBLK|teamPF|teamFGA|teamFGM|teamFGPerc|team2PA|team2PM|team2PPerc|team3PA|team3PM|team3PPerc|teamFTA|teamFTM|teamFTPerc|teamORB|teamDRB|teamTRB|teamPTS1|teamPTS2|teamPTS3|teamPTS4|teamPTS5|teamPTS6|teamPTS7|teamPTS8|teamTREBPerc|teamASSTPerc|teamTSPerc|teamEFGPerc|teamOREBPerc|teamDREBPerc|teamTOPerc|teamSTLPerc|teamBLKPerc|teamBLKR|teamPPS|teamFIC|teamFIC40|teamOrtg|teamDrtg|teamEDiff|teamPlayPerc|teamAR|teamASTTO|teamSTLTO|opptAbbr|opptConf|opptDiv|opptLoc|opptRslt|opptMin|opptDayOff|opptPTS|opptAST|opptTO|opptSTL|opptBLK|opptPF|opptFGA|opptFGM|opptFGPerc|oppt2PA|oppt2PM|oppt2PPerc|oppt3PA|oppt3PM|oppt3PPerc|opptFTA|opptFTM|opptFTPerc|opptORB|opptDRB|opptTRB|opptPTS1|opptPTS2|opptPTS3|opptPTS4|opptPTS5|opptPTS6|opptPTS7|opptPTS8|opptTREBPerc|opptASSTPerc|opptTSPerc|opptEFGPerc|opptOREBPerc|opptDREBPerc|opptTOPerc|opptSTLPerc|opptBLKPerc|opptBLKR|opptPPS|opptFIC|opptFIC40|opptOrtg|opptDrtg|opptEDiff|opptPlayPerc|opptAR|opptASTTO|opptSTLTO|poss|pace|\n",
            "+------+------+-------+-------+-------+-------+-------+-------+-------+--------+--------+-------+-------+--------+-------+----------+-------+-------+------+-------+-------+------+-------+-------+----------+-------+-------+----------+-------+-------+----------+-------+-------+----------+-------+-------+-------+--------+--------+--------+--------+--------+--------+--------+--------+------------+------------+----------+-----------+------------+------------+----------+-----------+-----------+--------+-------+-------+---------+--------+--------+---------+------------+------+---------+---------+--------+--------+-------+-------+--------+-------+----------+-------+-------+------+-------+-------+------+-------+-------+----------+-------+-------+----------+-------+-------+----------+-------+-------+----------+-------+-------+-------+--------+--------+--------+--------+--------+--------+--------+--------+------------+------------+----------+-----------+------------+------------+----------+-----------+-----------+--------+-------+-------+---------+--------+--------+---------+------------+------+---------+---------+----+----+\n",
            "+------+------+-------+-------+-------+-------+-------+-------+-------+--------+--------+-------+-------+--------+-------+----------+-------+-------+------+-------+-------+------+-------+-------+----------+-------+-------+----------+-------+-------+----------+-------+-------+----------+-------+-------+-------+--------+--------+--------+--------+--------+--------+--------+--------+------------+------------+----------+-----------+------------+------------+----------+-----------+-----------+--------+-------+-------+---------+--------+--------+---------+------------+------+---------+---------+--------+--------+-------+-------+--------+-------+----------+-------+-------+------+-------+-------+------+-------+-------+----------+-------+-------+----------+-------+-------+----------+-------+-------+----------+-------+-------+-------+--------+--------+--------+--------+--------+--------+--------+--------+------------+------------+----------+-----------+------------+------------+----------+-----------+-----------+--------+-------+-------+---------+--------+--------+---------+------------+------+---------+---------+----+----+\n",
            "\n",
            "+-------------------+------+-------+-------+-------+--------+-------+-------+-------+--------+--------+---------+-------+--------+-------+----------+-------+-------+------+-------+-------+------+-------+-------+----------+-------+-------+----------+-------+-------+----------+-------+-------+----------+-------+-------+-------+--------+--------+--------+--------+--------+--------+--------+--------+------------+------------+----------+-----------+------------+------------+----------+-----------+-----------+--------+-------+-------+---------+--------+--------+---------+------------+-------+---------+---------+--------+--------+---------+-------+--------+-------+----------+-------+-------+------+-------+-------+------+-------+-------+----------+-------+-------+----------+-------+-------+----------+-------+-------+----------+-------+-------+-------+--------+--------+--------+--------+--------+--------+--------+--------+------------+------------+----------+-----------+------------+------------+----------+-----------+-----------+--------+-------+-------+---------+--------+--------+---------+------------+-------+---------+---------+-------+-------+\n",
            "|             gmDate|gmTime|seasTyp|offLNm1|offFNm1| offLNm2|offFNm2|offLNm3|offFNm3|teamAbbr|teamConf|  teamDiv|teamLoc|teamRslt|teamMin|teamDayOff|teamPTS|teamAST|teamTO|teamSTL|teamBLK|teamPF|teamFGA|teamFGM|teamFGPerc|team2PA|team2PM|team2PPerc|team3PA|team3PM|team3PPerc|teamFTA|teamFTM|teamFTPerc|teamORB|teamDRB|teamTRB|teamPTS1|teamPTS2|teamPTS3|teamPTS4|teamPTS5|teamPTS6|teamPTS7|teamPTS8|teamTREBPerc|teamASSTPerc|teamTSPerc|teamEFGPerc|teamOREBPerc|teamDREBPerc|teamTOPerc|teamSTLPerc|teamBLKPerc|teamBLKR|teamPPS|teamFIC|teamFIC40|teamOrtg|teamDrtg|teamEDiff|teamPlayPerc| teamAR|teamASTTO|teamSTLTO|opptAbbr|opptConf|  opptDiv|opptLoc|opptRslt|opptMin|opptDayOff|opptPTS|opptAST|opptTO|opptSTL|opptBLK|opptPF|opptFGA|opptFGM|opptFGPerc|oppt2PA|oppt2PM|oppt2PPerc|oppt3PA|oppt3PM|oppt3PPerc|opptFTA|opptFTM|opptFTPerc|opptORB|opptDRB|opptTRB|opptPTS1|opptPTS2|opptPTS3|opptPTS4|opptPTS5|opptPTS6|opptPTS7|opptPTS8|opptTREBPerc|opptASSTPerc|opptTSPerc|opptEFGPerc|opptOREBPerc|opptDREBPerc|opptTOPerc|opptSTLPerc|opptBLKPerc|opptBLKR|opptPPS|opptFIC|opptFIC40|opptOrtg|opptDrtg|opptEDiff|opptPlayPerc| opptAR|opptASTTO|opptSTLTO|   poss|   pace|\n",
            "+-------------------+------+-------+-------+-------+--------+-------+-------+-------+--------+--------+---------+-------+--------+-------+----------+-------+-------+------+-------+-------+------+-------+-------+----------+-------+-------+----------+-------+-------+----------+-------+-------+----------+-------+-------+-------+--------+--------+--------+--------+--------+--------+--------+--------+------------+------------+----------+-----------+------------+------------+----------+-----------+-----------+--------+-------+-------+---------+--------+--------+---------+------------+-------+---------+---------+--------+--------+---------+-------+--------+-------+----------+-------+-------+------+-------+-------+------+-------+-------+----------+-------+-------+----------+-------+-------+----------+-------+-------+----------+-------+-------+-------+--------+--------+--------+--------+--------+--------+--------+--------+------------+------------+----------+-----------+------------+------------+----------+-----------+-----------+--------+-------+-------+---------+--------+--------+---------+------------+-------+---------+---------+-------+-------+\n",
            "|2017-12-28 00:00:00| 08:00|Regular|Lindsay|   Mark|Brothers|   Tony|   null|   null|     HOU|    West|Southwest|   Away|    Loss|    240|         3|     98|     16|    17|      9|      3|    23|     80|     30|     0.375|     37|     16|    0.4324|     43|     14|    0.3256|     31|     24|    0.7742|      7|     36|     43|      32|      30|      16|      20|       0|       0|       0|       0|     49.4253|     53.3333|    0.5233|     0.4625|     17.0732|     78.2609|   15.3651|     9.0726|     3.0242|  8.1081|  1.225| 59.875|  49.8958| 98.7904| 99.7985|  -1.0081|      0.3333|12.6342|   0.9412|  52.9412|     BOS|    East| Atlantic|   Home|     Win|    239|         1|     99|     18|    17|      9|      8|    22|     82|     37|    0.4512|     53|     29|    0.5472|     29|      8|    0.2759|     24|     17|    0.7083|     10|     34|     44|      12|      26|      31|      30|       0|       0|       0|       0|     50.5747|     48.6486|    0.5348|        0.5|     22.7273|     77.2727|   15.5166|     9.0726|     8.0645| 15.0943| 1.2073|   71.0|  59.4142| 99.7985| 98.7904|   1.0081|      0.4157| 14.111|   1.0588|  52.9412|99.1999|99.1999|\n",
            "|2017-12-28 00:00:00| 08:00|Regular|Lindsay|   Mark|Brothers|   Tony|   null|   null|     BOS|    East| Atlantic|   Home|     Win|    239|         1|     99|     18|    17|      9|      8|    22|     82|     37|    0.4512|     53|     29|    0.5472|     29|      8|    0.2759|     24|     17|    0.7083|     10|     34|     44|      12|      26|      31|      30|       0|       0|       0|       0|     50.5747|     48.6486|    0.5348|        0.5|     21.7391|     82.9268|   15.5166|     9.0726|     8.0645| 15.0943| 1.2073|   71.0|  59.4142| 99.7985| 98.7904|   1.0081|      0.4157| 14.111|   1.0588|  52.9412|     HOU|    West|Southwest|   Away|    Loss|    240|         3|     98|     16|    17|      9|      3|    23|     80|     30|     0.375|     37|     16|    0.4324|     43|     14|    0.3256|     31|     24|    0.7742|      7|     36|     43|      32|      30|      16|      20|       0|       0|       0|       0|     49.4253|     53.3333|    0.5233|     0.4625|     16.2791|     83.7209|   15.3651|     9.0726|     3.0242|  8.1081|  1.225| 59.875|  49.8958| 98.7904| 99.7985|  -1.0081|      0.3333|12.6342|   0.9412|  52.9412|99.1999| 99.615|\n",
            "+-------------------+------+-------+-------+-------+--------+-------+-------+-------+--------+--------+---------+-------+--------+-------+----------+-------+-------+------+-------+-------+------+-------+-------+----------+-------+-------+----------+-------+-------+----------+-------+-------+----------+-------+-------+-------+--------+--------+--------+--------+--------+--------+--------+--------+------------+------------+----------+-----------+------------+------------+----------+-----------+-----------+--------+-------+-------+---------+--------+--------+---------+------------+-------+---------+---------+--------+--------+---------+-------+--------+-------+----------+-------+-------+------+-------+-------+------+-------+-------+----------+-------+-------+----------+-------+-------+----------+-------+-------+----------+-------+-------+-------+--------+--------+--------+--------+--------+--------+--------+--------+------------+------------+----------+-----------+------------+------------+----------+-----------+-----------+--------+-------+-------+---------+--------+--------+---------+------------+-------+---------+---------+-------+-------+\n",
            "\n",
            "+-------+-------+\n",
            "|offLNm3|offFNm3|\n",
            "+-------+-------+\n",
            "|   null|   null|\n",
            "|   null|   null|\n",
            "+-------+-------+\n",
            "\n",
            "+-------+-------+\n",
            "|offLNm3|offFNm3|\n",
            "+-------+-------+\n",
            "+-------+-------+\n",
            "\n",
            "+------+------+-------+-------+-------+-------+-------+-------+-------+--------+--------+-------+-------+--------+-------+----------+-------+-------+------+-------+-------+------+-------+-------+----------+-------+-------+----------+-------+-------+----------+-------+-------+----------+-------+-------+-------+--------+--------+--------+--------+--------+--------+--------+--------+------------+------------+----------+-----------+------------+------------+----------+-----------+-----------+--------+-------+-------+---------+--------+--------+---------+------------+------+---------+---------+--------+--------+-------+-------+--------+-------+----------+-------+-------+------+-------+-------+------+-------+-------+----------+-------+-------+----------+-------+-------+----------+-------+-------+----------+-------+-------+-------+--------+--------+--------+--------+--------+--------+--------+--------+------------+------------+----------+-----------+------------+------------+----------+-----------+-----------+--------+-------+-------+---------+--------+--------+---------+------------+------+---------+---------+----+----+\n",
            "|gmDate|gmTime|seasTyp|offLNm1|offFNm1|offLNm2|offFNm2|offLNm3|offFNm3|teamAbbr|teamConf|teamDiv|teamLoc|teamRslt|teamMin|teamDayOff|teamPTS|teamAST|teamTO|teamSTL|teamBLK|teamPF|teamFGA|teamFGM|teamFGPerc|team2PA|team2PM|team2PPerc|team3PA|team3PM|team3PPerc|teamFTA|teamFTM|teamFTPerc|teamORB|teamDRB|teamTRB|teamPTS1|teamPTS2|teamPTS3|teamPTS4|teamPTS5|teamPTS6|teamPTS7|teamPTS8|teamTREBPerc|teamASSTPerc|teamTSPerc|teamEFGPerc|teamOREBPerc|teamDREBPerc|teamTOPerc|teamSTLPerc|teamBLKPerc|teamBLKR|teamPPS|teamFIC|teamFIC40|teamOrtg|teamDrtg|teamEDiff|teamPlayPerc|teamAR|teamASTTO|teamSTLTO|opptAbbr|opptConf|opptDiv|opptLoc|opptRslt|opptMin|opptDayOff|opptPTS|opptAST|opptTO|opptSTL|opptBLK|opptPF|opptFGA|opptFGM|opptFGPerc|oppt2PA|oppt2PM|oppt2PPerc|oppt3PA|oppt3PM|oppt3PPerc|opptFTA|opptFTM|opptFTPerc|opptORB|opptDRB|opptTRB|opptPTS1|opptPTS2|opptPTS3|opptPTS4|opptPTS5|opptPTS6|opptPTS7|opptPTS8|opptTREBPerc|opptASSTPerc|opptTSPerc|opptEFGPerc|opptOREBPerc|opptDREBPerc|opptTOPerc|opptSTLPerc|opptBLKPerc|opptBLKR|opptPPS|opptFIC|opptFIC40|opptOrtg|opptDrtg|opptEDiff|opptPlayPerc|opptAR|opptASTTO|opptSTLTO|poss|pace|\n",
            "+------+------+-------+-------+-------+-------+-------+-------+-------+--------+--------+-------+-------+--------+-------+----------+-------+-------+------+-------+-------+------+-------+-------+----------+-------+-------+----------+-------+-------+----------+-------+-------+----------+-------+-------+-------+--------+--------+--------+--------+--------+--------+--------+--------+------------+------------+----------+-----------+------------+------------+----------+-----------+-----------+--------+-------+-------+---------+--------+--------+---------+------------+------+---------+---------+--------+--------+-------+-------+--------+-------+----------+-------+-------+------+-------+-------+------+-------+-------+----------+-------+-------+----------+-------+-------+----------+-------+-------+----------+-------+-------+-------+--------+--------+--------+--------+--------+--------+--------+--------+------------+------------+----------+-----------+------------+------------+----------+-----------+-----------+--------+-------+-------+---------+--------+--------+---------+------------+------+---------+---------+----+----+\n",
            "+------+------+-------+-------+-------+-------+-------+-------+-------+--------+--------+-------+-------+--------+-------+----------+-------+-------+------+-------+-------+------+-------+-------+----------+-------+-------+----------+-------+-------+----------+-------+-------+----------+-------+-------+-------+--------+--------+--------+--------+--------+--------+--------+--------+------------+------------+----------+-----------+------------+------------+----------+-----------+-----------+--------+-------+-------+---------+--------+--------+---------+------------+------+---------+---------+--------+--------+-------+-------+--------+-------+----------+-------+-------+------+-------+-------+------+-------+-------+----------+-------+-------+----------+-------+-------+----------+-------+-------+----------+-------+-------+-------+--------+--------+--------+--------+--------+--------+--------+--------+------------+------------+----------+-----------+------------+------------+----------+-----------+-----------+--------+-------+-------+---------+--------+--------+---------+------------+------+---------+---------+----+----+\n",
            "\n"
          ],
          "name": "stdout"
        }
      ]
    },
    {
      "metadata": {
        "id": "TRwVRX6iJ8lo",
        "colab_type": "text"
      },
      "cell_type": "markdown",
      "source": [
        "######################################################################################################\n",
        "### For the Box Score preparation - the next set of steps are for the box score data preparation\n",
        "######################################################################################################"
      ]
    },
    {
      "metadata": {
        "id": "lxy4tM_YJ8lp",
        "colab_type": "code",
        "colab": {
          "base_uri": "https://localhost:8080/",
          "height": 224
        },
        "outputId": "a5d8cefa-abbf-4e63-b4fb-b1838209b110"
      },
      "cell_type": "code",
      "source": [
        "# Create column for the \"days since\" the start of the season for 2016/17\n",
        "\n",
        "boxScore1617 = boxScore1617.withColumn('daysSince', datediff(to_date(boxScore1617['gmDate']), to_date(lit('2016-10-25'))))\n",
        "boxScore1617.show(5)"
      ],
      "execution_count": 56,
      "outputs": [
        {
          "output_type": "stream",
          "text": [
            "+-------------------+------+-------+-------+-------+--------+-------+--------+-------+--------+--------+---------+-------+--------+-------+----------+-------+-------+------+-------+-------+------+-------+-------+----------+-------+-------+----------+-------+-------+----------+-------+-------+----------+-------+-------+-------+--------+--------+--------+--------+--------+--------+--------+--------+------------+------------+----------+-----------+------------+------------+----------+-----------+-----------+--------+-------+-------+---------+--------+--------+---------+------------+-------+---------+---------+--------+--------+---------+-------+--------+-------+----------+-------+-------+------+-------+-------+------+-------+-------+----------+-------+-------+----------+-------+-------+----------+-------+-------+----------+-------+-------+-------+--------+--------+--------+--------+--------+--------+--------+--------+------------+------------+----------+-----------+------------+------------+----------+-----------+-----------+--------+-------+-------+---------+--------+--------+---------+------------+-------+---------+---------+--------+--------+---------+\n",
            "|             gmDate|gmTime|seasTyp|offLNm1|offFNm1| offLNm2|offFNm2| offLNm3|offFNm3|teamAbbr|teamConf|  teamDiv|teamLoc|teamRslt|teamMin|teamDayOff|teamPTS|teamAST|teamTO|teamSTL|teamBLK|teamPF|teamFGA|teamFGM|teamFGPerc|team2PA|team2PM|team2PPerc|team3PA|team3PM|team3PPerc|teamFTA|teamFTM|teamFTPerc|teamORB|teamDRB|teamTRB|teamPTS1|teamPTS2|teamPTS3|teamPTS4|teamPTS5|teamPTS6|teamPTS7|teamPTS8|teamTREBPerc|teamASSTPerc|teamTSPerc|teamEFGPerc|teamOREBPerc|teamDREBPerc|teamTOPerc|teamSTLPerc|teamBLKPerc|teamBLKR|teamPPS|teamFIC|teamFIC40|teamOrtg|teamDrtg|teamEDiff|teamPlayPerc| teamAR|teamASTTO|teamSTLTO|opptAbbr|opptConf|  opptDiv|opptLoc|opptRslt|opptMin|opptDayOff|opptPTS|opptAST|opptTO|opptSTL|opptBLK|opptPF|opptFGA|opptFGM|opptFGPerc|oppt2PA|oppt2PM|oppt2PPerc|oppt3PA|oppt3PM|oppt3PPerc|opptFTA|opptFTM|opptFTPerc|opptORB|opptDRB|opptTRB|opptPTS1|opptPTS2|opptPTS3|opptPTS4|opptPTS5|opptPTS6|opptPTS7|opptPTS8|opptTREBPerc|opptASSTPerc|opptTSPerc|opptEFGPerc|opptOREBPerc|opptDREBPerc|opptTOPerc|opptSTLPerc|opptBLKPerc|opptBLKR|opptPPS|opptFIC|opptFIC40|opptOrtg|opptDrtg|opptEDiff|opptPlayPerc| opptAR|opptASTTO|opptSTLTO|    poss|    pace|daysSince|\n",
            "+-------------------+------+-------+-------+-------+--------+-------+--------+-------+--------+--------+---------+-------+--------+-------+----------+-------+-------+------+-------+-------+------+-------+-------+----------+-------+-------+----------+-------+-------+----------+-------+-------+----------+-------+-------+-------+--------+--------+--------+--------+--------+--------+--------+--------+------------+------------+----------+-----------+------------+------------+----------+-----------+-----------+--------+-------+-------+---------+--------+--------+---------+------------+-------+---------+---------+--------+--------+---------+-------+--------+-------+----------+-------+-------+------+-------+-------+------+-------+-------+----------+-------+-------+----------+-------+-------+----------+-------+-------+----------+-------+-------+-------+--------+--------+--------+--------+--------+--------+--------+--------+------------+------------+----------+-----------+------------+------------+----------+-----------+-----------+--------+-------+-------+---------+--------+--------+---------+------------+-------+---------+---------+--------+--------+---------+\n",
            "|2016-10-25 00:00:00| 08:00|Regular|   Lane|   Karl|   Adams| Bennie| Kennedy|   Bill|      NY|    East| Atlantic|   Away|    Loss|    240|         0|     88|     17|    18|      6|      6|    22|     87|     32|    0.3678|     60|     23|    0.3833|     27|      9|    0.3333|     20|     15|      0.75|     13|     29|     42|      18|      27|      19|      24|       0|       0|       0|       0|     45.1613|      53.125|    0.4593|     0.4195|     24.5283|        72.5|   15.8172|     5.9777|     5.9777|    10.0| 1.0115|   50.0|  41.6667| 87.6731|116.5653| -28.8922|      0.3478|12.9969|   0.9444|  33.3333|     CLE|    East|  Central|   Home|     Win|    241|         0|    117|     31|    15|     12|      5|    22|     94|     45|    0.4787|     59|     32|    0.5424|     35|     13|    0.3714|     19|     14|    0.7368|     11|     40|     51|      28|      20|      34|      35|       0|       0|       0|       0|     54.8387|     68.8889|    0.5715|     0.5479|     21.5686|     78.4314|   12.7812|    11.9554|     4.9814|  8.4746| 1.2447|102.375|  84.9585|116.5653| 87.6731|  28.8922|      0.4592|20.8951|   2.0667|     80.0|100.3729|100.3729|        0|\n",
            "|2016-10-25 00:00:00| 08:00|Regular|   Lane|   Karl|   Adams| Bennie| Kennedy|   Bill|     CLE|    East|  Central|   Home|     Win|    241|         0|    117|     31|    15|     12|      5|    22|     94|     45|    0.4787|     59|     32|    0.5424|     35|     13|    0.3714|     19|     14|    0.7368|     11|     40|     51|      28|      20|      34|      35|       0|       0|       0|       0|     54.8387|     68.8889|    0.5715|     0.5479|        27.5|     75.4717|   12.7812|    11.9554|     4.9814|  8.4746| 1.2447|102.375|  84.9585|116.5653| 87.6731|  28.8922|      0.4592|20.8951|   2.0667|     80.0|      NY|    East| Atlantic|   Away|    Loss|    240|         0|     88|     17|    18|      6|      6|    22|     87|     32|    0.3678|     60|     23|    0.3833|     27|      9|    0.3333|     20|     15|      0.75|     13|     29|     42|      18|      27|      19|      24|       0|       0|       0|       0|     45.1613|      53.125|    0.4593|     0.4195|     30.9524|     69.0476|   15.8172|     5.9777|     5.9777|    10.0| 1.0115|   50.0|  41.6667| 87.6731|116.5653| -28.8922|      0.3478|12.9969|   0.9444|  33.3333|100.3729| 99.9564|        0|\n",
            "|2016-10-25 00:00:00| 10:00|Regular|Buchert|   Nick|Callahan|   Mike|   Brown|   Tony|     UTA|    West|Northwest|   Away|    Loss|    241|         0|    104|     19|    14|      9|      5|    19|     82|     40|    0.4878|     58|     32|    0.5517|     24|      8|    0.3333|     16|     16|       1.0|      6|     25|     31|      26|      20|      37|      21|       0|       0|       0|       0|     47.6923|        47.5|     0.584|     0.5366|     17.1429|     83.3333|    13.587|     9.7257|     5.4032|  8.6207| 1.2683|  70.75|  58.7137|112.3863| 122.112|  -9.7257|      0.4444|15.5687|   1.3571|  64.2857|     POR|    West|Northwest|   Home|     Win|    239|         0|    113|     22|    13|      5|      3|    18|     75|     39|      0.52|     56|     26|    0.4643|     19|     13|    0.6842|     22|     22|       1.0|      5|     29|     34|      26|      28|      23|      36|       0|       0|       0|       0|     52.3077|     56.4103|    0.6672|     0.6067|     14.7059|     85.2941|   13.3088|     5.4032|     3.2419|  5.3571| 1.5067|  83.25|  69.6653| 122.112|112.3863|   9.7257|      0.4699|18.3824|   1.6923|  38.4615|  92.538|  92.154|        0|\n",
            "|2016-10-25 00:00:00| 10:00|Regular|Buchert|   Nick|Callahan|   Mike|   Brown|   Tony|     POR|    West|Northwest|   Home|     Win|    239|         0|    113|     22|    13|      5|      3|    18|     75|     39|      0.52|     56|     26|    0.4643|     19|     13|    0.6842|     22|     22|       1.0|      5|     29|     34|      26|      28|      23|      36|       0|       0|       0|       0|     52.3077|     56.4103|    0.6672|     0.6067|     16.6667|     82.8571|   13.3088|     5.4032|     3.2419|  5.3571| 1.5067|  83.25|  69.6653| 122.112|112.3863|   9.7257|      0.4699|18.3824|   1.6923|  38.4615|     UTA|    West|Northwest|   Away|    Loss|    241|         0|    104|     19|    14|      9|      5|    19|     82|     40|    0.4878|     58|     32|    0.5517|     24|      8|    0.3333|     16|     16|       1.0|      6|     25|     31|      26|      20|      37|      21|       0|       0|       0|       0|     47.6923|        47.5|     0.584|     0.5366|     19.3548|     80.6452|    13.587|     9.7257|     5.4032|  8.6207| 1.2683|  70.75|  58.7137|112.3863| 122.112|  -9.7257|      0.4444|15.5687|   1.3571|  64.2857|  92.538| 92.9252|        0|\n",
            "|2016-10-25 00:00:00| 10:30|Regular| Maddox|    Tre|  Fraher|    Pat|Crawford|    Dan|      SA|    West|Southwest|   Away|     Win|    240|         0|    129|     25|    14|     13|      3|    19|     98|     47|    0.4796|     74|     35|     0.473|     24|     12|       0.5|     26|     23|    0.8846|     21|     34|     55|      31|      33|      33|      32|       0|       0|       0|       0|     61.1111|     53.1915|    0.5894|     0.5408|       43.75|     80.9524|   11.3415|     13.161|     3.0372|  4.0541| 1.3163| 109.75|  91.4583|130.5979|101.2387|  29.3592|      0.5165|16.8418|   1.7857|  92.8571|      GS|    West|  Pacific|   Home|    Loss|    241|         0|    100|     24|    16|     11|      6|    19|     85|     40|    0.4706|     52|     33|    0.6346|     33|      7|    0.2121|     18|     13|    0.7222|      8|     27|     35|      20|      26|      31|      23|       0|       0|       0|       0|     38.8889|        60.0|    0.5381|     0.5118|     22.8571|     77.1429|   14.6897|    11.1363|     6.0743| 11.5385| 1.1765|  73.25|  60.7884|101.2387|130.5979| -29.3592|      0.4301| 18.056|      1.5|    68.75| 98.7765| 98.7765|        0|\n",
            "+-------------------+------+-------+-------+-------+--------+-------+--------+-------+--------+--------+---------+-------+--------+-------+----------+-------+-------+------+-------+-------+------+-------+-------+----------+-------+-------+----------+-------+-------+----------+-------+-------+----------+-------+-------+-------+--------+--------+--------+--------+--------+--------+--------+--------+------------+------------+----------+-----------+------------+------------+----------+-----------+-----------+--------+-------+-------+---------+--------+--------+---------+------------+-------+---------+---------+--------+--------+---------+-------+--------+-------+----------+-------+-------+------+-------+-------+------+-------+-------+----------+-------+-------+----------+-------+-------+----------+-------+-------+----------+-------+-------+-------+--------+--------+--------+--------+--------+--------+--------+--------+------------+------------+----------+-----------+------------+------------+----------+-----------+-----------+--------+-------+-------+---------+--------+--------+---------+------------+-------+---------+---------+--------+--------+---------+\n",
            "only showing top 5 rows\n",
            "\n"
          ],
          "name": "stdout"
        }
      ]
    },
    {
      "metadata": {
        "id": "-q3SvTxdJ8lv",
        "colab_type": "code",
        "colab": {
          "base_uri": "https://localhost:8080/",
          "height": 224
        },
        "outputId": "2e01c276-db22-45ed-a028-5daa87e11be8"
      },
      "cell_type": "code",
      "source": [
        "# Create column for the \"days since\" the start of the season for 2017/18\n",
        "\n",
        "boxScore1718 = boxScore1718.withColumn('daysSince', datediff(to_date(boxScore1718['gmDate']), to_date(lit('2016-10-17'))))\n",
        "boxScore1718.show(5)"
      ],
      "execution_count": 57,
      "outputs": [
        {
          "output_type": "stream",
          "text": [
            "+-------------------+------+-------+-------+-------+---------+-------+---------+-------+--------+--------+---------+-------+--------+-------+----------+-------+-------+------+-------+-------+------+-------+-------+----------+-------+-------+----------+-------+-------+----------+-------+-------+----------+-------+-------+-------+--------+--------+--------+--------+--------+--------+--------+--------+------------+------------+----------+-----------+------------+------------+----------+-----------+-----------+--------+-------+-------+---------+--------+--------+---------+------------+-------+---------+---------+--------+--------+---------+-------+--------+-------+----------+-------+-------+------+-------+-------+------+-------+-------+----------+-------+-------+----------+-------+-------+----------+-------+-------+----------+-------+-------+-------+--------+--------+--------+--------+--------+--------+--------+--------+------------+------------+----------+-----------+------------+------------+----------+-----------+-----------+--------+-------+-------+---------+--------+--------+---------+------------+-------+---------+---------+--------+--------+---------+\n",
            "|             gmDate|gmTime|seasTyp|offLNm1|offFNm1|  offLNm2|offFNm2|  offLNm3|offFNm3|teamAbbr|teamConf|  teamDiv|teamLoc|teamRslt|teamMin|teamDayOff|teamPTS|teamAST|teamTO|teamSTL|teamBLK|teamPF|teamFGA|teamFGM|teamFGPerc|team2PA|team2PM|team2PPerc|team3PA|team3PM|team3PPerc|teamFTA|teamFTM|teamFTPerc|teamORB|teamDRB|teamTRB|teamPTS1|teamPTS2|teamPTS3|teamPTS4|teamPTS5|teamPTS6|teamPTS7|teamPTS8|teamTREBPerc|teamASSTPerc|teamTSPerc|teamEFGPerc|teamOREBPerc|teamDREBPerc|teamTOPerc|teamSTLPerc|teamBLKPerc|teamBLKR|teamPPS|teamFIC|teamFIC40|teamOrtg|teamDrtg|teamEDiff|teamPlayPerc| teamAR|teamASTTO|teamSTLTO|opptAbbr|opptConf|  opptDiv|opptLoc|opptRslt|opptMin|opptDayOff|opptPTS|opptAST|opptTO|opptSTL|opptBLK|opptPF|opptFGA|opptFGM|opptFGPerc|oppt2PA|oppt2PM|oppt2PPerc|oppt3PA|oppt3PM|oppt3PPerc|opptFTA|opptFTM|opptFTPerc|opptORB|opptDRB|opptTRB|opptPTS1|opptPTS2|opptPTS3|opptPTS4|opptPTS5|opptPTS6|opptPTS7|opptPTS8|opptTREBPerc|opptASSTPerc|opptTSPerc|opptEFGPerc|opptOREBPerc|opptDREBPerc|opptTOPerc|opptSTLPerc|opptBLKPerc|opptBLKR|opptPPS|opptFIC|opptFIC40|opptOrtg|opptDrtg|opptEDiff|opptPlayPerc| opptAR|opptASTTO|opptSTLTO|    poss|    pace|daysSince|\n",
            "+-------------------+------+-------+-------+-------+---------+-------+---------+-------+--------+--------+---------+-------+--------+-------+----------+-------+-------+------+-------+-------+------+-------+-------+----------+-------+-------+----------+-------+-------+----------+-------+-------+----------+-------+-------+-------+--------+--------+--------+--------+--------+--------+--------+--------+------------+------------+----------+-----------+------------+------------+----------+-----------+-----------+--------+-------+-------+---------+--------+--------+---------+------------+-------+---------+---------+--------+--------+---------+-------+--------+-------+----------+-------+-------+------+-------+-------+------+-------+-------+----------+-------+-------+----------+-------+-------+----------+-------+-------+----------+-------+-------+-------+--------+--------+--------+--------+--------+--------+--------+--------+------------+------------+----------+-----------+------------+------------+----------+-----------+-----------+--------+-------+-------+---------+--------+--------+---------+------------+-------+---------+---------+--------+--------+---------+\n",
            "|2017-10-17 00:00:00| 08:00|Regular|  Forte|  Brian|    Smith|Michael|McCutchen|  Monty|     BOS|    East| Atlantic|   Away|    Loss|    241|         0|     99|     24|    12|     11|      4|    24|     88|     36|    0.4091|     56|     28|       0.5|     32|      8|      0.25|     25|     19|      0.76|      9|     37|     46|      19|      19|      33|      28|       0|       0|       0|       0|     47.9167|     66.6667|       0.5|     0.4545|        18.0|     80.4348|   10.8108|    10.9692|     3.9888|  7.1429|  1.125| 75.375|  62.5519| 98.7227|101.7143|  -2.9916|      0.3956|17.7778|      2.0|  91.6667|     CLE|    East|  Central|   Home|     Win|    240|         0|    102|     19|    17|      3|      4|    25|     83|     38|    0.4578|     61|     33|     0.541|     22|      5|    0.2273|     25|     21|      0.84|      9|     41|     50|      29|      25|      18|      30|       0|       0|       0|       0|     52.0833|        50.0|    0.5426|      0.488|        18.0|        82.0|   15.3153|     2.9916|     3.9888|  6.5574| 1.2289| 66.625|  55.5208|101.7143| 98.7227|   2.9916|      0.4176|14.6154|   1.1176|  17.6471|100.2809| 99.8648|      365|\n",
            "|2017-10-17 00:00:00| 08:00|Regular|  Forte|  Brian|    Smith|Michael|McCutchen|  Monty|     CLE|    East|  Central|   Home|     Win|    240|         0|    102|     19|    17|      3|      4|    25|     83|     38|    0.4578|     61|     33|     0.541|     22|      5|    0.2273|     25|     21|      0.84|      9|     41|     50|      29|      25|      18|      30|       0|       0|       0|       0|     52.0833|        50.0|    0.5426|      0.488|     19.5652|        82.0|   15.3153|     2.9916|     3.9888|  6.5574| 1.2289| 66.625|  55.5208|101.7143| 98.7227|   2.9916|      0.4176|14.6154|   1.1176|  17.6471|     BOS|    East| Atlantic|   Away|    Loss|    241|         0|     99|     24|    12|     11|      4|    24|     88|     36|    0.4091|     56|     28|       0.5|     32|      8|      0.25|     25|     19|      0.76|      9|     37|     46|      19|      19|      33|      28|       0|       0|       0|       0|     47.9167|     66.6667|       0.5|     0.4545|     19.5652|     80.4348|   10.8108|    10.9692|     3.9888|  7.1429|  1.125| 75.375|  62.5519| 98.7227|101.7143|  -2.9916|      0.3956|17.7778|      2.0|  91.6667|100.2809|100.2809|      365|\n",
            "|2017-10-17 00:00:00| 10:30|Regular| Maddox|    Tre|Garretson|    Ron|   Foster|  Scott|     HOU|    West|Southwest|   Away|     Win|    239|         0|    122|     28|    13|      9|      5|    16|     97|     47|    0.4845|     56|     32|    0.5714|     41|     15|    0.3659|     19|     13|    0.6842|     10|     33|     43|      34|      28|      26|      34|       0|       0|       0|       0|     51.1905|     59.5745|     0.579|     0.5619|     22.2222|     84.6154|   10.9834|     8.7795|     4.8775|  8.9286| 1.2577| 97.875|  81.9038|119.0108|118.0353|   0.9755|        0.47|19.1309|   2.1538|  69.2308|      GS|    West|  Pacific|   Home|    Loss|    241|         0|    121|     34|    17|      5|      9|    25|     80|     43|    0.5375|     50|     27|      0.54|     30|     16|    0.5333|     21|     19|    0.9048|      6|     35|     41|      35|      36|      30|      20|       0|       0|       0|       0|     48.8095|     79.0698|    0.6779|     0.6375|     14.6341|     85.3659|   16.0015|     4.8775|     8.7795|    18.0| 1.5125|103.875|  86.2033|118.0353|119.0108|  -0.9755|      0.4725|24.2442|      2.0|  29.4118|102.5117|102.9406|      365|\n",
            "|2017-10-17 00:00:00| 10:30|Regular| Maddox|    Tre|Garretson|    Ron|   Foster|  Scott|      GS|    West|  Pacific|   Home|    Loss|    241|         0|    121|     34|    17|      5|      9|    25|     80|     43|    0.5375|     50|     27|      0.54|     30|     16|    0.5333|     21|     19|    0.9048|      6|     35|     41|      35|      36|      30|      20|       0|       0|       0|       0|     48.8095|     79.0698|    0.6779|     0.6375|     15.3846|     77.7778|   16.0015|     4.8775|     8.7795|    18.0| 1.5125|103.875|  86.2033|118.0353|119.0108|  -0.9755|      0.4725|24.2442|      2.0|  29.4118|     HOU|    West|Southwest|   Away|     Win|    239|         0|    122|     28|    13|      9|      5|    16|     97|     47|    0.4845|     56|     32|    0.5714|     41|     15|    0.3659|     19|     13|    0.6842|     10|     33|     43|      34|      28|      26|      34|       0|       0|       0|       0|     51.1905|     59.5745|     0.579|     0.5619|     23.2558|     76.7442|   10.9834|     8.7795|     4.8775|  8.9286| 1.2577| 97.875|  81.9038|119.0108|118.0353|   0.9755|        0.47|19.1309|   2.1538|  69.2308|102.5117|102.0863|      365|\n",
            "|2017-10-18 00:00:00| 07:00|Regular|  Davis|   Marc|   Boland|   Matt|   DeRosa|    Joe|     CHA|    East|Southeast|   Away|    Loss|    238|         0|     90|     16|    17|      4|      3|    15|     73|     29|    0.3973|     43|     20|    0.4651|     30|      9|       0.3|     29|     23|    0.7931|      3|     44|     47|      27|      18|      25|      20|       0|       0|       0|       0|        50.0|     55.1724|    0.5247|     0.4589|      7.3171|     83.0189|   16.5434|     4.0412|     3.0309|  6.9767| 1.2329| 58.875|  49.4748|  90.927|103.0506| -12.1236|      0.3333|13.4725|   0.9412|  23.5294|     DET|    East|  Central|   Home|     Win|    239|         0|    102|     24|     9|     14|      3|    21|     96|     41|    0.4271|     70|     32|    0.4571|     26|      9|    0.3462|     12|     11|    0.9167|      9|     38|     47|      29|      27|      26|      20|       0|       0|       0|       0|        50.0|     58.5366|    0.5036|      0.474|     19.1489|     80.8511|     8.161|    14.1442|     3.0309|  4.2857| 1.0625|   84.5|  70.7113|103.0506|  90.927|  12.1236|      0.4271|17.8731|   2.6667| 155.5556| 98.9805| 99.8123|      366|\n",
            "+-------------------+------+-------+-------+-------+---------+-------+---------+-------+--------+--------+---------+-------+--------+-------+----------+-------+-------+------+-------+-------+------+-------+-------+----------+-------+-------+----------+-------+-------+----------+-------+-------+----------+-------+-------+-------+--------+--------+--------+--------+--------+--------+--------+--------+------------+------------+----------+-----------+------------+------------+----------+-----------+-----------+--------+-------+-------+---------+--------+--------+---------+------------+-------+---------+---------+--------+--------+---------+-------+--------+-------+----------+-------+-------+------+-------+-------+------+-------+-------+----------+-------+-------+----------+-------+-------+----------+-------+-------+----------+-------+-------+-------+--------+--------+--------+--------+--------+--------+--------+--------+------------+------------+----------+-----------+------------+------------+----------+-----------+-----------+--------+-------+-------+---------+--------+--------+---------+------------+-------+---------+---------+--------+--------+---------+\n",
            "only showing top 5 rows\n",
            "\n"
          ],
          "name": "stdout"
        }
      ]
    },
    {
      "metadata": {
        "id": "vwWm22uQJ8l1",
        "colab_type": "code",
        "colab": {
          "base_uri": "https://localhost:8080/",
          "height": 68
        },
        "outputId": "29b3bcc9-34e2-4c5c-c61c-58c2dc78e64a"
      },
      "cell_type": "code",
      "source": [
        "# Merge the two years dataframes of Games Played data\n",
        "boxScoreAll = boxScore1617.union(boxScore1718)\n",
        "\n",
        "print(\"Box Score 1617:\", boxScore1617.count())\n",
        "print(\"Box Score 1718:\", boxScore1718.count())\n",
        "print(\"Box Score All:\", boxScoreAll.count())"
      ],
      "execution_count": 58,
      "outputs": [
        {
          "output_type": "stream",
          "text": [
            "Box Score 1617: 2460\n",
            "Box Score 1718: 2460\n",
            "Box Score All: 4920\n"
          ],
          "name": "stdout"
        }
      ]
    },
    {
      "metadata": {
        "id": "yVWyNYoIJ8l-",
        "colab_type": "code",
        "colab": {
          "base_uri": "https://localhost:8080/",
          "height": 34
        },
        "outputId": "2d0efddc-a145-4c0c-8760-648c477ad78b"
      },
      "cell_type": "code",
      "source": [
        "# Remove all the \"Away\" perspective records by selecting only the \"Home\" records\n",
        "boxScoreAll = boxScoreAll.filter('teamLoc = \"Home\"')\n",
        "print(\"Box Score All:\", boxScoreAll.count())"
      ],
      "execution_count": 59,
      "outputs": [
        {
          "output_type": "stream",
          "text": [
            "Box Score All: 2460\n"
          ],
          "name": "stdout"
        }
      ]
    },
    {
      "metadata": {
        "id": "2qYz2L3pJ8mD",
        "colab_type": "code",
        "colab": {
          "base_uri": "https://localhost:8080/",
          "height": 376
        },
        "outputId": "ae65a1ac-7f7f-42da-a3db-54e15bac8510"
      },
      "cell_type": "code",
      "source": [
        "# Visualize the Outliers\n",
        "\n",
        "myBS = pd.DataFrame(boxScoreAll.take(5000))\n",
        "\n",
        "plotData = pd.DataFrame(myBS, columns = [13, 16]).rename(inplace=False, index = str, columns = {13:\"teamRslt\",16:'teamPTS'}).pivot(columns='teamRslt')\n",
        "\n",
        "# Remove the NaN values from the array and make into a list because they will not be the same length\n",
        "plotdata = np.array(plotData)\n",
        "mask = ~np.isnan(plotdata)\n",
        "plotdata = [d[m] for d, m in zip(plotdata.T, mask.T)]\n",
        "\n",
        "fig, axes = plt.subplots(nrows=1, ncols=2, sharey=True)\n",
        "axes[0].boxplot(plotdata, showfliers = True, labels=list('LW'), sym='k')\n",
        "axes[0].set_title(\"Scores by Result\\nfor Home team\")\n",
        "\n",
        "# Repeat again for the away team\n",
        "plotData = pd.DataFrame(myBS, columns = [69, 72]).rename(inplace=False, index = str, columns = {69:\"teamRslt\",72:'teamPTS'}).pivot(columns='teamRslt')\n",
        "plotdata = np.array(plotData)\n",
        "mask = ~np.isnan(plotdata)\n",
        "plotdata = [d[m] for d, m in zip(plotdata.T, mask.T)]\n",
        "\n",
        "axes[1].boxplot(plotdata, showfliers = True, labels=list('LW'), sym='k')\n",
        "axes[1].set_title(\"Scores by Result\\nfor Away team\")\n",
        "\n",
        "fig.subplots_adjust(hspace=50)\n",
        "plt.show()"
      ],
      "execution_count": 61,
      "outputs": [
        {
          "output_type": "display_data",
          "data": {
            "image/png": "[encoded data removed]",
            "text/plain": [
              "<matplotlib.figure.Figure at 0x7f6d564aa6d8>"
            ]
          },
          "metadata": {
            "tags": []
          }
        }
      ]
    },
    {
      "metadata": {
        "id": "RKWjLvSXOltD",
        "colab_type": "code",
        "colab": {
          "base_uri": "https://localhost:8080/",
          "height": 1150
        },
        "outputId": "b72f8ee8-8619-482c-bcb0-cafb807232f1"
      },
      "cell_type": "code",
      "source": [
        "# Compare Home Win/Loss record with scatterplot\n",
        "boxScoreAll = boxScoreAll.withColumn('teamPTSDiff', abs(boxScoreAll['teamPTS'] - boxScoreAll['opptPTS']))\n",
        "\n",
        "pdDataFrame = pd.DataFrame(boxScoreAll.toPandas())\n",
        "\n",
        "cdict = {'Loss': 'red', 'Win': 'green'}\n",
        "fig, ax = plt.subplots()\n",
        "for g in np.unique(pdDataFrame.teamRslt):\n",
        "    ax.scatter(pdDataFrame.teamPTSDiff[pdDataFrame.teamRslt == g], pdDataFrame.teamPTS[pdDataFrame.teamRslt == g], c = cdict[g], label = g, s = 50)\n",
        "plt.legend(loc='best', bbox_to_anchor=(0.5, 0., 0.5, 0.5), frameon = True, edgecolor = \"black\")\n",
        "plt.title('Points differential in Wins vs Losses')\n",
        "plt.ylabel('Home Points')\n",
        "plt.xlabel('Absolute Points Differential')\n",
        "plt.show()"
      ],
      "execution_count": 295,
      "outputs": [
        {
          "output_type": "error",
          "ename": "AnalysisException",
          "evalue": "ignored",
          "traceback": [
            "\u001b[0;31m---------------------------------------------------------------------------\u001b[0m",
            "\u001b[0;31mPy4JJavaError\u001b[0m                             Traceback (most recent call last)",
            "\u001b[0;32m/content/spark-2.2.2-bin-hadoop2.7/python/pyspark/sql/utils.py\u001b[0m in \u001b[0;36mdeco\u001b[0;34m(*a, **kw)\u001b[0m\n\u001b[1;32m     62\u001b[0m         \u001b[0;32mtry\u001b[0m\u001b[0;34m:\u001b[0m\u001b[0;34m\u001b[0m\u001b[0m\n\u001b[0;32m---> 63\u001b[0;31m             \u001b[0;32mreturn\u001b[0m \u001b[0mf\u001b[0m\u001b[0;34m(\u001b[0m\u001b[0;34m*\u001b[0m\u001b[0ma\u001b[0m\u001b[0;34m,\u001b[0m \u001b[0;34m**\u001b[0m\u001b[0mkw\u001b[0m\u001b[0;34m)\u001b[0m\u001b[0;34m\u001b[0m\u001b[0m\n\u001b[0m\u001b[1;32m     64\u001b[0m         \u001b[0;32mexcept\u001b[0m \u001b[0mpy4j\u001b[0m\u001b[0;34m.\u001b[0m\u001b[0mprotocol\u001b[0m\u001b[0;34m.\u001b[0m\u001b[0mPy4JJavaError\u001b[0m \u001b[0;32mas\u001b[0m \u001b[0me\u001b[0m\u001b[0;34m:\u001b[0m\u001b[0;34m\u001b[0m\u001b[0m\n",
            "\u001b[0;32m/content/spark-2.2.2-bin-hadoop2.7/python/lib/py4j-0.10.7-src.zip/py4j/protocol.py\u001b[0m in \u001b[0;36mget_return_value\u001b[0;34m(answer, gateway_client, target_id, name)\u001b[0m\n\u001b[1;32m    327\u001b[0m                     \u001b[0;34m\"An error occurred while calling {0}{1}{2}.\\n\"\u001b[0m\u001b[0;34m.\u001b[0m\u001b[0;34m\u001b[0m\u001b[0m\n\u001b[0;32m--> 328\u001b[0;31m                     format(target_id, \".\", name), value)\n\u001b[0m\u001b[1;32m    329\u001b[0m             \u001b[0;32melse\u001b[0m\u001b[0;34m:\u001b[0m\u001b[0;34m\u001b[0m\u001b[0m\n",
            "\u001b[0;31mPy4JJavaError\u001b[0m: An error occurred while calling o4178.apply.\n: org.apache.spark.sql.AnalysisException: Cannot resolve column name \"teamPTS\" among (gmDate, gmTime, offLNm1, offLNm2, offLNm3, teamAbbr, teamConf, teamDiv, teamLoc, teamRslt, teamDayOff, opptAbbr, opptConf, opptDiv, opptLoc, opptDayOff, daysSince);\n\tat org.apache.spark.sql.Dataset$$anonfun$resolve$1.apply(Dataset.scala:212)\n\tat org.apache.spark.sql.Dataset$$anonfun$resolve$1.apply(Dataset.scala:212)\n\tat scala.Option.getOrElse(Option.scala:121)\n\tat org.apache.spark.sql.Dataset.resolve(Dataset.scala:211)\n\tat org.apache.spark.sql.Dataset.col(Dataset.scala:1106)\n\tat org.apache.spark.sql.Dataset.apply(Dataset.scala:1076)\n\tat sun.reflect.GeneratedMethodAccessor42.invoke(Unknown Source)\n\tat sun.reflect.DelegatingMethodAccessorImpl.invoke(DelegatingMethodAccessorImpl.java:43)\n\tat java.lang.reflect.Method.invoke(Method.java:498)\n\tat py4j.reflection.MethodInvoker.invoke(MethodInvoker.java:244)\n\tat py4j.reflection.ReflectionEngine.invoke(ReflectionEngine.java:357)\n\tat py4j.Gateway.invoke(Gateway.java:282)\n\tat py4j.commands.AbstractCommand.invokeMethod(AbstractCommand.java:132)\n\tat py4j.commands.CallCommand.execute(CallCommand.java:79)\n\tat py4j.GatewayConnection.run(GatewayConnection.java:238)\n\tat java.lang.Thread.run(Thread.java:748)\n",
            "\nDuring handling of the above exception, another exception occurred:\n",
            "\u001b[0;31mAnalysisException\u001b[0m                         Traceback (most recent call last)",
            "\u001b[0;32m<ipython-input-295-14ac44a02da1>\u001b[0m in \u001b[0;36m<module>\u001b[0;34m()\u001b[0m\n\u001b[0;32m----> 1\u001b[0;31m \u001b[0mboxScoreAll\u001b[0m \u001b[0;34m=\u001b[0m \u001b[0mboxScoreAll\u001b[0m\u001b[0;34m.\u001b[0m\u001b[0mwithColumn\u001b[0m\u001b[0;34m(\u001b[0m\u001b[0;34m'teamPTSDiff'\u001b[0m\u001b[0;34m,\u001b[0m \u001b[0mabs\u001b[0m\u001b[0;34m(\u001b[0m\u001b[0mboxScoreAll\u001b[0m\u001b[0;34m[\u001b[0m\u001b[0;34m'teamPTS'\u001b[0m\u001b[0;34m]\u001b[0m \u001b[0;34m-\u001b[0m \u001b[0mboxScoreAll\u001b[0m\u001b[0;34m[\u001b[0m\u001b[0;34m'opptPTS'\u001b[0m\u001b[0;34m]\u001b[0m\u001b[0;34m)\u001b[0m\u001b[0;34m)\u001b[0m\u001b[0;34m\u001b[0m\u001b[0m\n\u001b[0m\u001b[1;32m      2\u001b[0m \u001b[0;34m\u001b[0m\u001b[0m\n\u001b[1;32m      3\u001b[0m \u001b[0mpdDataFrame\u001b[0m \u001b[0;34m=\u001b[0m \u001b[0mpd\u001b[0m\u001b[0;34m.\u001b[0m\u001b[0mDataFrame\u001b[0m\u001b[0;34m(\u001b[0m\u001b[0mboxScoreAll\u001b[0m\u001b[0;34m.\u001b[0m\u001b[0mtoPandas\u001b[0m\u001b[0;34m(\u001b[0m\u001b[0;34m)\u001b[0m\u001b[0;34m)\u001b[0m\u001b[0;34m\u001b[0m\u001b[0m\n\u001b[1;32m      4\u001b[0m \u001b[0;34m\u001b[0m\u001b[0m\n\u001b[1;32m      5\u001b[0m \u001b[0mcdict\u001b[0m \u001b[0;34m=\u001b[0m \u001b[0;34m{\u001b[0m\u001b[0;34m'Loss'\u001b[0m\u001b[0;34m:\u001b[0m \u001b[0;34m'red'\u001b[0m\u001b[0;34m,\u001b[0m \u001b[0;34m'Win'\u001b[0m\u001b[0;34m:\u001b[0m \u001b[0;34m'green'\u001b[0m\u001b[0;34m}\u001b[0m\u001b[0;34m\u001b[0m\u001b[0m\n",
            "\u001b[0;32m/content/spark-2.2.2-bin-hadoop2.7/python/pyspark/sql/dataframe.py\u001b[0m in \u001b[0;36m__getitem__\u001b[0;34m(self, item)\u001b[0m\n\u001b[1;32m    997\u001b[0m         \"\"\"\n\u001b[1;32m    998\u001b[0m         \u001b[0;32mif\u001b[0m \u001b[0misinstance\u001b[0m\u001b[0;34m(\u001b[0m\u001b[0mitem\u001b[0m\u001b[0;34m,\u001b[0m \u001b[0mbasestring\u001b[0m\u001b[0;34m)\u001b[0m\u001b[0;34m:\u001b[0m\u001b[0;34m\u001b[0m\u001b[0m\n\u001b[0;32m--> 999\u001b[0;31m             \u001b[0mjc\u001b[0m \u001b[0;34m=\u001b[0m \u001b[0mself\u001b[0m\u001b[0;34m.\u001b[0m\u001b[0m_jdf\u001b[0m\u001b[0;34m.\u001b[0m\u001b[0mapply\u001b[0m\u001b[0;34m(\u001b[0m\u001b[0mitem\u001b[0m\u001b[0;34m)\u001b[0m\u001b[0;34m\u001b[0m\u001b[0m\n\u001b[0m\u001b[1;32m   1000\u001b[0m             \u001b[0;32mreturn\u001b[0m \u001b[0mColumn\u001b[0m\u001b[0;34m(\u001b[0m\u001b[0mjc\u001b[0m\u001b[0;34m)\u001b[0m\u001b[0;34m\u001b[0m\u001b[0m\n\u001b[1;32m   1001\u001b[0m         \u001b[0;32melif\u001b[0m \u001b[0misinstance\u001b[0m\u001b[0;34m(\u001b[0m\u001b[0mitem\u001b[0m\u001b[0;34m,\u001b[0m \u001b[0mColumn\u001b[0m\u001b[0;34m)\u001b[0m\u001b[0;34m:\u001b[0m\u001b[0;34m\u001b[0m\u001b[0m\n",
            "\u001b[0;32m/content/spark-2.2.2-bin-hadoop2.7/python/lib/py4j-0.10.7-src.zip/py4j/java_gateway.py\u001b[0m in \u001b[0;36m__call__\u001b[0;34m(self, *args)\u001b[0m\n\u001b[1;32m   1255\u001b[0m         \u001b[0manswer\u001b[0m \u001b[0;34m=\u001b[0m \u001b[0mself\u001b[0m\u001b[0;34m.\u001b[0m\u001b[0mgateway_client\u001b[0m\u001b[0;34m.\u001b[0m\u001b[0msend_command\u001b[0m\u001b[0;34m(\u001b[0m\u001b[0mcommand\u001b[0m\u001b[0;34m)\u001b[0m\u001b[0;34m\u001b[0m\u001b[0m\n\u001b[1;32m   1256\u001b[0m         return_value = get_return_value(\n\u001b[0;32m-> 1257\u001b[0;31m             answer, self.gateway_client, self.target_id, self.name)\n\u001b[0m\u001b[1;32m   1258\u001b[0m \u001b[0;34m\u001b[0m\u001b[0m\n\u001b[1;32m   1259\u001b[0m         \u001b[0;32mfor\u001b[0m \u001b[0mtemp_arg\u001b[0m \u001b[0;32min\u001b[0m \u001b[0mtemp_args\u001b[0m\u001b[0;34m:\u001b[0m\u001b[0;34m\u001b[0m\u001b[0m\n",
            "\u001b[0;32m/content/spark-2.2.2-bin-hadoop2.7/python/pyspark/sql/utils.py\u001b[0m in \u001b[0;36mdeco\u001b[0;34m(*a, **kw)\u001b[0m\n\u001b[1;32m     67\u001b[0m                                              e.java_exception.getStackTrace()))\n\u001b[1;32m     68\u001b[0m             \u001b[0;32mif\u001b[0m \u001b[0ms\u001b[0m\u001b[0;34m.\u001b[0m\u001b[0mstartswith\u001b[0m\u001b[0;34m(\u001b[0m\u001b[0;34m'org.apache.spark.sql.AnalysisException: '\u001b[0m\u001b[0;34m)\u001b[0m\u001b[0;34m:\u001b[0m\u001b[0;34m\u001b[0m\u001b[0m\n\u001b[0;32m---> 69\u001b[0;31m                 \u001b[0;32mraise\u001b[0m \u001b[0mAnalysisException\u001b[0m\u001b[0;34m(\u001b[0m\u001b[0ms\u001b[0m\u001b[0;34m.\u001b[0m\u001b[0msplit\u001b[0m\u001b[0;34m(\u001b[0m\u001b[0;34m': '\u001b[0m\u001b[0;34m,\u001b[0m \u001b[0;36m1\u001b[0m\u001b[0;34m)\u001b[0m\u001b[0;34m[\u001b[0m\u001b[0;36m1\u001b[0m\u001b[0;34m]\u001b[0m\u001b[0;34m,\u001b[0m \u001b[0mstackTrace\u001b[0m\u001b[0;34m)\u001b[0m\u001b[0;34m\u001b[0m\u001b[0m\n\u001b[0m\u001b[1;32m     70\u001b[0m             \u001b[0;32mif\u001b[0m \u001b[0ms\u001b[0m\u001b[0;34m.\u001b[0m\u001b[0mstartswith\u001b[0m\u001b[0;34m(\u001b[0m\u001b[0;34m'org.apache.spark.sql.catalyst.analysis'\u001b[0m\u001b[0;34m)\u001b[0m\u001b[0;34m:\u001b[0m\u001b[0;34m\u001b[0m\u001b[0m\n\u001b[1;32m     71\u001b[0m                 \u001b[0;32mraise\u001b[0m \u001b[0mAnalysisException\u001b[0m\u001b[0;34m(\u001b[0m\u001b[0ms\u001b[0m\u001b[0;34m.\u001b[0m\u001b[0msplit\u001b[0m\u001b[0;34m(\u001b[0m\u001b[0;34m': '\u001b[0m\u001b[0;34m,\u001b[0m \u001b[0;36m1\u001b[0m\u001b[0;34m)\u001b[0m\u001b[0;34m[\u001b[0m\u001b[0;36m1\u001b[0m\u001b[0;34m]\u001b[0m\u001b[0;34m,\u001b[0m \u001b[0mstackTrace\u001b[0m\u001b[0;34m)\u001b[0m\u001b[0;34m\u001b[0m\u001b[0m\n",
            "\u001b[0;31mAnalysisException\u001b[0m: 'Cannot resolve column name \"teamPTS\" among (gmDate, gmTime, offLNm1, offLNm2, offLNm3, teamAbbr, teamConf, teamDiv, teamLoc, teamRslt, teamDayOff, opptAbbr, opptConf, opptDiv, opptLoc, opptDayOff, daysSince);'"
          ]
        }
      ]
    },
    {
      "metadata": {
        "id": "g8nYau_NJ8mP",
        "colab_type": "code",
        "colab": {
          "base_uri": "https://localhost:8080/",
          "height": 408
        },
        "outputId": "8f6f0090-cf44-4f47-a72e-2d61d0c8d1b1"
      },
      "cell_type": "code",
      "source": [
        "# Remove the columns that are not known before the game starts by selecting the columns that do. seasTyp is also removed because it is the same for all games 'Regular' - for regular season\"\n",
        "print(\"Number of rows with 'seasTyp == Regular':\", boxScoreAll.filter('seasTyp == \"Regular\"').count()) # Shows 2460 which is the number of records\n",
        "print(\"Number of rows with 'teamLoc == Home':\", boxScoreAll.filter('teamLoc == \"Home\"').count()) # Shows 2460 which is the number of records\n",
        "print(\"Number of rows with 'opptLoc == Away':\", boxScoreAll.filter('opptLoc == \"Away\"').count()) # Shows 2460 which is the number of records\n",
        "\n",
        "# Show that the first name last combinations is the same as the last names on their own. Therefore, the firstname feature does not add any value and is removed\n",
        "print(\"Lastnames:\", len(np.unique(pdDataFrame.offLNm1)))\n",
        "print(\"Firstnames:\", len(np.unique(pdDataFrame.offFNm1)))\n",
        "print(\"Lastnames and Firstnames:\", len(np.unique(pdDataFrame.offLNm1 + pdDataFrame.offLNm1)))\n",
        "\n",
        "print(\"Lastnames:\", len(np.unique(pdDataFrame.offLNm2)))\n",
        "print(\"Firstnames:\", len(np.unique(pdDataFrame.offFNm2)))\n",
        "print(\"Lastnames and Firstnames:\", len(np.unique(pdDataFrame.offLNm2 + pdDataFrame.offLNm2)))\n",
        "\n",
        "print(\"Lastnames:\", len(np.unique(pdDataFrame.offLNm3)))\n",
        "print(\"Firstnames:\", len(np.unique(pdDataFrame.offFNm3)))\n",
        "print(\"Lastnames and Firstnames:\", len(np.unique(pdDataFrame.offLNm3 + pdDataFrame.offLNm3)))\n",
        "\n",
        "boxScoreAll = boxScoreAll.select('gmDate','gmTime','offLNm1','offLNm2','offLNm3','teamAbbr','teamConf','teamDiv','teamRslt','teamDayOff','opptAbbr','opptConf','opptDiv','opptDayOff','daysSince')\n",
        "boxScoreAll.show(5)"
      ],
      "execution_count": 285,
      "outputs": [
        {
          "output_type": "stream",
          "text": [
            "Number of rows with 'seasTyp == Regular': 2460\n",
            "Number of rows with 'teamLoc == Home': 2460\n",
            "Number of rows with 'opptLoc == Away': 2460\n",
            "Lastnames: 58\n",
            "Firstnames: 53\n",
            "Lastnames and Firstnames: 58\n",
            "Lastnames: 62\n",
            "Firstnames: 54\n",
            "Lastnames and Firstnames: 62\n",
            "Lastnames: 62\n",
            "Firstnames: 58\n",
            "Lastnames and Firstnames: 62\n",
            "+-------------------+------+--------+--------+----------+--------+--------+---------+-------+--------+----------+--------+--------+---------+-------+----------+---------+\n",
            "|             gmDate|gmTime| offLNm1| offLNm2|   offLNm3|teamAbbr|teamConf|  teamDiv|teamLoc|teamRslt|teamDayOff|opptAbbr|opptConf|  opptDiv|opptLoc|opptDayOff|daysSince|\n",
            "+-------------------+------+--------+--------+----------+--------+--------+---------+-------+--------+----------+--------+--------+---------+-------+----------+---------+\n",
            "|2016-10-25 00:00:00| 08:00|    Lane|   Adams|   Kennedy|     CLE|    East|  Central|   Home|     Win|         0|      NY|    East| Atlantic|   Away|         0|        0|\n",
            "|2016-10-25 00:00:00| 10:00| Buchert|Callahan|     Brown|     POR|    West|Northwest|   Home|     Win|         0|     UTA|    West|Northwest|   Away|         0|        0|\n",
            "|2016-10-25 00:00:00| 10:30|  Maddox|  Fraher|  Crawford|      GS|    West|  Pacific|   Home|    Loss|         0|      SA|    West|Southwest|   Away|         0|        0|\n",
            "|2016-10-26 00:00:00| 07:00|   Tiven|    Ford|   Kennedy|     IND|    East|  Central|   Home|     Win|         0|     DAL|    West|Southwest|   Away|         0|        1|\n",
            "|2016-10-26 00:00:00| 07:00|VanDuyne|  Corbin|Washington|     ORL|    East|Southeast|   Home|    Loss|         0|     MIA|    East|Southeast|   Away|         0|        1|\n",
            "+-------------------+------+--------+--------+----------+--------+--------+---------+-------+--------+----------+--------+--------+---------+-------+----------+---------+\n",
            "only showing top 5 rows\n",
            "\n"
          ],
          "name": "stdout"
        }
      ]
    },
    {
      "metadata": {
        "id": "pzAlvxVnJ8mT",
        "colab_type": "code",
        "colab": {
          "base_uri": "https://localhost:8080/",
          "height": 255
        },
        "outputId": "41301f22-32dd-4762-babe-43f7480564a3"
      },
      "cell_type": "code",
      "source": [
        "# Fix the rows that have the wrong times - they need 12hr deducted from their times\n",
        "boxScoreAll.filter('gmTime > \"12:30\"').select('gmtime').show()\n",
        "\n",
        "boxScoreAll = boxScoreAll.withColumn(\"gmTime\", when(boxScoreAll[\"gmTime\"] > '12:30', boxScoreAll[\"gmTime\"] - '12:00').otherwise(boxScoreAll[\"gmTime\"]))\n",
        "\n",
        "boxScoreAll.filter('gmTime > \"12:30\"').select('gmtime').show()"
      ],
      "execution_count": 64,
      "outputs": [
        {
          "output_type": "stream",
          "text": [
            "+------+\n",
            "|gmtime|\n",
            "+------+\n",
            "| 18:00|\n",
            "| 18:00|\n",
            "| 19:00|\n",
            "| 19:00|\n",
            "+------+\n",
            "\n",
            "+------+\n",
            "|gmtime|\n",
            "+------+\n",
            "+------+\n",
            "\n"
          ],
          "name": "stdout"
        }
      ]
    },
    {
      "metadata": {
        "id": "6Yxp909zJ8mX",
        "colab_type": "code",
        "colab": {
          "base_uri": "https://localhost:8080/",
          "height": 362
        },
        "outputId": "d539ac2b-2980-4c65-8c05-d23d9a39da0f"
      },
      "cell_type": "code",
      "source": [
        "# Compare Home Win/Loss record with bar graph\n",
        "pdDataFrame = boxScoreAll.toPandas()\n",
        "objects = np.unique(pdDataFrame.teamRslt)\n",
        "y_pos = np.arange(len(objects))\n",
        "\n",
        "counts = [len(pdDataFrame[pdDataFrame['teamRslt'] == \"Loss\"]), len(pdDataFrame[pdDataFrame['teamRslt'] == \"Win\"])]\n",
        "p1 = plt.bar(y_pos, counts, color = ['red', 'green'])\n",
        "\n",
        "plt.ylabel('Count of Result')\n",
        "plt.title('Home Wins vs Home Losses')\n",
        "plt.xticks(y_pos, ('Loss', 'Win'))\n",
        "\n",
        "plt.show()\n"
      ],
      "execution_count": 109,
      "outputs": [
        {
          "output_type": "display_data",
          "data": {
            "image/png": "[encoded data removed]",
            "text/plain": [
              "<matplotlib.figure.Figure at 0x7f6d562d7eb8>"
            ]
          },
          "metadata": {
            "tags": []
          }
        }
      ]
    },
    {
      "metadata": {
        "id": "cSYh51zpJ8mc",
        "colab_type": "text"
      },
      "cell_type": "markdown",
      "source": [
        "######################################################################################################\n",
        "### For the Standings preparation - the next set of steps are for the standings data preparation\n",
        "######################################################################################################"
      ]
    },
    {
      "metadata": {
        "id": "0fBJe-IAJ8md",
        "colab_type": "code",
        "colab": {
          "base_uri": "https://localhost:8080/",
          "height": 2128
        },
        "outputId": "ea175d52-a52f-4622-b028-eaa56fa5be19"
      },
      "cell_type": "code",
      "source": [
        "# Join the two years datasets\n",
        "standingsAll = standings1617.union(standings1718)\n",
        "standingsAll.show(1)\n",
        "\n",
        "# Rename the 'teamAbbr' column to prevent clash later\n",
        "standingsAll = standingsAll.withColumnRenamed('teamAbbr', 'steamAbbr')\n",
        "standingsAll.show(1)\n",
        "\n",
        "print(\"Standings 1617:\", standings1617.count())\n",
        "print(\"Standings 1718:\", standings1718.count()) \n",
        "# There are more standings rows in the 17/18 dataset because the season runs for a week longer\n",
        "print(\"Standings All:\", standingsAll.count())\n",
        "\n",
        "# Drop the rankOrd column because it duplicates the rank column, also the stk because this is a duplicate of the stkType and stkTot columns\n",
        "standingsAll = standingsAll.drop('rankOrd')\n",
        "standingsAll = standingsAll.drop('stk')\n",
        "standingsAll.show(10)"
      ],
      "execution_count": 321,
      "outputs": [
        {
          "output_type": "stream",
          "text": [
            "+-------------------+--------+----+-------+-------+--------+---+-------+------+--------+------+--------+-------+--------+-------+--------+-------+--------+--------+-------+--------+--------+--------+-------+----------+---------+--------------+-------------+---+-----------+---+---+------+------------+---------+---------+-----------+--------+--------+\n",
            "|             stDate|teamAbbr|rank|rankOrd|gameWon|gameLost|stk|stkType|stkTot|gameBack|ptsFor|ptsAgnst|homeWin|homeLoss|awayWin|awayLoss|confWin|confLoss|lastFive|lastTen|gamePlay|ptsScore|ptsAllow|ptsDiff|opptGmPlay|opptGmWon|opptOpptGmPlay|opptOpptGmWon|sos|relPercIndx|mov|srs|pwPerc|pythPerc1391|wpyth1391|lpyth1391|pythPerc165|wpyth165|lpyth165|\n",
            "+-------------------+--------+----+-------+-------+--------+---+-------+------+--------+------+--------+-------+--------+-------+--------+-------+--------+--------+-------+--------+--------+--------+-------+----------+---------+--------------+-------------+---+-----------+---+---+------+------------+---------+---------+-----------+--------+--------+\n",
            "|2016-10-24 00:00:00|     ATL|   1|    1st|      0|       0|  -|      -|     0|     0.0|     0|       0|      0|       0|      0|       0|      0|       0|       0|      0|       0|     0.0|     0.0|    0.0|         0|        0|             0|            0|0.0|        0.0|0.0|0.0|   0.5|         0.0|      0.0|     82.0|        0.0|     0.0|    82.0|\n",
            "+-------------------+--------+----+-------+-------+--------+---+-------+------+--------+------+--------+-------+--------+-------+--------+-------+--------+--------+-------+--------+--------+--------+-------+----------+---------+--------------+-------------+---+-----------+---+---+------+------------+---------+---------+-----------+--------+--------+\n",
            "only showing top 1 row\n",
            "\n",
            "+-------------------+---------+----+-------+-------+--------+---+-------+------+--------+------+--------+-------+--------+-------+--------+-------+--------+--------+-------+--------+--------+--------+-------+----------+---------+--------------+-------------+---+-----------+---+---+------+------------+---------+---------+-----------+--------+--------+\n",
            "|             stDate|steamAbbr|rank|rankOrd|gameWon|gameLost|stk|stkType|stkTot|gameBack|ptsFor|ptsAgnst|homeWin|homeLoss|awayWin|awayLoss|confWin|confLoss|lastFive|lastTen|gamePlay|ptsScore|ptsAllow|ptsDiff|opptGmPlay|opptGmWon|opptOpptGmPlay|opptOpptGmWon|sos|relPercIndx|mov|srs|pwPerc|pythPerc1391|wpyth1391|lpyth1391|pythPerc165|wpyth165|lpyth165|\n",
            "+-------------------+---------+----+-------+-------+--------+---+-------+------+--------+------+--------+-------+--------+-------+--------+-------+--------+--------+-------+--------+--------+--------+-------+----------+---------+--------------+-------------+---+-----------+---+---+------+------------+---------+---------+-----------+--------+--------+\n",
            "|2016-10-24 00:00:00|      ATL|   1|    1st|      0|       0|  -|      -|     0|     0.0|     0|       0|      0|       0|      0|       0|      0|       0|       0|      0|       0|     0.0|     0.0|    0.0|         0|        0|             0|            0|0.0|        0.0|0.0|0.0|   0.5|         0.0|      0.0|     82.0|        0.0|     0.0|    82.0|\n",
            "+-------------------+---------+----+-------+-------+--------+---+-------+------+--------+------+--------+-------+--------+-------+--------+-------+--------+--------+-------+--------+--------+--------+-------+----------+---------+--------------+-------------+---+-----------+---+---+------+------------+---------+---------+-----------+--------+--------+\n",
            "only showing top 1 row\n",
            "\n",
            "Standings 1617: 4980\n",
            "Standings 1718: 5190\n",
            "Standings All: 10170\n",
            "+-------------------+---------+----+-------+--------+-------+------+--------+------+--------+-------+--------+-------+--------+-------+--------+--------+-------+--------+--------+--------+-------+----------+---------+--------------+-------------+------+-----------+-----+--------+-------+------------+---------+---------+-----------+--------+--------+\n",
            "|             stDate|steamAbbr|rank|gameWon|gameLost|stkType|stkTot|gameBack|ptsFor|ptsAgnst|homeWin|homeLoss|awayWin|awayLoss|confWin|confLoss|lastFive|lastTen|gamePlay|ptsScore|ptsAllow|ptsDiff|opptGmPlay|opptGmWon|opptOpptGmPlay|opptOpptGmWon|   sos|relPercIndx|  mov|     srs| pwPerc|pythPerc1391|wpyth1391|lpyth1391|pythPerc165|wpyth165|lpyth165|\n",
            "+-------------------+---------+----+-------+--------+-------+------+--------+------+--------+-------+--------+-------+--------+-------+--------+--------+-------+--------+--------+--------+-------+----------+---------+--------------+-------------+------+-----------+-----+--------+-------+------------+---------+---------+-----------+--------+--------+\n",
            "|2016-10-24 00:00:00|      ATL|   1|      0|       0|      -|     0|     0.0|     0|       0|      0|       0|      0|       0|      0|       0|       0|      0|       0|     0.0|     0.0|    0.0|         0|        0|             0|            0|   0.0|        0.0|  0.0|     0.0|    0.5|         0.0|      0.0|     82.0|        0.0|     0.0|    82.0|\n",
            "|2016-10-24 00:00:00|      BKN|   1|      0|       0|      -|     0|     0.0|     0|       0|      0|       0|      0|       0|      0|       0|       0|      0|       0|     0.0|     0.0|    0.0|         0|        0|             0|            0|   0.0|        0.0|  0.0|     0.0|    0.5|         0.0|      0.0|     82.0|        0.0|     0.0|    82.0|\n",
            "|2016-10-24 00:00:00|      BOS|   1|      0|       0|      -|     0|     0.0|     0|       0|      0|       0|      0|       0|      0|       0|       0|      0|       0|     0.0|     0.0|    0.0|         0|        0|             0|            0|   0.0|        0.0|  0.0|     0.0|    0.5|         0.0|      0.0|     82.0|        0.0|     0.0|    82.0|\n",
            "|2016-10-24 00:00:00|      CHA|   1|      0|       0|      -|     0|     0.0|     0|       0|      0|       0|      0|       0|      0|       0|       0|      0|       0|     0.0|     0.0|    0.0|         0|        0|             0|            0|   0.0|        0.0|  0.0|     0.0|    0.5|         0.0|      0.0|     82.0|        0.0|     0.0|    82.0|\n",
            "|2016-10-24 00:00:00|      CHI|   1|      0|       0|      -|     0|     0.0|     0|       0|      0|       0|      0|       0|      0|       0|       0|      0|       0|     0.0|     0.0|    0.0|         0|        0|             0|            0|   0.0|        0.0|  0.0|     0.0|    0.5|         0.0|      0.0|     82.0|        0.0|     0.0|    82.0|\n",
            "|2016-10-24 00:00:00|      CLE|   1|      0|       0|      -|     0|     0.0|     0|       0|      0|       0|      0|       0|      0|       0|       0|      0|       0|     0.0|     0.0|    0.0|         0|        0|             0|            0|   0.0|        0.0|  0.0|     0.0|    0.5|         0.0|      0.0|     82.0|        0.0|     0.0|    82.0|\n",
            "|2016-10-24 00:00:00|      DAL|   1|      0|       0|      -|     0|     0.0|     0|       0|      0|       0|      0|       0|      0|       0|       0|      0|       0|     0.0|     0.0|    0.0|         0|        0|             0|            0|   0.0|        0.0|  0.0|     0.0|    0.5|         0.0|      0.0|     82.0|        0.0|     0.0|    82.0|\n",
            "|2016-10-24 00:00:00|      DEN|   1|      0|       0|      -|     0|     0.0|     0|       0|      0|       0|      0|       0|      0|       0|       0|      0|       0|     0.0|     0.0|    0.0|         0|        0|             0|            0|   0.0|        0.0|  0.0|     0.0|    0.5|         0.0|      0.0|     82.0|        0.0|     0.0|    82.0|\n",
            "|2016-10-24 00:00:00|      DET|   1|      0|       0|      -|     0|     0.0|     0|       0|      0|       0|      0|       0|      0|       0|       0|      0|       0|     0.0|     0.0|    0.0|         0|        0|             0|            0|   0.0|        0.0|  0.0|     0.0|    0.5|         0.0|      0.0|     82.0|        0.0|     0.0|    82.0|\n",
            "|2016-10-24 00:00:00|       GS|   1|      0|       0|      -|     0|     0.0|     0|       0|      0|       0|      0|       0|      0|       0|       0|      0|       0|     0.0|     0.0|    0.0|         0|        0|             0|            0|   0.0|        0.0|  0.0|     0.0|    0.5|         0.0|      0.0|     82.0|        0.0|     0.0|    82.0|\n",
            "|2016-10-24 00:00:00|      HOU|   1|      0|       0|      -|     0|     0.0|     0|       0|      0|       0|      0|       0|      0|       0|       0|      0|       0|     0.0|     0.0|    0.0|         0|        0|             0|            0|   0.0|        0.0|  0.0|     0.0|    0.5|         0.0|      0.0|     82.0|        0.0|     0.0|    82.0|\n",
            "|2016-10-24 00:00:00|      IND|   1|      0|       0|      -|     0|     0.0|     0|       0|      0|       0|      0|       0|      0|       0|       0|      0|       0|     0.0|     0.0|    0.0|         0|        0|             0|            0|   0.0|        0.0|  0.0|     0.0|    0.5|         0.0|      0.0|     82.0|        0.0|     0.0|    82.0|\n",
            "|2016-10-24 00:00:00|      LAC|   1|      0|       0|      -|     0|     0.0|     0|       0|      0|       0|      0|       0|      0|       0|       0|      0|       0|     0.0|     0.0|    0.0|         0|        0|             0|            0|   0.0|        0.0|  0.0|     0.0|    0.5|         0.0|      0.0|     82.0|        0.0|     0.0|    82.0|\n",
            "|2016-10-24 00:00:00|      LAL|   1|      0|       0|      -|     0|     0.0|     0|       0|      0|       0|      0|       0|      0|       0|       0|      0|       0|     0.0|     0.0|    0.0|         0|        0|             0|            0|   0.0|        0.0|  0.0|     0.0|    0.5|         0.0|      0.0|     82.0|        0.0|     0.0|    82.0|\n",
            "|2016-10-24 00:00:00|      MEM|   1|      0|       0|      -|     0|     0.0|     0|       0|      0|       0|      0|       0|      0|       0|       0|      0|       0|     0.0|     0.0|    0.0|         0|        0|             0|            0|   0.0|        0.0|  0.0|     0.0|    0.5|         0.0|      0.0|     82.0|        0.0|     0.0|    82.0|\n",
            "|2016-10-24 00:00:00|      MIA|   1|      0|       0|      -|     0|     0.0|     0|       0|      0|       0|      0|       0|      0|       0|       0|      0|       0|     0.0|     0.0|    0.0|         0|        0|             0|            0|   0.0|        0.0|  0.0|     0.0|    0.5|         0.0|      0.0|     82.0|        0.0|     0.0|    82.0|\n",
            "|2016-10-24 00:00:00|      MIL|   1|      0|       0|      -|     0|     0.0|     0|       0|      0|       0|      0|       0|      0|       0|       0|      0|       0|     0.0|     0.0|    0.0|         0|        0|             0|            0|   0.0|        0.0|  0.0|     0.0|    0.5|         0.0|      0.0|     82.0|        0.0|     0.0|    82.0|\n",
            "|2016-10-24 00:00:00|      MIN|   1|      0|       0|      -|     0|     0.0|     0|       0|      0|       0|      0|       0|      0|       0|       0|      0|       0|     0.0|     0.0|    0.0|         0|        0|             0|            0|   0.0|        0.0|  0.0|     0.0|    0.5|         0.0|      0.0|     82.0|        0.0|     0.0|    82.0|\n",
            "|2016-10-24 00:00:00|       NO|   1|      0|       0|      -|     0|     0.0|     0|       0|      0|       0|      0|       0|      0|       0|       0|      0|       0|     0.0|     0.0|    0.0|         0|        0|             0|            0|   0.0|        0.0|  0.0|     0.0|    0.5|         0.0|      0.0|     82.0|        0.0|     0.0|    82.0|\n",
            "|2016-10-24 00:00:00|       NY|   1|      0|       0|      -|     0|     0.0|     0|       0|      0|       0|      0|       0|      0|       0|       0|      0|       0|     0.0|     0.0|    0.0|         0|        0|             0|            0|   0.0|        0.0|  0.0|     0.0|    0.5|         0.0|      0.0|     82.0|        0.0|     0.0|    82.0|\n",
            "|2016-10-24 00:00:00|      OKC|   1|      0|       0|      -|     0|     0.0|     0|       0|      0|       0|      0|       0|      0|       0|       0|      0|       0|     0.0|     0.0|    0.0|         0|        0|             0|            0|   0.0|        0.0|  0.0|     0.0|    0.5|         0.0|      0.0|     82.0|        0.0|     0.0|    82.0|\n",
            "|2016-10-24 00:00:00|      ORL|   1|      0|       0|      -|     0|     0.0|     0|       0|      0|       0|      0|       0|      0|       0|       0|      0|       0|     0.0|     0.0|    0.0|         0|        0|             0|            0|   0.0|        0.0|  0.0|     0.0|    0.5|         0.0|      0.0|     82.0|        0.0|     0.0|    82.0|\n",
            "|2016-10-24 00:00:00|      PHI|   1|      0|       0|      -|     0|     0.0|     0|       0|      0|       0|      0|       0|      0|       0|       0|      0|       0|     0.0|     0.0|    0.0|         0|        0|             0|            0|   0.0|        0.0|  0.0|     0.0|    0.5|         0.0|      0.0|     82.0|        0.0|     0.0|    82.0|\n",
            "|2016-10-24 00:00:00|      PHO|   1|      0|       0|      -|     0|     0.0|     0|       0|      0|       0|      0|       0|      0|       0|       0|      0|       0|     0.0|     0.0|    0.0|         0|        0|             0|            0|   0.0|        0.0|  0.0|     0.0|    0.5|         0.0|      0.0|     82.0|        0.0|     0.0|    82.0|\n",
            "|2016-10-24 00:00:00|      POR|   1|      0|       0|      -|     0|     0.0|     0|       0|      0|       0|      0|       0|      0|       0|       0|      0|       0|     0.0|     0.0|    0.0|         0|        0|             0|            0|   0.0|        0.0|  0.0|     0.0|    0.5|         0.0|      0.0|     82.0|        0.0|     0.0|    82.0|\n",
            "|2016-10-24 00:00:00|       SA|   1|      0|       0|      -|     0|     0.0|     0|       0|      0|       0|      0|       0|      0|       0|       0|      0|       0|     0.0|     0.0|    0.0|         0|        0|             0|            0|   0.0|        0.0|  0.0|     0.0|    0.5|         0.0|      0.0|     82.0|        0.0|     0.0|    82.0|\n",
            "|2016-10-24 00:00:00|      SAC|   1|      0|       0|      -|     0|     0.0|     0|       0|      0|       0|      0|       0|      0|       0|       0|      0|       0|     0.0|     0.0|    0.0|         0|        0|             0|            0|   0.0|        0.0|  0.0|     0.0|    0.5|         0.0|      0.0|     82.0|        0.0|     0.0|    82.0|\n",
            "|2016-10-24 00:00:00|      TOR|   1|      0|       0|      -|     0|     0.0|     0|       0|      0|       0|      0|       0|      0|       0|       0|      0|       0|     0.0|     0.0|    0.0|         0|        0|             0|            0|   0.0|        0.0|  0.0|     0.0|    0.5|         0.0|      0.0|     82.0|        0.0|     0.0|    82.0|\n",
            "|2016-10-24 00:00:00|      UTA|   1|      0|       0|      -|     0|     0.0|     0|       0|      0|       0|      0|       0|      0|       0|       0|      0|       0|     0.0|     0.0|    0.0|         0|        0|             0|            0|   0.0|        0.0|  0.0|     0.0|    0.5|         0.0|      0.0|     82.0|        0.0|     0.0|    82.0|\n",
            "|2016-10-24 00:00:00|      WAS|   1|      0|       0|      -|     0|     0.0|     0|       0|      0|       0|      0|       0|      0|       0|       0|      0|       0|     0.0|     0.0|    0.0|         0|        0|             0|            0|   0.0|        0.0|  0.0|     0.0|    0.5|         0.0|      0.0|     82.0|        0.0|     0.0|    82.0|\n",
            "|2016-10-25 00:00:00|      ATL|   2|      0|       0|      -|     0|     0.5|     0|       0|      0|       0|      0|       0|      0|       0|       0|      0|       0|     0.0|     0.0|    0.0|         0|        0|             0|            0|   0.0|        0.0|  0.0|     0.0|    0.5|         0.0|      0.0|     82.0|        0.0|     0.0|    82.0|\n",
            "|2016-10-25 00:00:00|      BKN|   2|      0|       0|      -|     0|     0.5|     0|       0|      0|       0|      0|       0|      0|       0|       0|      0|       0|     0.0|     0.0|    0.0|         0|        0|             0|            0|   0.0|        0.0|  0.0|     0.0|    0.5|         0.0|      0.0|     82.0|        0.0|     0.0|    82.0|\n",
            "|2016-10-25 00:00:00|      BOS|   2|      0|       0|      -|     0|     0.5|     0|       0|      0|       0|      0|       0|      0|       0|       0|      0|       0|     0.0|     0.0|    0.0|         0|        0|             0|            0|   0.0|        0.0|  0.0|     0.0|    0.5|         0.0|      0.0|     82.0|        0.0|     0.0|    82.0|\n",
            "|2016-10-25 00:00:00|      CHA|   2|      0|       0|      -|     0|     0.5|     0|       0|      0|       0|      0|       0|      0|       0|       0|      0|       0|     0.0|     0.0|    0.0|         0|        0|             0|            0|   0.0|        0.0|  0.0|     0.0|    0.5|         0.0|      0.0|     82.0|        0.0|     0.0|    82.0|\n",
            "|2016-10-25 00:00:00|      CHI|   2|      0|       0|      -|     0|     0.5|     0|       0|      0|       0|      0|       0|      0|       0|       0|      0|       0|     0.0|     0.0|    0.0|         0|        0|             0|            0|   0.0|        0.0|  0.0|     0.0|    0.5|         0.0|      0.0|     82.0|        0.0|     0.0|    82.0|\n",
            "|2016-10-25 00:00:00|      CLE|   1|      1|       0|    win|     1|     0.0|   117|      88|      1|       0|      0|       0|      1|       0|       1|      1|       1|   117.0|    88.0|   29.0|         0|        0|             0|            0|   0.0|        0.0| 29.0|    29.0| 1.4549|      0.9813|  80.4666|   1.5334|      0.991|  81.262|   0.738|\n",
            "|2016-10-25 00:00:00|      DAL|   3|      0|       0|      -|     0|     0.5|     0|       0|      0|       0|      0|       0|      0|       0|       0|      0|       0|     0.0|     0.0|    0.0|         0|        0|             0|            0|   0.0|        0.0|  0.0|     0.0|    0.5|         0.0|      0.0|     82.0|        0.0|     0.0|    82.0|\n",
            "|2016-10-25 00:00:00|      DEN|   3|      0|       0|      -|     0|     0.5|     0|       0|      0|       0|      0|       0|      0|       0|       0|      0|       0|     0.0|     0.0|    0.0|         0|        0|             0|            0|   0.0|        0.0|  0.0|     0.0|    0.5|         0.0|      0.0|     82.0|        0.0|     0.0|    82.0|\n",
            "|2016-10-25 00:00:00|      DET|   2|      0|       0|      -|     0|     0.5|     0|       0|      0|       0|      0|       0|      0|       0|       0|      0|       0|     0.0|     0.0|    0.0|         0|        0|             0|            0|   0.0|        0.0|  0.0|     0.0|    0.5|         0.0|      0.0|     82.0|        0.0|     0.0|    82.0|\n",
            "|2016-10-25 00:00:00|       GS|  14|      0|       1|   loss|     1|     1.0|   100|     129|      0|       1|      0|       0|      0|       1|       0|      0|       1|   100.0|   129.0|  -29.0|         0|        0|             0|            0|   0.0|        0.0|-29.0|   -29.0|-0.4549|      0.0281|   2.3042|  79.6958|     0.0148|  1.2136| 80.7864|\n",
            "|2016-10-25 00:00:00|      HOU|   3|      0|       0|      -|     0|     0.5|     0|       0|      0|       0|      0|       0|      0|       0|       0|      0|       0|     0.0|     0.0|    0.0|         0|        0|             0|            0|   0.0|        0.0|  0.0|     0.0|    0.5|         0.0|      0.0|     82.0|        0.0|     0.0|    82.0|\n",
            "|2016-10-25 00:00:00|      IND|   2|      0|       0|      -|     0|     0.5|     0|       0|      0|       0|      0|       0|      0|       0|       0|      0|       0|     0.0|     0.0|    0.0|         0|        0|             0|            0|   0.0|        0.0|  0.0|     0.0|    0.5|         0.0|      0.0|     82.0|        0.0|     0.0|    82.0|\n",
            "|2016-10-25 00:00:00|      LAC|   3|      0|       0|      -|     0|     0.5|     0|       0|      0|       0|      0|       0|      0|       0|       0|      0|       0|     0.0|     0.0|    0.0|         0|        0|             0|            0|   0.0|        0.0|  0.0|     0.0|    0.5|         0.0|      0.0|     82.0|        0.0|     0.0|    82.0|\n",
            "|2016-10-25 00:00:00|      LAL|   3|      0|       0|      -|     0|     0.5|     0|       0|      0|       0|      0|       0|      0|       0|       0|      0|       0|     0.0|     0.0|    0.0|         0|        0|             0|            0|   0.0|        0.0|  0.0|     0.0|    0.5|         0.0|      0.0|     82.0|        0.0|     0.0|    82.0|\n",
            "|2016-10-25 00:00:00|      MEM|   3|      0|       0|      -|     0|     0.5|     0|       0|      0|       0|      0|       0|      0|       0|       0|      0|       0|     0.0|     0.0|    0.0|         0|        0|             0|            0|   0.0|        0.0|  0.0|     0.0|    0.5|         0.0|      0.0|     82.0|        0.0|     0.0|    82.0|\n",
            "|2016-10-25 00:00:00|      MIA|   2|      0|       0|      -|     0|     0.5|     0|       0|      0|       0|      0|       0|      0|       0|       0|      0|       0|     0.0|     0.0|    0.0|         0|        0|             0|            0|   0.0|        0.0|  0.0|     0.0|    0.5|         0.0|      0.0|     82.0|        0.0|     0.0|    82.0|\n",
            "|2016-10-25 00:00:00|      MIL|   2|      0|       0|      -|     0|     0.5|     0|       0|      0|       0|      0|       0|      0|       0|       0|      0|       0|     0.0|     0.0|    0.0|         0|        0|             0|            0|   0.0|        0.0|  0.0|     0.0|    0.5|         0.0|      0.0|     82.0|        0.0|     0.0|    82.0|\n",
            "|2016-10-25 00:00:00|      MIN|   3|      0|       0|      -|     0|     0.5|     0|       0|      0|       0|      0|       0|      0|       0|       0|      0|       0|     0.0|     0.0|    0.0|         0|        0|             0|            0|   0.0|        0.0|  0.0|     0.0|    0.5|         0.0|      0.0|     82.0|        0.0|     0.0|    82.0|\n",
            "|2016-10-25 00:00:00|       NO|   3|      0|       0|      -|     0|     0.5|     0|       0|      0|       0|      0|       0|      0|       0|       0|      0|       0|     0.0|     0.0|    0.0|         0|        0|             0|            0|   0.0|        0.0|  0.0|     0.0|    0.5|         0.0|      0.0|     82.0|        0.0|     0.0|    82.0|\n",
            "|2016-10-25 00:00:00|       NY|  15|      0|       1|   loss|     1|     1.0|    88|     117|      0|       0|      0|       1|      0|       1|       0|      0|       1|    88.0|   117.0|  -29.0|         0|        0|             0|            0|   0.0|        0.0|-29.0|   -29.0|-0.4549|      0.0187|   1.5334|  80.4666|      0.009|   0.738|  81.262|\n",
            "|2016-10-25 00:00:00|      OKC|   3|      0|       0|      -|     0|     0.5|     0|       0|      0|       0|      0|       0|      0|       0|       0|      0|       0|     0.0|     0.0|    0.0|         0|        0|             0|            0|   0.0|        0.0|  0.0|     0.0|    0.5|         0.0|      0.0|     82.0|        0.0|     0.0|    82.0|\n",
            "|2016-10-25 00:00:00|      ORL|   2|      0|       0|      -|     0|     0.5|     0|       0|      0|       0|      0|       0|      0|       0|       0|      0|       0|     0.0|     0.0|    0.0|         0|        0|             0|            0|   0.0|        0.0|  0.0|     0.0|    0.5|         0.0|      0.0|     82.0|        0.0|     0.0|    82.0|\n",
            "|2016-10-25 00:00:00|      PHI|   2|      0|       0|      -|     0|     0.5|     0|       0|      0|       0|      0|       0|      0|       0|       0|      0|       0|     0.0|     0.0|    0.0|         0|        0|             0|            0|   0.0|        0.0|  0.0|     0.0|    0.5|         0.0|      0.0|     82.0|        0.0|     0.0|    82.0|\n",
            "|2016-10-25 00:00:00|      PHO|   3|      0|       0|      -|     0|     0.5|     0|       0|      0|       0|      0|       0|      0|       0|       0|      0|       0|     0.0|     0.0|    0.0|         0|        0|             0|            0|   0.0|        0.0|  0.0|     0.0|    0.5|         0.0|      0.0|     82.0|        0.0|     0.0|    82.0|\n",
            "|2016-10-25 00:00:00|      POR|   1|      1|       0|    win|     1|     0.0|   113|     104|      1|       0|      0|       0|      1|       0|       1|      1|       1|   113.0|   104.0|    9.0|         0|        0|             0|            0|   0.0|        0.0|  9.0|     9.0| 0.7963|      0.7603|  62.3446|  19.6554|     0.7973| 65.3786| 16.6214|\n",
            "|2016-10-25 00:00:00|       SA|   1|      1|       0|    win|     1|     0.0|   129|     100|      0|       0|      1|       0|      1|       0|       1|      1|       1|   129.0|   100.0|   29.0|         0|        0|             0|            0|   0.0|        0.0| 29.0|    29.0| 1.4549|      0.9719|  79.6958|   2.3042|     0.9852| 80.7864|  1.2136|\n",
            "|2016-10-25 00:00:00|      SAC|   3|      0|       0|      -|     0|     0.5|     0|       0|      0|       0|      0|       0|      0|       0|       0|      0|       0|     0.0|     0.0|    0.0|         0|        0|             0|            0|   0.0|        0.0|  0.0|     0.0|    0.5|         0.0|      0.0|     82.0|        0.0|     0.0|    82.0|\n",
            "|2016-10-25 00:00:00|      TOR|   2|      0|       0|      -|     0|     0.5|     0|       0|      0|       0|      0|       0|      0|       0|       0|      0|       0|     0.0|     0.0|    0.0|         0|        0|             0|            0|   0.0|        0.0|  0.0|     0.0|    0.5|         0.0|      0.0|     82.0|        0.0|     0.0|    82.0|\n",
            "|2016-10-25 00:00:00|      UTA|  14|      0|       1|   loss|     1|     1.0|   104|     113|      0|       0|      0|       1|      0|       1|       0|      0|       1|   104.0|   113.0|   -9.0|         0|        0|             0|            0|   0.0|        0.0| -9.0|    -9.0| 0.2037|      0.2397|  19.6554|  62.3446|     0.2027| 16.6214| 65.3786|\n",
            "|2016-10-25 00:00:00|      WAS|   2|      0|       0|      -|     0|     0.5|     0|       0|      0|       0|      0|       0|      0|       0|       0|      0|       0|     0.0|     0.0|    0.0|         0|        0|             0|            0|   0.0|        0.0|  0.0|     0.0|    0.5|         0.0|      0.0|     82.0|        0.0|     0.0|    82.0|\n",
            "|2016-10-26 00:00:00|      ATL|   7|      0|       0|      -|     0|     0.5|     0|       0|      0|       0|      0|       0|      0|       0|       0|      0|       0|     0.0|     0.0|    0.0|         0|        0|             0|            0|   0.0|        0.0|  0.0|     0.0|    0.5|         0.0|      0.0|     82.0|        0.0|     0.0|    82.0|\n",
            "|2016-10-26 00:00:00|      BKN|  10|      0|       1|   loss|     1|     1.0|   117|     122|      0|       0|      0|       1|      0|       1|       0|      0|       1|   117.0|   122.0|   -5.0|         0|        0|             0|            0|   0.0|        0.0| -5.0|    -5.0| 0.3354|      0.3585|   29.397|   52.603|     0.3339| 27.3798| 54.6202|\n",
            "|2016-10-26 00:00:00|      BOS|   1|      1|       0|    win|     1|     0.0|   122|     117|      1|       0|      0|       0|      1|       0|       1|      1|       1|   122.0|   117.0|    5.0|         0|        0|             0|            0|   0.0|        0.0|  5.0|     5.0| 0.6646|      0.6415|   52.603|   29.397|     0.6661| 54.6202| 27.3798|\n",
            "|2016-10-26 00:00:00|      CHA|   1|      1|       0|    win|     1|     0.0|   107|      96|      0|       0|      1|       0|      1|       0|       1|      1|       1|   107.0|    96.0|   11.0|         0|        0|             0|            0|   0.0|        0.0| 11.0|    11.0| 0.8622|      0.8189|  67.1498|  14.8502|     0.8569| 70.2658| 11.7342|\n",
            "|2016-10-26 00:00:00|      CHI|   7|      0|       0|      -|     0|     0.5|     0|       0|      0|       0|      0|       0|      0|       0|       0|      0|       0|     0.0|     0.0|    0.0|         0|        0|             0|            0|   0.0|        0.0|  0.0|     0.0|    0.5|         0.0|      0.0|     82.0|        0.0|     0.0|    82.0|\n",
            "|2016-10-26 00:00:00|      CLE|   1|      1|       0|    win|     1|     0.0|   117|      88|      1|       0|      0|       0|      1|       0|       1|      1|       1|   117.0|    88.0|   29.0|         0|        0|             0|            0|   0.0|        0.0| 29.0|    29.0| 1.4549|      0.9813|  80.4666|   1.5334|      0.991|  81.262|   0.738|\n",
            "|2016-10-26 00:00:00|      DAL|   9|      0|       1|   loss|     1|     1.0|   121|     130|      0|       0|      0|       1|      0|       0|       0|      0|       1|   121.0|   130.0|   -9.0|         0|        0|             0|            0|   0.0|        0.0| -9.0|    -9.0| 0.2037|      0.2693|  22.0826|  59.9174|     0.2344| 19.2208| 62.7792|\n",
            "|2016-10-26 00:00:00|      DEN|   1|      1|       0|    win|     1|     0.0|   107|     102|      0|       0|      1|       0|      1|       0|       1|      1|       1|   107.0|   102.0|    5.0|         0|        0|             0|            0|   0.0|        0.0|  5.0|     5.0| 0.6646|      0.6605|   54.161|   27.839|     0.6878| 56.3996| 25.6004|\n",
            "|2016-10-26 00:00:00|      DET|  10|      0|       1|   loss|     1|     1.0|    91|     109|      0|       0|      0|       1|      0|       1|       0|      0|       1|    91.0|   109.0|  -18.0|         0|        0|             0|            0|   0.0|        0.0|-18.0|   -18.0|-0.0927|      0.0751|   6.1582|  75.8418|     0.0484|  3.9688| 78.0312|\n",
            "|2016-10-26 00:00:00|       GS|   9|      0|       1|   loss|     1|     1.0|   100|     129|      0|       1|      0|       0|      0|       1|       0|      0|       1|   100.0|   129.0|  -29.0|         0|        0|             0|            0|   0.0|        0.0|-29.0|   -29.0|-0.4549|      0.0281|   2.3042|  79.6958|     0.0148|  1.2136| 80.7864|\n",
            "|2016-10-26 00:00:00|      HOU|   9|      0|       1|   loss|     1|     1.0|   114|     120|      0|       0|      0|       1|      0|       1|       0|      0|       1|   114.0|   120.0|   -6.0|         0|        0|             0|            0|   0.0|        0.0| -6.0|    -6.0| 0.3024|      0.3288|  26.9616|  55.0384|     0.3002| 24.6164| 57.3836|\n",
            "|2016-10-26 00:00:00|      IND|   1|      1|       0|    win|     1|     0.0|   130|     121|      1|       0|      0|       0|      0|       0|       1|      1|       1|   130.0|   121.0|    9.0|         0|        0|             0|            0|   0.0|        0.0|  9.0|     9.0| 0.7963|      0.7307|  59.9174|  22.0826|     0.7656| 62.7792| 19.2208|\n",
            "|2016-10-26 00:00:00|      LAC|   8|      0|       0|      -|     0|     0.5|     0|       0|      0|       0|      0|       0|      0|       0|       0|      0|       0|     0.0|     0.0|    0.0|         0|        0|             0|            0|   0.0|        0.0|  0.0|     0.0|    0.5|         0.0|      0.0|     82.0|        0.0|     0.0|    82.0|\n",
            "|2016-10-26 00:00:00|      LAL|   1|      1|       0|    win|     1|     0.0|   120|     114|      1|       0|      0|       0|      1|       0|       1|      1|       1|   120.0|   114.0|    6.0|         0|        0|             0|            0|   0.0|        0.0|  6.0|     6.0| 0.6976|      0.6712|  55.0384|  26.9616|     0.6998| 57.3836| 24.6164|\n",
            "|2016-10-26 00:00:00|      MEM|   1|      1|       0|    win|     1|     0.0|   102|      98|      1|       0|      0|       0|      1|       0|       1|      1|       1|   102.0|    98.0|    4.0|         0|        0|             0|            0|   0.0|        0.0|  4.0|     4.0| 0.6317|      0.6356|  52.1192|  29.8808|     0.6593| 54.0626| 27.9374|\n",
            "|2016-10-26 00:00:00|      MIA|   1|      1|       0|    win|     1|     0.0|   108|      96|      0|       0|      1|       0|      1|       0|       1|      1|       1|   108.0|    96.0|   12.0|         0|        0|             0|            0|   0.0|        0.0| 12.0|    12.0| 0.8951|      0.8373|  68.6586|  13.3414|     0.8747| 71.7254| 10.2746|\n",
            "|2016-10-26 00:00:00|      MIL|  10|      0|       1|   loss|     1|     1.0|    96|     107|      0|       1|      0|       0|      0|       1|       0|      0|       1|    96.0|   107.0|  -11.0|         0|        0|             0|            0|   0.0|        0.0|-11.0|   -11.0| 0.1378|      0.1811|  14.8502|  67.1498|     0.1431| 11.7342| 70.2658|\n",
            "|2016-10-26 00:00:00|      MIN|   9|      0|       1|   loss|     1|     1.0|    98|     102|      0|       0|      0|       1|      0|       1|       0|      0|       1|    98.0|   102.0|   -4.0|         0|        0|             0|            0|   0.0|        0.0| -4.0|    -4.0| 0.3683|      0.3644|  29.8808|  52.1192|     0.3407| 27.9374| 54.0626|\n",
            "|2016-10-26 00:00:00|       NO|   9|      0|       1|   loss|     1|     1.0|   102|     107|      0|       1|      0|       0|      0|       1|       0|      0|       1|   102.0|   107.0|   -5.0|         0|        0|             0|            0|   0.0|        0.0| -5.0|    -5.0| 0.3354|      0.3395|   27.839|   54.161|     0.3122| 25.6004| 56.3996|\n",
            "|2016-10-26 00:00:00|       NY|  10|      0|       1|   loss|     1|     1.0|    88|     117|      0|       0|      0|       1|      0|       1|       0|      0|       1|    88.0|   117.0|  -29.0|         0|        0|             0|            0|   0.0|        0.0|-29.0|   -29.0|-0.4549|      0.0187|   1.5334|  80.4666|      0.009|   0.738|  81.262|\n",
            "|2016-10-26 00:00:00|      OKC|   1|      1|       0|    win|     1|     0.0|   103|      97|      0|       0|      1|       0|      0|       0|       1|      1|       1|   103.0|    97.0|    6.0|         0|        0|             0|            0|   0.0|        0.0|  6.0|     6.0| 0.6976|      0.6974|  57.1868|  24.8132|     0.7291| 59.7862| 22.2138|\n",
            "|2016-10-26 00:00:00|      ORL|  10|      0|       1|   loss|     1|     1.0|    96|     108|      0|       1|      0|       0|      0|       1|       0|      0|       1|    96.0|   108.0|  -12.0|         0|        0|             0|            0|   0.0|        0.0|-12.0|   -12.0| 0.1049|      0.1627|  13.3414|  68.6586|     0.1253| 10.2746| 71.7254|\n",
            "|2016-10-26 00:00:00|      PHI|  10|      0|       1|   loss|     1|     1.0|    97|     103|      0|       1|      0|       0|      0|       0|       0|      0|       1|    97.0|   103.0|   -6.0|         0|        0|             0|            0|   0.0|        0.0| -6.0|    -6.0| 0.3024|      0.3026|  24.8132|  57.1868|     0.2709| 22.2138| 59.7862|\n",
            "|2016-10-26 00:00:00|      PHO|   9|      0|       1|   loss|     1|     1.0|    94|     113|      0|       1|      0|       0|      0|       1|       0|      0|       1|    94.0|   113.0|  -19.0|         0|        0|             0|            0|   0.0|        0.0|-19.0|   -19.0|-0.1256|      0.0717|   5.8794|  76.1206|     0.0458|  3.7556| 78.2444|\n",
            "|2016-10-26 00:00:00|      POR|   1|      1|       0|    win|     1|     0.0|   113|     104|      1|       0|      0|       0|      1|       0|       1|      1|       1|   113.0|   104.0|    9.0|         0|        0|             0|            0|   0.0|        0.0|  9.0|     9.0| 0.7963|      0.7603|  62.3446|  19.6554|     0.7973| 65.3786| 16.6214|\n",
            "|2016-10-26 00:00:00|       SA|   1|      1|       0|    win|     1|     0.0|   129|     100|      0|       0|      1|       0|      1|       0|       1|      1|       1|   129.0|   100.0|   29.0|         0|        0|             0|            0|   0.0|        0.0| 29.0|    29.0| 1.4549|      0.9719|  79.6958|   2.3042|     0.9852| 80.7864|  1.2136|\n",
            "|2016-10-26 00:00:00|      SAC|   1|      1|       0|    win|     1|     0.0|   113|      94|      0|       0|      1|       0|      1|       0|       1|      1|       1|   113.0|    94.0|   19.0|         0|        0|             0|            0|   0.0|        0.0| 19.0|    19.0| 1.1256|      0.9283|  76.1206|   5.8794|     0.9542| 78.2444|  3.7556|\n",
            "|2016-10-26 00:00:00|      TOR|   1|      1|       0|    win|     1|     0.0|   109|      91|      1|       0|      0|       0|      1|       0|       1|      1|       1|   109.0|    91.0|   18.0|         0|        0|             0|            0|   0.0|        0.0| 18.0|    18.0| 1.0927|      0.9249|  75.8418|   6.1582|     0.9516| 78.0312|  3.9688|\n",
            "|2016-10-26 00:00:00|      UTA|   9|      0|       1|   loss|     1|     1.0|   104|     113|      0|       0|      0|       1|      0|       1|       0|      0|       1|   104.0|   113.0|   -9.0|         0|        0|             0|            0|   0.0|        0.0| -9.0|    -9.0| 0.2037|      0.2397|  19.6554|  62.3446|     0.2027| 16.6214| 65.3786|\n",
            "|2016-10-26 00:00:00|      WAS|   7|      0|       0|      -|     0|     0.5|     0|       0|      0|       0|      0|       0|      0|       0|       0|      0|       0|     0.0|     0.0|    0.0|         0|        0|             0|            0|   0.0|        0.0|  0.0|     0.0|    0.5|         0.0|      0.0|     82.0|        0.0|     0.0|    82.0|\n",
            "|2016-10-27 00:00:00|      ATL|   1|      1|       0|    win|     1|     0.0|   114|      99|      1|       0|      0|       0|      1|       0|       1|      1|       1|   114.0|    99.0|   15.0|         0|        0|             0|            0|   0.0|        0.0| 15.0|    15.0| 0.9939|      0.8768|  71.8976|  10.1024|     0.9112| 74.7184|  7.2816|\n",
            "|2016-10-27 00:00:00|      BKN|   9|      0|       1|   loss|     1|     1.0|   117|     122|      0|       0|      0|       1|      0|       1|       0|      0|       1|   117.0|   122.0|   -5.0|         1|        0|             1|            1|0.3333|       0.25| -5.0| -5.3333| 0.3354|      0.3585|   29.397|   52.603|     0.3339| 27.3798| 54.6202|\n",
            "|2016-10-27 00:00:00|      BOS|   8|      1|       1|   loss|     1|     0.5|   221|     222|      1|       0|      0|       1|      1|       1|       1|      1|       2|   110.5|   111.0|   -0.5|         0|        0|             0|            0|   0.0|        0.0| -0.5|    -0.5| 0.4835|      0.4843|  39.7126|  42.2874|     0.4814| 39.4748| 42.5252|\n",
            "|2016-10-27 00:00:00|      CHA|   1|      1|       0|    win|     1|     0.0|   107|      96|      0|       0|      1|       0|      1|       0|       1|      1|       1|   107.0|    96.0|   11.0|         0|        0|             0|            0|   0.0|        0.0| 11.0|    11.0| 0.8622|      0.8189|  67.1498|  14.8502|     0.8569| 70.2658| 11.7342|\n",
            "|2016-10-27 00:00:00|      CHI|   1|      1|       0|    win|     1|     0.0|   105|      99|      1|       0|      0|       0|      1|       0|       1|      1|       1|   105.0|    99.0|    6.0|         1|        1|             1|            0|   0.0|        0.0|  6.0|     6.0| 0.6976|      0.6939|  56.8998|  25.1002|     0.7253| 59.4746| 22.5254|\n",
            "|2016-10-27 00:00:00|      CLE|   1|      1|       0|    win|     1|     0.0|   117|      88|      1|       0|      0|       0|      1|       0|       1|      1|       1|   117.0|    88.0|   29.0|         0|        0|             0|            0|   0.0|        0.0| 29.0|    29.0| 1.4549|      0.9813|  80.4666|   1.5334|      0.991|  81.262|   0.738|\n",
            "|2016-10-27 00:00:00|      DAL|   9|      0|       1|   loss|     1|     1.5|   121|     130|      0|       0|      0|       1|      0|       0|       0|      0|       1|   121.0|   130.0|   -9.0|         0|        0|             0|            0|   0.0|        0.0| -9.0|    -9.0| 0.2037|      0.2693|  22.0826|  59.9174|     0.2344| 19.2208| 62.7792|\n",
            "|2016-10-27 00:00:00|      DEN|   2|      1|       0|    win|     1|     0.5|   107|     102|      0|       0|      1|       0|      1|       0|       1|      1|       1|   107.0|   102.0|    5.0|         0|        0|             0|            0|   0.0|        0.0|  5.0|     5.0| 0.6646|      0.6605|   54.161|   27.839|     0.6878| 56.3996| 25.6004|\n",
            "|2016-10-27 00:00:00|      DET|   9|      0|       1|   loss|     1|     1.0|    91|     109|      0|       0|      0|       1|      0|       1|       0|      0|       1|    91.0|   109.0|  -18.0|         0|        0|             0|            0|   0.0|        0.0|-18.0|   -18.0|-0.0927|      0.0751|   6.1582|  75.8418|     0.0484|  3.9688| 78.0312|\n",
            "|2016-10-27 00:00:00|       GS|   9|      0|       1|   loss|     1|     1.5|   100|     129|      0|       1|      0|       0|      0|       1|       0|      0|       1|   100.0|   129.0|  -29.0|         1|        1|             2|            1|0.8333|      0.625|-29.0|-29.8333|-0.4549|      0.0281|   2.3042|  79.6958|     0.0148|  1.2136| 80.7864|\n",
            "+-------------------+---------+----+-------+--------+-------+------+--------+------+--------+-------+--------+-------+--------+-------+--------+--------+-------+--------+--------+--------+-------+----------+---------+--------------+-------------+------+-----------+-----+--------+-------+------------+---------+---------+-----------+--------+--------+\n",
            "only showing top 100 rows\n",
            "\n"
          ],
          "name": "stdout"
        }
      ]
    },
    {
      "metadata": {
        "id": "PF2PgEGeJ8mn",
        "colab_type": "text"
      },
      "cell_type": "markdown",
      "source": [
        "##################################################################################\n",
        "### Merge the standings data into the box score data\n",
        "##################################################################################"
      ]
    },
    {
      "metadata": {
        "id": "Jj9pkj9nJ8mr",
        "colab_type": "code",
        "colab": {
          "base_uri": "https://localhost:8080/",
          "height": 51
        },
        "outputId": "02c27c98-f106-4b3a-b308-f51672ec8e79"
      },
      "cell_type": "code",
      "source": [
        "# Home team data\n",
        "boxWithStand = boxScoreAll.join(standingsAll, (boxScoreAll.teamAbbr == standingsAll.steamAbbr) & (date_sub(boxScoreAll.gmDate, 1) == to_date(standingsAll.stDate)))\n",
        "\n",
        "# Confirm that the counts are the same\n",
        "print(boxScoreAll.count())\n",
        "print(boxWithStand.count())"
      ],
      "execution_count": 111,
      "outputs": [
        {
          "output_type": "stream",
          "text": [
            "2460\n",
            "2460\n"
          ],
          "name": "stdout"
        }
      ]
    },
    {
      "metadata": {
        "id": "pYYslzkfJ8mx",
        "colab_type": "code",
        "colab": {
          "base_uri": "https://localhost:8080/",
          "height": 51
        },
        "outputId": "a9b61216-a988-4027-a2dc-d2bb43b4f2d4"
      },
      "cell_type": "code",
      "source": [
        "# Away team data\n",
        "\n",
        "# Rename columns by adding a suffix so that there are no name clashes\n",
        "opptStandings = standingsAll.select(*(col(x).alias(x + '_oppt') for x in standingsAll.columns))\n",
        "\n",
        "# Join the tables\n",
        "boxWithStand = boxWithStand.join(opptStandings, (boxScoreAll.opptAbbr == opptStandings.steamAbbr_oppt) & (date_sub(boxScoreAll.gmDate, 1) == to_date(opptStandings.stDate_oppt)))\n",
        "\n",
        "# Confirm that the counts are the same\n",
        "print(boxScoreAll.count())\n",
        "print(boxWithStand.count())\n"
      ],
      "execution_count": 112,
      "outputs": [
        {
          "output_type": "stream",
          "text": [
            "2460\n",
            "2460\n"
          ],
          "name": "stdout"
        }
      ]
    },
    {
      "metadata": {
        "id": "mJfawUlYJ8m1",
        "colab_type": "code",
        "colab": {
          "base_uri": "https://localhost:8080/",
          "height": 376
        },
        "outputId": "6db35726-a315-4771-cfec-b50c26e8229a"
      },
      "cell_type": "code",
      "source": [
        "from matplotlib import cm\n",
        "\n",
        "# Compare Win/Loss record with rank\n",
        "\n",
        "# Prepare the data\n",
        "pdDataFrame = boxWithStand.toPandas()\n",
        "\n",
        "# Build up the dataset required for plotting\n",
        "\n",
        "resultsDf = pd.DataFrame(columns = ['rank', 'Win', 'Loss'])\n",
        "resultsDf = resultsDf.fillna(0) # with 0s rather than NaNs\n",
        "\n",
        "for i in range(1, 16):\n",
        "  df = pdDataFrame.groupby(['rank', 'teamRslt']).get_group((i, 'Win')).aggregate('count')\n",
        "  df2 = pdDataFrame.groupby(['rank', 'teamRslt']).get_group((i, 'Loss')).aggregate('count')\n",
        "  vals = { 'rank' : i, 'Win' : df[0], 'Loss' : df2[0]}\n",
        "  \n",
        "  newDF = pd.DataFrame(vals, index=[0])\n",
        "  resultsDf = resultsDf.append(newDF)\n",
        "  \n",
        "plt.scatter(resultsDf['Loss'], resultsDf['Win'], c = resultsDf['rank'] < 9, cmap = cm.RdYlGn)\n",
        "plt.title(\"Comparison of Wins v Losses\")\n",
        "plt.xlabel(\"Number of Losses\")\n",
        "plt.ylabel(\"Number of Wins\")\n",
        "plt.show()\n"
      ],
      "execution_count": 302,
      "outputs": [
        {
          "output_type": "display_data",
          "data": {
            "image/png": "[encoded data removed]",
            "text/plain": [
              "<matplotlib.figure.Figure at 0x7f6d51167b70>"
            ]
          },
          "metadata": {
            "tags": []
          }
        }
      ]
    },
    {
      "metadata": {
        "id": "Rqm9y-HHJ8m4",
        "colab_type": "text"
      },
      "cell_type": "markdown",
      "source": [
        "##################################################################################\n",
        "\n",
        "Split the data and prepare for Machine Learning\n",
        "##################################################################################"
      ]
    },
    {
      "metadata": {
        "id": "hejnUE53J8m_",
        "colab_type": "code",
        "colab": {
          "base_uri": "https://localhost:8080/",
          "height": 34
        },
        "outputId": "04486c92-8dac-44dd-eb37-d22f23fee870"
      },
      "cell_type": "code",
      "source": [
        "##############\n",
        "# Training data - get all the rows that are pre 2018-01-01\n",
        "\n",
        "trainingData = boxWithStand.filter('gmDate < \"2018-01-01\"')\n",
        "print(trainingData.count())\n",
        "\n",
        "# Remove the gmDate column - It is no longer required because we have the calculated daysSince column. It was only required to get Training and Test data\n",
        "trainingData = trainingData.drop('gmDate')"
      ],
      "execution_count": 325,
      "outputs": [
        {
          "output_type": "stream",
          "text": [
            "1774\n"
          ],
          "name": "stdout"
        }
      ]
    },
    {
      "metadata": {
        "id": "rMEa9AcRJ8nE",
        "colab_type": "code",
        "colab": {
          "base_uri": "https://localhost:8080/",
          "height": 34
        },
        "outputId": "eadcf6ad-883f-41ad-e4ef-60f17bbd1a60"
      },
      "cell_type": "code",
      "source": [
        "##############\n",
        "# Test data - get all the rows that are between 2018-01-01 and 2018-02-07\n",
        "\n",
        "testData = boxWithStand.filter('gmDate >= \"2018-01-01\" AND gmDate <= \"2018-02-07\"')\n",
        "print(testData.count())\n",
        "\n",
        "# Remove the gmDate column - It is no longer required because we have the calculated daysSince column. It was only required to get Training and Test data\n",
        "testData = testData.drop('gmDate')"
      ],
      "execution_count": 326,
      "outputs": [
        {
          "output_type": "stream",
          "text": [
            "260\n"
          ],
          "name": "stdout"
        }
      ]
    },
    {
      "metadata": {
        "id": "pRIL8V_0NItz",
        "colab_type": "code",
        "colab": {
          "base_uri": "https://localhost:8080/",
          "height": 34
        },
        "outputId": "00639bb5-5136-49ae-bf44-d403d755a4a1"
      },
      "cell_type": "code",
      "source": [
        "##############\n",
        "# OneHot the categorical variables so that feature selection and algorithms can be run\n",
        "\n",
        "# Indexers for Standings Columns\n",
        "teamAbbr_indexer = StringIndexer(inputCol='teamAbbr',outputCol='teamAbbrIndex')\n",
        "stkType_indexer = StringIndexer(inputCol='stkType',outputCol='stkTypeIndex')\n",
        "\n",
        "# Box Score columns\n",
        "gmTime_indexer = StringIndexer(inputCol='gmTime',outputCol='gmTimeIndex')\n",
        "offLNm1_indexer = StringIndexer(inputCol='offLNm1',outputCol='offLNm1Index')\n",
        "offLNm2_indexer = StringIndexer(inputCol='offLNm2',outputCol='offLNm2Index')\n",
        "offLNm3_indexer = StringIndexer(inputCol='offLNm3',outputCol='offLNm3Index')\n",
        "teamConf_indexer = StringIndexer(inputCol='teamConf',outputCol='teamConfIndex')\n",
        "teamDiv_indexer = StringIndexer(inputCol='teamDiv',outputCol='teamDivIndex')\n",
        "opptAbbr_indexer = StringIndexer(inputCol='opptAbbr',outputCol='opptAbbrIndex')\n",
        "opptConf_indexer = StringIndexer(inputCol='opptConf',outputCol='opptConfIndex')\n",
        "opptDiv_indexer = StringIndexer(inputCol='opptDiv',outputCol='opptDivIndex')\n",
        "teamRslt_indexer = StringIndexer(inputCol='teamRslt',outputCol='rslt')\n",
        "\n",
        "# Encoders for Standings Columns\n",
        "teamAbbr_encoder = OneHotEncoder(inputCol='teamAbbrIndex',outputCol='teamAbbrVec')\n",
        "stkType_encoder = OneHotEncoder(inputCol='stkTypeIndex',outputCol='stkTypeVec')\n",
        "\n",
        "# Box Score columns\n",
        "gmTime_encoder = OneHotEncoder(inputCol='gmTimeIndex',outputCol='gmTimeVec')\n",
        "offLNm1_encoder = OneHotEncoder(inputCol='offLNm1Index',outputCol='offLNm1Vec')\n",
        "offLNm2_encoder = OneHotEncoder(inputCol='offLNm2Index',outputCol='offLNm2Vec')\n",
        "offLNm3_encoder = OneHotEncoder(inputCol='offLNm3Index',outputCol='offLNm3Vec')\n",
        "teamConf_encoder = OneHotEncoder(inputCol='teamConfIndex',outputCol='teamConfVec')\n",
        "teamDiv_encoder = OneHotEncoder(inputCol='teamDivIndex',outputCol='teamDivVec')\n",
        "opptAbbr_encoder = OneHotEncoder(inputCol='opptAbbrIndex',outputCol='opptAbbrVec')\n",
        "opptConf_encoder = OneHotEncoder(inputCol='opptConfIndex',outputCol='opptConfVec')\n",
        "opptDiv_encoder = OneHotEncoder(inputCol='opptDivIndex',outputCol='opptDivVec')\n",
        "\n",
        "# Gather the fields back together with the categorical columns replaced with OneHotted vectors\n",
        "assembler = VectorAssembler(inputCols=['teamAbbrVec','stkTypeVec'\n",
        "                                       , 'offLNm1Vec','offLNm2Vec','offLNm3Vec','teamConfVec','teamDivVec','opptAbbrVec','opptConfVec','opptDivVec'\n",
        "                                       , 'gmTimeVec', 'pwPerc', 'mov_oppt', 'pythPerc1391', 'opptOpptGmPlay', 'ptsScore_oppt', 'wpyth1391_oppt'\n",
        "                                       , 'gameLost', 'relPercIndx', 'mov', 'gamePlay_oppt', 'opptOpptGmWon', 'gameBack', 'sos', 'pwPerc_oppt'\n",
        "                                       , 'wpyth165_oppt', 'lpyth1391_oppt', 'stkTot', 'awayWin_oppt', 'sos_oppt', 'srs', 'confLoss_oppt'\n",
        "                                       , 'gameWon', 'lastTen', 'homeWin', 'srs_oppt', 'wpyth165', 'wpyth1391', 'ptsAllow_oppt'\n",
        "                                       , 'ptsFor', 'lpyth165_oppt', 'confWin', 'homeWin_oppt'\n",
        "                                       , 'homeLoss', 'confWin_oppt', 'opptGmPlay', 'ptsAllow'\n",
        "                                       , 'relPercIndx_oppt', 'homeLoss_oppt', 'awayWin', 'teamDayOff', 'lpyth165'\n",
        "                                       , 'opptDayOff', 'rank_oppt', 'ptsScore', 'ptsAgnst', 'ptsDiff_oppt'\n",
        "                                       , 'lastFive', 'pythPerc1391_oppt', 'pythPerc165', 'ptsAgnst_oppt', 'stkTot_oppt', 'daysSince'\n",
        "                                       , 'pythPerc165_oppt', 'gameLost_oppt', 'awayLoss', 'gameBack_oppt', 'awayLoss_oppt', 'lastFive_oppt'\n",
        "                                       , 'lastTen_oppt', 'rank', 'gameWon_oppt', 'opptGmPlay_oppt', 'lpyth1391', 'opptGmWon_oppt'\n",
        "                                       , 'ptsDiff', 'gamePlay', 'opptGmWon', 'opptGmPlay_oppt', 'ptsFor_oppt', 'confLoss'\n",
        "                                      ], outputCol=\"features\")\n",
        "\n",
        "# Build the pipeline\n",
        "pipeline = Pipeline(stages=[gmTime_indexer, teamAbbr_indexer, stkType_indexer\n",
        "                            ,offLNm1_indexer, offLNm2_indexer,offLNm3_indexer, teamConf_indexer, teamDiv_indexer, opptAbbr_indexer, opptConf_indexer, opptDiv_indexer\n",
        "                            ,teamRslt_indexer\n",
        "                            ,offLNm1_encoder, offLNm2_encoder,offLNm3_encoder, teamConf_encoder, teamDiv_encoder, opptAbbr_encoder, opptConf_encoder, opptDiv_encoder\n",
        "                            ,gmTime_encoder,teamAbbr_encoder, stkType_encoder\n",
        "                            , assembler])\n",
        "\n",
        "# Apply to the dataframe\n",
        "pipeline_model = pipeline.fit(trainingData)\n",
        "\n",
        "# Create the new dataframe\n",
        "pipe_df = pipeline_model.transform(trainingData)\n",
        "\n",
        "# Remove all variables other than features and label\n",
        "pipe_df = pipe_df.select('rslt', 'features')\n",
        "pipe_df.head(10)\n"
      ],
      "execution_count": 345,
      "outputs": [
        {
          "output_type": "stream",
          "text": [
            "Column<b'features'>\n"
          ],
          "name": "stdout"
        }
      ]
    },
    {
      "metadata": {
        "id": "uxsJ1il8FtCg",
        "colab_type": "code",
        "colab": {
          "base_uri": "https://localhost:8080/",
          "height": 351
        },
        "outputId": "2dd79ee4-d764-4c12-c800-662633f1a631"
      },
      "cell_type": "code",
      "source": [
        "# # Convert to a dense vector\n",
        "# from pyspark.ml.linalg import SparseVector, DenseVector\n",
        "# # pipe_dense = pipe_df.map(lambda vector: DenseVector(vector.toArray()))\n",
        "# # pipe_dense.head(10)\n",
        "# print(pipe_df.select('features')[0])\n",
        "print(DenseVector(pipe_df.select('features')))\n",
        "\n",
        "# Instantiate the model.\n",
        "# lr_model = LogisticRegression(featuresCol='features',labelCol='rslt')\n",
        "\n",
        "# # Fit the model.\n",
        "# lr_model = lr_model.fit(pipe_df)\n",
        "\n",
        "# # And evaluate the model using the test data.\n",
        "# results = lr_model.transform(pipe_df)"
      ],
      "execution_count": 357,
      "outputs": [
        {
          "output_type": "error",
          "ename": "ValueError",
          "evalue": "ignored",
          "traceback": [
            "\u001b[0;31m---------------------------------------------------------------------------\u001b[0m",
            "\u001b[0;31mValueError\u001b[0m                                Traceback (most recent call last)",
            "\u001b[0;32m<ipython-input-357-c1d3c8298811>\u001b[0m in \u001b[0;36m<module>\u001b[0;34m()\u001b[0m\n\u001b[0;32m----> 1\u001b[0;31m \u001b[0mprint\u001b[0m\u001b[0;34m(\u001b[0m\u001b[0mDenseVector\u001b[0m\u001b[0;34m(\u001b[0m\u001b[0mpipe_df\u001b[0m\u001b[0;34m.\u001b[0m\u001b[0mselect\u001b[0m\u001b[0;34m(\u001b[0m\u001b[0;34m'features'\u001b[0m\u001b[0;34m)\u001b[0m\u001b[0;34m)\u001b[0m\u001b[0;34m)\u001b[0m\u001b[0;34m\u001b[0m\u001b[0m\n\u001b[0m\u001b[1;32m      2\u001b[0m \u001b[0;34m\u001b[0m\u001b[0m\n\u001b[1;32m      3\u001b[0m \u001b[0;31m# Instantiate the model.\u001b[0m\u001b[0;34m\u001b[0m\u001b[0;34m\u001b[0m\u001b[0m\n\u001b[1;32m      4\u001b[0m \u001b[0;31m# lr_model = LogisticRegression(featuresCol='features',labelCol='rslt')\u001b[0m\u001b[0;34m\u001b[0m\u001b[0;34m\u001b[0m\u001b[0m\n\u001b[1;32m      5\u001b[0m \u001b[0;34m\u001b[0m\u001b[0m\n",
            "\u001b[0;32m/content/spark-2.2.2-bin-hadoop2.7/python/pyspark/ml/linalg/__init__.py\u001b[0m in \u001b[0;36m__init__\u001b[0;34m(self, ar)\u001b[0m\n\u001b[1;32m    276\u001b[0m             \u001b[0mar\u001b[0m \u001b[0;34m=\u001b[0m \u001b[0mnp\u001b[0m\u001b[0;34m.\u001b[0m\u001b[0mfrombuffer\u001b[0m\u001b[0;34m(\u001b[0m\u001b[0mar\u001b[0m\u001b[0;34m,\u001b[0m \u001b[0mdtype\u001b[0m\u001b[0;34m=\u001b[0m\u001b[0mnp\u001b[0m\u001b[0;34m.\u001b[0m\u001b[0mfloat64\u001b[0m\u001b[0;34m)\u001b[0m\u001b[0;34m\u001b[0m\u001b[0m\n\u001b[1;32m    277\u001b[0m         \u001b[0;32melif\u001b[0m \u001b[0;32mnot\u001b[0m \u001b[0misinstance\u001b[0m\u001b[0;34m(\u001b[0m\u001b[0mar\u001b[0m\u001b[0;34m,\u001b[0m \u001b[0mnp\u001b[0m\u001b[0;34m.\u001b[0m\u001b[0mndarray\u001b[0m\u001b[0;34m)\u001b[0m\u001b[0;34m:\u001b[0m\u001b[0;34m\u001b[0m\u001b[0m\n\u001b[0;32m--> 278\u001b[0;31m             \u001b[0mar\u001b[0m \u001b[0;34m=\u001b[0m \u001b[0mnp\u001b[0m\u001b[0;34m.\u001b[0m\u001b[0marray\u001b[0m\u001b[0;34m(\u001b[0m\u001b[0mar\u001b[0m\u001b[0;34m,\u001b[0m \u001b[0mdtype\u001b[0m\u001b[0;34m=\u001b[0m\u001b[0mnp\u001b[0m\u001b[0;34m.\u001b[0m\u001b[0mfloat64\u001b[0m\u001b[0;34m)\u001b[0m\u001b[0;34m\u001b[0m\u001b[0m\n\u001b[0m\u001b[1;32m    279\u001b[0m         \u001b[0;32mif\u001b[0m \u001b[0mar\u001b[0m\u001b[0;34m.\u001b[0m\u001b[0mdtype\u001b[0m \u001b[0;34m!=\u001b[0m \u001b[0mnp\u001b[0m\u001b[0;34m.\u001b[0m\u001b[0mfloat64\u001b[0m\u001b[0;34m:\u001b[0m\u001b[0;34m\u001b[0m\u001b[0m\n\u001b[1;32m    280\u001b[0m             \u001b[0mar\u001b[0m \u001b[0;34m=\u001b[0m \u001b[0mar\u001b[0m\u001b[0;34m.\u001b[0m\u001b[0mastype\u001b[0m\u001b[0;34m(\u001b[0m\u001b[0mnp\u001b[0m\u001b[0;34m.\u001b[0m\u001b[0mfloat64\u001b[0m\u001b[0;34m)\u001b[0m\u001b[0;34m\u001b[0m\u001b[0m\n",
            "\u001b[0;31mValueError\u001b[0m: setting an array element with a sequence."
          ]
        }
      ]
    },
    {
      "metadata": {
        "id": "4cMxfJPEJ8nP",
        "colab_type": "code",
        "colab": {
          "base_uri": "https://localhost:8080/",
          "height": 2646
        },
        "outputId": "ff23f7b0-57bb-4df2-c309-bdba5e5bf8b6"
      },
      "cell_type": "code",
      "source": [
        "######################\n",
        "# Feature Selection\n",
        "\n",
        "selector = ChiSqSelector(numTopFeatures=50, featuresCol=\"features\", outputCol=\"selectedFeatures\", labelCol=\"rslt\")\n",
        "# #selector = ChiSqSelector(numTopFeatures=50, outputCol=\"selectedFeatures\", labelCol=\"teamRslt\")\n",
        "# selector = ChiSqSelector(numTopFeatures=50, labelCol=\"teamRslt\", outputCol = \"selectedFeatures\")\n",
        "# chiData = trainingData.select('gmDate', 'gameBack', 'ptsAgnst', 'ptsFor', 'stkTot', 'ptsDiff', 'homeWin', 'awayWin')\n",
        "selector_of_features = selector.fit(pipe_df)\n",
        "selected_features = selector_of_features.transform(pipe_df)\n",
        "\n",
        "print(\"ChiSqSelector output with top %d features selected\" % selector.getNumTopFeatures())\n",
        "result.show()"
      ],
      "execution_count": 341,
      "outputs": [
        {
          "output_type": "error",
          "ename": "Py4JJavaError",
          "evalue": "ignored",
          "traceback": [
            "\u001b[0;31m---------------------------------------------------------------------------\u001b[0m",
            "\u001b[0;31mPy4JJavaError\u001b[0m                             Traceback (most recent call last)",
            "\u001b[0;32m<ipython-input-341-07bd1beaa03c>\u001b[0m in \u001b[0;36m<module>\u001b[0;34m()\u001b[0m\n\u001b[1;32m      4\u001b[0m \u001b[0;31m# selector = ChiSqSelector(numTopFeatures=50, labelCol=\"teamRslt\", outputCol = \"selectedFeatures\")\u001b[0m\u001b[0;34m\u001b[0m\u001b[0;34m\u001b[0m\u001b[0m\n\u001b[1;32m      5\u001b[0m \u001b[0;31m# chiData = trainingData.select('gmDate', 'gameBack', 'ptsAgnst', 'ptsFor', 'stkTot', 'ptsDiff', 'homeWin', 'awayWin')\u001b[0m\u001b[0;34m\u001b[0m\u001b[0;34m\u001b[0m\u001b[0m\n\u001b[0;32m----> 6\u001b[0;31m \u001b[0mselector_of_features\u001b[0m \u001b[0;34m=\u001b[0m \u001b[0mselector\u001b[0m\u001b[0;34m.\u001b[0m\u001b[0mfit\u001b[0m\u001b[0;34m(\u001b[0m\u001b[0mpipe_df\u001b[0m\u001b[0;34m)\u001b[0m\u001b[0;34m\u001b[0m\u001b[0m\n\u001b[0m\u001b[1;32m      7\u001b[0m \u001b[0mselected_features\u001b[0m \u001b[0;34m=\u001b[0m \u001b[0mselector_of_features\u001b[0m\u001b[0;34m.\u001b[0m\u001b[0mtransform\u001b[0m\u001b[0;34m(\u001b[0m\u001b[0mpipe_df\u001b[0m\u001b[0;34m)\u001b[0m\u001b[0;34m\u001b[0m\u001b[0m\n\u001b[1;32m      8\u001b[0m \u001b[0;34m\u001b[0m\u001b[0m\n",
            "\u001b[0;32m/content/spark-2.2.2-bin-hadoop2.7/python/pyspark/ml/base.py\u001b[0m in \u001b[0;36mfit\u001b[0;34m(self, dataset, params)\u001b[0m\n\u001b[1;32m     62\u001b[0m                 \u001b[0;32mreturn\u001b[0m \u001b[0mself\u001b[0m\u001b[0;34m.\u001b[0m\u001b[0mcopy\u001b[0m\u001b[0;34m(\u001b[0m\u001b[0mparams\u001b[0m\u001b[0;34m)\u001b[0m\u001b[0;34m.\u001b[0m\u001b[0m_fit\u001b[0m\u001b[0;34m(\u001b[0m\u001b[0mdataset\u001b[0m\u001b[0;34m)\u001b[0m\u001b[0;34m\u001b[0m\u001b[0m\n\u001b[1;32m     63\u001b[0m             \u001b[0;32melse\u001b[0m\u001b[0;34m:\u001b[0m\u001b[0;34m\u001b[0m\u001b[0m\n\u001b[0;32m---> 64\u001b[0;31m                 \u001b[0;32mreturn\u001b[0m \u001b[0mself\u001b[0m\u001b[0;34m.\u001b[0m\u001b[0m_fit\u001b[0m\u001b[0;34m(\u001b[0m\u001b[0mdataset\u001b[0m\u001b[0;34m)\u001b[0m\u001b[0;34m\u001b[0m\u001b[0m\n\u001b[0m\u001b[1;32m     65\u001b[0m         \u001b[0;32melse\u001b[0m\u001b[0;34m:\u001b[0m\u001b[0;34m\u001b[0m\u001b[0m\n\u001b[1;32m     66\u001b[0m             raise ValueError(\"Params must be either a param map or a list/tuple of param maps, \"\n",
            "\u001b[0;32m/content/spark-2.2.2-bin-hadoop2.7/python/pyspark/ml/wrapper.py\u001b[0m in \u001b[0;36m_fit\u001b[0;34m(self, dataset)\u001b[0m\n\u001b[1;32m    263\u001b[0m \u001b[0;34m\u001b[0m\u001b[0m\n\u001b[1;32m    264\u001b[0m     \u001b[0;32mdef\u001b[0m \u001b[0m_fit\u001b[0m\u001b[0;34m(\u001b[0m\u001b[0mself\u001b[0m\u001b[0;34m,\u001b[0m \u001b[0mdataset\u001b[0m\u001b[0;34m)\u001b[0m\u001b[0;34m:\u001b[0m\u001b[0;34m\u001b[0m\u001b[0m\n\u001b[0;32m--> 265\u001b[0;31m         \u001b[0mjava_model\u001b[0m \u001b[0;34m=\u001b[0m \u001b[0mself\u001b[0m\u001b[0;34m.\u001b[0m\u001b[0m_fit_java\u001b[0m\u001b[0;34m(\u001b[0m\u001b[0mdataset\u001b[0m\u001b[0;34m)\u001b[0m\u001b[0;34m\u001b[0m\u001b[0m\n\u001b[0m\u001b[1;32m    266\u001b[0m         \u001b[0;32mreturn\u001b[0m \u001b[0mself\u001b[0m\u001b[0;34m.\u001b[0m\u001b[0m_create_model\u001b[0m\u001b[0;34m(\u001b[0m\u001b[0mjava_model\u001b[0m\u001b[0;34m)\u001b[0m\u001b[0;34m\u001b[0m\u001b[0m\n\u001b[1;32m    267\u001b[0m \u001b[0;34m\u001b[0m\u001b[0m\n",
            "\u001b[0;32m/content/spark-2.2.2-bin-hadoop2.7/python/pyspark/ml/wrapper.py\u001b[0m in \u001b[0;36m_fit_java\u001b[0;34m(self, dataset)\u001b[0m\n\u001b[1;32m    260\u001b[0m         \"\"\"\n\u001b[1;32m    261\u001b[0m         \u001b[0mself\u001b[0m\u001b[0;34m.\u001b[0m\u001b[0m_transfer_params_to_java\u001b[0m\u001b[0;34m(\u001b[0m\u001b[0;34m)\u001b[0m\u001b[0;34m\u001b[0m\u001b[0m\n\u001b[0;32m--> 262\u001b[0;31m         \u001b[0;32mreturn\u001b[0m \u001b[0mself\u001b[0m\u001b[0;34m.\u001b[0m\u001b[0m_java_obj\u001b[0m\u001b[0;34m.\u001b[0m\u001b[0mfit\u001b[0m\u001b[0;34m(\u001b[0m\u001b[0mdataset\u001b[0m\u001b[0;34m.\u001b[0m\u001b[0m_jdf\u001b[0m\u001b[0;34m)\u001b[0m\u001b[0;34m\u001b[0m\u001b[0m\n\u001b[0m\u001b[1;32m    263\u001b[0m \u001b[0;34m\u001b[0m\u001b[0m\n\u001b[1;32m    264\u001b[0m     \u001b[0;32mdef\u001b[0m \u001b[0m_fit\u001b[0m\u001b[0;34m(\u001b[0m\u001b[0mself\u001b[0m\u001b[0;34m,\u001b[0m \u001b[0mdataset\u001b[0m\u001b[0;34m)\u001b[0m\u001b[0;34m:\u001b[0m\u001b[0;34m\u001b[0m\u001b[0m\n",
            "\u001b[0;32m/content/spark-2.2.2-bin-hadoop2.7/python/lib/py4j-0.10.7-src.zip/py4j/java_gateway.py\u001b[0m in \u001b[0;36m__call__\u001b[0;34m(self, *args)\u001b[0m\n\u001b[1;32m   1255\u001b[0m         \u001b[0manswer\u001b[0m \u001b[0;34m=\u001b[0m \u001b[0mself\u001b[0m\u001b[0;34m.\u001b[0m\u001b[0mgateway_client\u001b[0m\u001b[0;34m.\u001b[0m\u001b[0msend_command\u001b[0m\u001b[0;34m(\u001b[0m\u001b[0mcommand\u001b[0m\u001b[0;34m)\u001b[0m\u001b[0;34m\u001b[0m\u001b[0m\n\u001b[1;32m   1256\u001b[0m         return_value = get_return_value(\n\u001b[0;32m-> 1257\u001b[0;31m             answer, self.gateway_client, self.target_id, self.name)\n\u001b[0m\u001b[1;32m   1258\u001b[0m \u001b[0;34m\u001b[0m\u001b[0m\n\u001b[1;32m   1259\u001b[0m         \u001b[0;32mfor\u001b[0m \u001b[0mtemp_arg\u001b[0m \u001b[0;32min\u001b[0m \u001b[0mtemp_args\u001b[0m\u001b[0;34m:\u001b[0m\u001b[0;34m\u001b[0m\u001b[0m\n",
            "\u001b[0;32m/content/spark-2.2.2-bin-hadoop2.7/python/pyspark/sql/utils.py\u001b[0m in \u001b[0;36mdeco\u001b[0;34m(*a, **kw)\u001b[0m\n\u001b[1;32m     61\u001b[0m     \u001b[0;32mdef\u001b[0m \u001b[0mdeco\u001b[0m\u001b[0;34m(\u001b[0m\u001b[0;34m*\u001b[0m\u001b[0ma\u001b[0m\u001b[0;34m,\u001b[0m \u001b[0;34m**\u001b[0m\u001b[0mkw\u001b[0m\u001b[0;34m)\u001b[0m\u001b[0;34m:\u001b[0m\u001b[0;34m\u001b[0m\u001b[0m\n\u001b[1;32m     62\u001b[0m         \u001b[0;32mtry\u001b[0m\u001b[0;34m:\u001b[0m\u001b[0;34m\u001b[0m\u001b[0m\n\u001b[0;32m---> 63\u001b[0;31m             \u001b[0;32mreturn\u001b[0m \u001b[0mf\u001b[0m\u001b[0;34m(\u001b[0m\u001b[0;34m*\u001b[0m\u001b[0ma\u001b[0m\u001b[0;34m,\u001b[0m \u001b[0;34m**\u001b[0m\u001b[0mkw\u001b[0m\u001b[0;34m)\u001b[0m\u001b[0;34m\u001b[0m\u001b[0m\n\u001b[0m\u001b[1;32m     64\u001b[0m         \u001b[0;32mexcept\u001b[0m \u001b[0mpy4j\u001b[0m\u001b[0;34m.\u001b[0m\u001b[0mprotocol\u001b[0m\u001b[0;34m.\u001b[0m\u001b[0mPy4JJavaError\u001b[0m \u001b[0;32mas\u001b[0m \u001b[0me\u001b[0m\u001b[0;34m:\u001b[0m\u001b[0;34m\u001b[0m\u001b[0m\n\u001b[1;32m     65\u001b[0m             \u001b[0ms\u001b[0m \u001b[0;34m=\u001b[0m \u001b[0me\u001b[0m\u001b[0;34m.\u001b[0m\u001b[0mjava_exception\u001b[0m\u001b[0;34m.\u001b[0m\u001b[0mtoString\u001b[0m\u001b[0;34m(\u001b[0m\u001b[0;34m)\u001b[0m\u001b[0;34m\u001b[0m\u001b[0m\n",
            "\u001b[0;32m/content/spark-2.2.2-bin-hadoop2.7/python/lib/py4j-0.10.7-src.zip/py4j/protocol.py\u001b[0m in \u001b[0;36mget_return_value\u001b[0;34m(answer, gateway_client, target_id, name)\u001b[0m\n\u001b[1;32m    326\u001b[0m                 raise Py4JJavaError(\n\u001b[1;32m    327\u001b[0m                     \u001b[0;34m\"An error occurred while calling {0}{1}{2}.\\n\"\u001b[0m\u001b[0;34m.\u001b[0m\u001b[0;34m\u001b[0m\u001b[0m\n\u001b[0;32m--> 328\u001b[0;31m                     format(target_id, \".\", name), value)\n\u001b[0m\u001b[1;32m    329\u001b[0m             \u001b[0;32melse\u001b[0m\u001b[0;34m:\u001b[0m\u001b[0;34m\u001b[0m\u001b[0m\n\u001b[1;32m    330\u001b[0m                 raise Py4JError(\n",
            "\u001b[0;31mPy4JJavaError\u001b[0m: An error occurred while calling o14481.fit.\n: org.apache.spark.SparkException: Job aborted due to stage failure: Task 0 in stage 2424.0 failed 1 times, most recent failure: Lost task 0.0 in stage 2424.0 (TID 4608, localhost, executor driver): org.apache.spark.SparkException: Failed to execute user defined function($anonfun$5: (string) => double)\n\tat org.apache.spark.sql.catalyst.expressions.GeneratedClass$GeneratedIterator.processNext(Unknown Source)\n\tat org.apache.spark.sql.execution.BufferedRowIterator.hasNext(BufferedRowIterator.java:43)\n\tat org.apache.spark.sql.execution.WholeStageCodegenExec$$anonfun$8$$anon$1.hasNext(WholeStageCodegenExec.scala:395)\n\tat scala.collection.Iterator$$anon$11.hasNext(Iterator.scala:408)\n\tat scala.collection.Iterator$$anon$11.hasNext(Iterator.scala:408)\n\tat scala.collection.Iterator$$anon$11.hasNext(Iterator.scala:408)\n\tat scala.collection.Iterator$$anon$12.hasNext(Iterator.scala:439)\n\tat scala.collection.Iterator$$anon$11.hasNext(Iterator.scala:408)\n\tat scala.collection.Iterator$$anon$11.hasNext(Iterator.scala:408)\n\tat org.apache.spark.util.collection.ExternalSorter.insertAll(ExternalSorter.scala:191)\n\tat org.apache.spark.shuffle.sort.SortShuffleWriter.write(SortShuffleWriter.scala:63)\n\tat org.apache.spark.scheduler.ShuffleMapTask.runTask(ShuffleMapTask.scala:96)\n\tat org.apache.spark.scheduler.ShuffleMapTask.runTask(ShuffleMapTask.scala:53)\n\tat org.apache.spark.scheduler.Task.run(Task.scala:109)\n\tat org.apache.spark.executor.Executor$TaskRunner.run(Executor.scala:338)\n\tat java.util.concurrent.ThreadPoolExecutor.runWorker(ThreadPoolExecutor.java:1149)\n\tat java.util.concurrent.ThreadPoolExecutor$Worker.run(ThreadPoolExecutor.java:624)\n\tat java.lang.Thread.run(Thread.java:748)\nCaused by: org.apache.spark.SparkException: StringIndexer encountered NULL value. To handle or skip NULLS, try setting StringIndexer.handleInvalid.\n\tat org.apache.spark.ml.feature.StringIndexerModel$$anonfun$5.apply(StringIndexer.scala:213)\n\tat org.apache.spark.ml.feature.StringIndexerModel$$anonfun$5.apply(StringIndexer.scala:208)\n\t... 18 more\n\nDriver stacktrace:\n\tat org.apache.spark.scheduler.DAGScheduler.org$apache$spark$scheduler$DAGScheduler$$failJobAndIndependentStages(DAGScheduler.scala:1533)\n\tat org.apache.spark.scheduler.DAGScheduler$$anonfun$abortStage$1.apply(DAGScheduler.scala:1521)\n\tat org.apache.spark.scheduler.DAGScheduler$$anonfun$abortStage$1.apply(DAGScheduler.scala:1520)\n\tat scala.collection.mutable.ResizableArray$class.foreach(ResizableArray.scala:59)\n\tat scala.collection.mutable.ArrayBuffer.foreach(ArrayBuffer.scala:48)\n\tat org.apache.spark.scheduler.DAGScheduler.abortStage(DAGScheduler.scala:1520)\n\tat org.apache.spark.scheduler.DAGScheduler$$anonfun$handleTaskSetFailed$1.apply(DAGScheduler.scala:814)\n\tat org.apache.spark.scheduler.DAGScheduler$$anonfun$handleTaskSetFailed$1.apply(DAGScheduler.scala:814)\n\tat scala.Option.foreach(Option.scala:257)\n\tat org.apache.spark.scheduler.DAGScheduler.handleTaskSetFailed(DAGScheduler.scala:814)\n\tat org.apache.spark.scheduler.DAGSchedulerEventProcessLoop.doOnReceive(DAGScheduler.scala:1748)\n\tat org.apache.spark.scheduler.DAGSchedulerEventProcessLoop.onReceive(DAGScheduler.scala:1703)\n\tat org.apache.spark.scheduler.DAGSchedulerEventProcessLoop.onReceive(DAGScheduler.scala:1692)\n\tat org.apache.spark.util.EventLoop$$anon$1.run(EventLoop.scala:48)\n\tat org.apache.spark.scheduler.DAGScheduler.runJob(DAGScheduler.scala:630)\n\tat org.apache.spark.SparkContext.runJob(SparkContext.scala:2029)\n\tat org.apache.spark.SparkContext.runJob(SparkContext.scala:2050)\n\tat org.apache.spark.SparkContext.runJob(SparkContext.scala:2069)\n\tat org.apache.spark.SparkContext.runJob(SparkContext.scala:2094)\n\tat org.apache.spark.rdd.RDD$$anonfun$collect$1.apply(RDD.scala:936)\n\tat org.apache.spark.rdd.RDDOperationScope$.withScope(RDDOperationScope.scala:151)\n\tat org.apache.spark.rdd.RDDOperationScope$.withScope(RDDOperationScope.scala:112)\n\tat org.apache.spark.rdd.RDD.withScope(RDD.scala:362)\n\tat org.apache.spark.rdd.RDD.collect(RDD.scala:935)\n\tat org.apache.spark.rdd.PairRDDFunctions$$anonfun$countByKey$1.apply(PairRDDFunctions.scala:373)\n\tat org.apache.spark.rdd.PairRDDFunctions$$anonfun$countByKey$1.apply(PairRDDFunctions.scala:373)\n\tat org.apache.spark.rdd.RDDOperationScope$.withScope(RDDOperationScope.scala:151)\n\tat org.apache.spark.rdd.RDDOperationScope$.withScope(RDDOperationScope.scala:112)\n\tat org.apache.spark.rdd.RDD.withScope(RDD.scala:362)\n\tat org.apache.spark.rdd.PairRDDFunctions.countByKey(PairRDDFunctions.scala:372)\n\tat org.apache.spark.rdd.RDD$$anonfun$countByValue$1.apply(RDD.scala:1204)\n\tat org.apache.spark.rdd.RDD$$anonfun$countByValue$1.apply(RDD.scala:1204)\n\tat org.apache.spark.rdd.RDDOperationScope$.withScope(RDDOperationScope.scala:151)\n\tat org.apache.spark.rdd.RDDOperationScope$.withScope(RDDOperationScope.scala:112)\n\tat org.apache.spark.rdd.RDD.withScope(RDD.scala:362)\n\tat org.apache.spark.rdd.RDD.countByValue(RDD.scala:1203)\n\tat org.apache.spark.mllib.stat.test.ChiSqTest$.chiSquaredFeatures(ChiSqTest.scala:124)\n\tat org.apache.spark.mllib.stat.Statistics$.chiSqTest(Statistics.scala:176)\n\tat org.apache.spark.mllib.feature.ChiSqSelector.fit(ChiSqSelector.scala:257)\n\tat org.apache.spark.ml.feature.ChiSqSelector.fit(ChiSqSelector.scala:214)\n\tat org.apache.spark.ml.feature.ChiSqSelector.fit(ChiSqSelector.scala:157)\n\tat sun.reflect.NativeMethodAccessorImpl.invoke0(Native Method)\n\tat sun.reflect.NativeMethodAccessorImpl.invoke(NativeMethodAccessorImpl.java:62)\n\tat sun.reflect.DelegatingMethodAccessorImpl.invoke(DelegatingMethodAccessorImpl.java:43)\n\tat java.lang.reflect.Method.invoke(Method.java:498)\n\tat py4j.reflection.MethodInvoker.invoke(MethodInvoker.java:244)\n\tat py4j.reflection.ReflectionEngine.invoke(ReflectionEngine.java:357)\n\tat py4j.Gateway.invoke(Gateway.java:282)\n\tat py4j.commands.AbstractCommand.invokeMethod(AbstractCommand.java:132)\n\tat py4j.commands.CallCommand.execute(CallCommand.java:79)\n\tat py4j.GatewayConnection.run(GatewayConnection.java:238)\n\tat java.lang.Thread.run(Thread.java:748)\nCaused by: org.apache.spark.SparkException: Failed to execute user defined function($anonfun$5: (string) => double)\n\tat org.apache.spark.sql.catalyst.expressions.GeneratedClass$GeneratedIterator.processNext(Unknown Source)\n\tat org.apache.spark.sql.execution.BufferedRowIterator.hasNext(BufferedRowIterator.java:43)\n\tat org.apache.spark.sql.execution.WholeStageCodegenExec$$anonfun$8$$anon$1.hasNext(WholeStageCodegenExec.scala:395)\n\tat scala.collection.Iterator$$anon$11.hasNext(Iterator.scala:408)\n\tat scala.collection.Iterator$$anon$11.hasNext(Iterator.scala:408)\n\tat scala.collection.Iterator$$anon$11.hasNext(Iterator.scala:408)\n\tat scala.collection.Iterator$$anon$12.hasNext(Iterator.scala:439)\n\tat scala.collection.Iterator$$anon$11.hasNext(Iterator.scala:408)\n\tat scala.collection.Iterator$$anon$11.hasNext(Iterator.scala:408)\n\tat org.apache.spark.util.collection.ExternalSorter.insertAll(ExternalSorter.scala:191)\n\tat org.apache.spark.shuffle.sort.SortShuffleWriter.write(SortShuffleWriter.scala:63)\n\tat org.apache.spark.scheduler.ShuffleMapTask.runTask(ShuffleMapTask.scala:96)\n\tat org.apache.spark.scheduler.ShuffleMapTask.runTask(ShuffleMapTask.scala:53)\n\tat org.apache.spark.scheduler.Task.run(Task.scala:109)\n\tat org.apache.spark.executor.Executor$TaskRunner.run(Executor.scala:338)\n\tat java.util.concurrent.ThreadPoolExecutor.runWorker(ThreadPoolExecutor.java:1149)\n\tat java.util.concurrent.ThreadPoolExecutor$Worker.run(ThreadPoolExecutor.java:624)\n\t... 1 more\nCaused by: org.apache.spark.SparkException: StringIndexer encountered NULL value. To handle or skip NULLS, try setting StringIndexer.handleInvalid.\n\tat org.apache.spark.ml.feature.StringIndexerModel$$anonfun$5.apply(StringIndexer.scala:213)\n\tat org.apache.spark.ml.feature.StringIndexerModel$$anonfun$5.apply(StringIndexer.scala:208)\n\t... 18 more\n"
          ]
        }
      ]
    },
    {
      "metadata": {
        "id": "9PIQAnJnJ8nU",
        "colab_type": "code",
        "colab": {
          "base_uri": "https://localhost:8080/",
          "height": 170
        },
        "outputId": "66b0d2cf-33d4-47f9-bb39-164257d925e5"
      },
      "cell_type": "code",
      "source": [
        "from pyspark.ml.feature import ChiSqSelector\n",
        "from pyspark.ml.linalg import Vectors\n",
        "\n",
        "df = spark.createDataFrame([\n",
        "    (7, Vectors.dense([0.0, 0.0, 18.0, 1.0]), 1.0,),\n",
        "    (8, Vectors.dense([0.0, 1.0, 12.0, 0.0]), 0.0,),\n",
        "    (9, Vectors.dense([1.0, 0.0, 15.0, 0.1]), 0.0,)], [\"id\", \"features\", \"clicked\"])\n",
        "\n",
        "selector = ChiSqSelector(numTopFeatures=2, featuresCol=\"features\",\n",
        "                         outputCol=\"selectedFeatures\", labelCol=\"clicked\")\n",
        "\n",
        "result = selector.fit(df).transform(df)\n",
        "\n",
        "print(\"ChiSqSelector output with top %d features selected\" % selector.getNumTopFeatures())\n",
        "result.show()"
      ],
      "execution_count": 337,
      "outputs": [
        {
          "output_type": "stream",
          "text": [
            "ChiSqSelector output with top 2 features selected\n",
            "+---+------------------+-------+----------------+\n",
            "| id|          features|clicked|selectedFeatures|\n",
            "+---+------------------+-------+----------------+\n",
            "|  7|[0.0,0.0,18.0,1.0]|    1.0|      [18.0,1.0]|\n",
            "|  8|[0.0,1.0,12.0,0.0]|    0.0|      [12.0,0.0]|\n",
            "|  9|[1.0,0.0,15.0,0.1]|    0.0|      [15.0,0.1]|\n",
            "+---+------------------+-------+----------------+\n",
            "\n"
          ],
          "name": "stdout"
        }
      ]
    },
    {
      "metadata": {
        "id": "wPWjagSAJ8nX",
        "colab_type": "code",
        "colab": {}
      },
      "cell_type": "code",
      "source": [
        "# Select the columns chosen by Feature Selection"
      ],
      "execution_count": 0,
      "outputs": []
    },
    {
      "metadata": {
        "id": "f0KqF5d0J8na",
        "colab_type": "code",
        "colab": {}
      },
      "cell_type": "code",
      "source": [
        "# Assemble the column values into the vector format\n",
        "assembler = VectorAssembler(inputCols=['jobVec','maritalVec','educationVec','defaultVec',\n",
        "                                       'housingVec','loanVec','contactVec','poutcomeVec',\n",
        "                                       'age', 'balance', 'duration', 'campaign', 'pdays',\n",
        "                                       'previous'], outputCol=\"features\")"
      ],
      "execution_count": 0,
      "outputs": []
    },
    {
      "metadata": {
        "id": "FufEW8_bJ8nd",
        "colab_type": "code",
        "colab": {}
      },
      "cell_type": "code",
      "source": [
        ""
      ],
      "execution_count": 0,
      "outputs": []
    },
    {
      "metadata": {
        "id": "ff9zkEoUJ8nh",
        "colab_type": "code",
        "colab": {
          "base_uri": "https://localhost:8080/",
          "height": 1608
        },
        "outputId": "7db90223-0690-467b-a1d8-7d7d8a3519a5"
      },
      "cell_type": "code",
      "source": [
        "# Split the Training data into 70 Training & 30 Validation\n",
        "lr_train, lr_test = trainingData.randomSplit([0.7,0.3])\n",
        "\n",
        "# Create instance of the logistic regression model.\n",
        "final_model = LogisticRegression()\n",
        "\n",
        "# Now fit the model on a subset of data.\n",
        "fit_final = final_model.fit(lr_train)\n",
        "\n",
        "# And evaluate it against the test data.\n",
        "predictions_and_labels = fit_final.evaluate(lr_test)\n",
        "\n",
        "predictions_and_labels.predictions.show()"
      ],
      "execution_count": 62,
      "outputs": [
        {
          "output_type": "error",
          "ename": "IllegalArgumentException",
          "evalue": "ignored",
          "traceback": [
            "\u001b[0;31m---------------------------------------------------------------------------\u001b[0m",
            "\u001b[0;31mPy4JJavaError\u001b[0m                             Traceback (most recent call last)",
            "\u001b[0;32m/content/spark-2.2.2-bin-hadoop2.7/python/pyspark/sql/utils.py\u001b[0m in \u001b[0;36mdeco\u001b[0;34m(*a, **kw)\u001b[0m\n\u001b[1;32m     62\u001b[0m         \u001b[0;32mtry\u001b[0m\u001b[0;34m:\u001b[0m\u001b[0;34m\u001b[0m\u001b[0m\n\u001b[0;32m---> 63\u001b[0;31m             \u001b[0;32mreturn\u001b[0m \u001b[0mf\u001b[0m\u001b[0;34m(\u001b[0m\u001b[0;34m*\u001b[0m\u001b[0ma\u001b[0m\u001b[0;34m,\u001b[0m \u001b[0;34m**\u001b[0m\u001b[0mkw\u001b[0m\u001b[0;34m)\u001b[0m\u001b[0;34m\u001b[0m\u001b[0m\n\u001b[0m\u001b[1;32m     64\u001b[0m         \u001b[0;32mexcept\u001b[0m \u001b[0mpy4j\u001b[0m\u001b[0;34m.\u001b[0m\u001b[0mprotocol\u001b[0m\u001b[0;34m.\u001b[0m\u001b[0mPy4JJavaError\u001b[0m \u001b[0;32mas\u001b[0m \u001b[0me\u001b[0m\u001b[0;34m:\u001b[0m\u001b[0;34m\u001b[0m\u001b[0m\n",
            "\u001b[0;32m/content/spark-2.2.2-bin-hadoop2.7/python/lib/py4j-0.10.7-src.zip/py4j/protocol.py\u001b[0m in \u001b[0;36mget_return_value\u001b[0;34m(answer, gateway_client, target_id, name)\u001b[0m\n\u001b[1;32m    327\u001b[0m                     \u001b[0;34m\"An error occurred while calling {0}{1}{2}.\\n\"\u001b[0m\u001b[0;34m.\u001b[0m\u001b[0;34m\u001b[0m\u001b[0m\n\u001b[0;32m--> 328\u001b[0;31m                     format(target_id, \".\", name), value)\n\u001b[0m\u001b[1;32m    329\u001b[0m             \u001b[0;32melse\u001b[0m\u001b[0;34m:\u001b[0m\u001b[0;34m\u001b[0m\u001b[0m\n",
            "\u001b[0;31mPy4JJavaError\u001b[0m: An error occurred while calling o1106.fit.\n: java.lang.IllegalArgumentException: Field \"features\" does not exist.\n\tat org.apache.spark.sql.types.StructType$$anonfun$apply$1.apply(StructType.scala:266)\n\tat org.apache.spark.sql.types.StructType$$anonfun$apply$1.apply(StructType.scala:266)\n\tat scala.collection.MapLike$class.getOrElse(MapLike.scala:128)\n\tat scala.collection.AbstractMap.getOrElse(Map.scala:59)\n\tat org.apache.spark.sql.types.StructType.apply(StructType.scala:265)\n\tat org.apache.spark.ml.util.SchemaUtils$.checkColumnType(SchemaUtils.scala:40)\n\tat org.apache.spark.ml.PredictorParams$class.validateAndTransformSchema(Predictor.scala:51)\n\tat org.apache.spark.ml.classification.Classifier.org$apache$spark$ml$classification$ClassifierParams$$super$validateAndTransformSchema(Classifier.scala:58)\n\tat org.apache.spark.ml.classification.ClassifierParams$class.validateAndTransformSchema(Classifier.scala:42)\n\tat org.apache.spark.ml.classification.ProbabilisticClassifier.org$apache$spark$ml$classification$ProbabilisticClassifierParams$$super$validateAndTransformSchema(ProbabilisticClassifier.scala:53)\n\tat org.apache.spark.ml.classification.ProbabilisticClassifierParams$class.validateAndTransformSchema(ProbabilisticClassifier.scala:37)\n\tat org.apache.spark.ml.classification.LogisticRegression.org$apache$spark$ml$classification$LogisticRegressionParams$$super$validateAndTransformSchema(LogisticRegression.scala:278)\n\tat org.apache.spark.ml.classification.LogisticRegressionParams$class.validateAndTransformSchema(LogisticRegression.scala:265)\n\tat org.apache.spark.ml.classification.LogisticRegression.validateAndTransformSchema(LogisticRegression.scala:278)\n\tat org.apache.spark.ml.Predictor.transformSchema(Predictor.scala:144)\n\tat org.apache.spark.ml.PipelineStage.transformSchema(Pipeline.scala:74)\n\tat org.apache.spark.ml.Predictor.fit(Predictor.scala:100)\n\tat org.apache.spark.ml.Predictor.fit(Predictor.scala:82)\n\tat sun.reflect.NativeMethodAccessorImpl.invoke0(Native Method)\n\tat sun.reflect.NativeMethodAccessorImpl.invoke(NativeMethodAccessorImpl.java:62)\n\tat sun.reflect.DelegatingMethodAccessorImpl.invoke(DelegatingMethodAccessorImpl.java:43)\n\tat java.lang.reflect.Method.invoke(Method.java:498)\n\tat py4j.reflection.MethodInvoker.invoke(MethodInvoker.java:244)\n\tat py4j.reflection.ReflectionEngine.invoke(ReflectionEngine.java:357)\n\tat py4j.Gateway.invoke(Gateway.java:282)\n\tat py4j.commands.AbstractCommand.invokeMethod(AbstractCommand.java:132)\n\tat py4j.commands.CallCommand.execute(CallCommand.java:79)\n\tat py4j.GatewayConnection.run(GatewayConnection.java:238)\n\tat java.lang.Thread.run(Thread.java:748)\n",
            "\nDuring handling of the above exception, another exception occurred:\n",
            "\u001b[0;31mIllegalArgumentException\u001b[0m                  Traceback (most recent call last)",
            "\u001b[0;32m<ipython-input-62-11af4ef8465c>\u001b[0m in \u001b[0;36m<module>\u001b[0;34m()\u001b[0m\n\u001b[1;32m      5\u001b[0m \u001b[0;34m\u001b[0m\u001b[0m\n\u001b[1;32m      6\u001b[0m \u001b[0;31m# Now fit the model on a subset of data.\u001b[0m\u001b[0;34m\u001b[0m\u001b[0;34m\u001b[0m\u001b[0m\n\u001b[0;32m----> 7\u001b[0;31m \u001b[0mfit_final\u001b[0m \u001b[0;34m=\u001b[0m \u001b[0mfinal_model\u001b[0m\u001b[0;34m.\u001b[0m\u001b[0mfit\u001b[0m\u001b[0;34m(\u001b[0m\u001b[0mlr_train\u001b[0m\u001b[0;34m)\u001b[0m\u001b[0;34m\u001b[0m\u001b[0m\n\u001b[0m\u001b[1;32m      8\u001b[0m \u001b[0;34m\u001b[0m\u001b[0m\n\u001b[1;32m      9\u001b[0m \u001b[0;31m# And evaluate it against the test data.\u001b[0m\u001b[0;34m\u001b[0m\u001b[0;34m\u001b[0m\u001b[0m\n",
            "\u001b[0;32m/content/spark-2.2.2-bin-hadoop2.7/python/pyspark/ml/base.py\u001b[0m in \u001b[0;36mfit\u001b[0;34m(self, dataset, params)\u001b[0m\n\u001b[1;32m     62\u001b[0m                 \u001b[0;32mreturn\u001b[0m \u001b[0mself\u001b[0m\u001b[0;34m.\u001b[0m\u001b[0mcopy\u001b[0m\u001b[0;34m(\u001b[0m\u001b[0mparams\u001b[0m\u001b[0;34m)\u001b[0m\u001b[0;34m.\u001b[0m\u001b[0m_fit\u001b[0m\u001b[0;34m(\u001b[0m\u001b[0mdataset\u001b[0m\u001b[0;34m)\u001b[0m\u001b[0;34m\u001b[0m\u001b[0m\n\u001b[1;32m     63\u001b[0m             \u001b[0;32melse\u001b[0m\u001b[0;34m:\u001b[0m\u001b[0;34m\u001b[0m\u001b[0m\n\u001b[0;32m---> 64\u001b[0;31m                 \u001b[0;32mreturn\u001b[0m \u001b[0mself\u001b[0m\u001b[0;34m.\u001b[0m\u001b[0m_fit\u001b[0m\u001b[0;34m(\u001b[0m\u001b[0mdataset\u001b[0m\u001b[0;34m)\u001b[0m\u001b[0;34m\u001b[0m\u001b[0m\n\u001b[0m\u001b[1;32m     65\u001b[0m         \u001b[0;32melse\u001b[0m\u001b[0;34m:\u001b[0m\u001b[0;34m\u001b[0m\u001b[0m\n\u001b[1;32m     66\u001b[0m             raise ValueError(\"Params must be either a param map or a list/tuple of param maps, \"\n",
            "\u001b[0;32m/content/spark-2.2.2-bin-hadoop2.7/python/pyspark/ml/wrapper.py\u001b[0m in \u001b[0;36m_fit\u001b[0;34m(self, dataset)\u001b[0m\n\u001b[1;32m    263\u001b[0m \u001b[0;34m\u001b[0m\u001b[0m\n\u001b[1;32m    264\u001b[0m     \u001b[0;32mdef\u001b[0m \u001b[0m_fit\u001b[0m\u001b[0;34m(\u001b[0m\u001b[0mself\u001b[0m\u001b[0;34m,\u001b[0m \u001b[0mdataset\u001b[0m\u001b[0;34m)\u001b[0m\u001b[0;34m:\u001b[0m\u001b[0;34m\u001b[0m\u001b[0m\n\u001b[0;32m--> 265\u001b[0;31m         \u001b[0mjava_model\u001b[0m \u001b[0;34m=\u001b[0m \u001b[0mself\u001b[0m\u001b[0;34m.\u001b[0m\u001b[0m_fit_java\u001b[0m\u001b[0;34m(\u001b[0m\u001b[0mdataset\u001b[0m\u001b[0;34m)\u001b[0m\u001b[0;34m\u001b[0m\u001b[0m\n\u001b[0m\u001b[1;32m    266\u001b[0m         \u001b[0;32mreturn\u001b[0m \u001b[0mself\u001b[0m\u001b[0;34m.\u001b[0m\u001b[0m_create_model\u001b[0m\u001b[0;34m(\u001b[0m\u001b[0mjava_model\u001b[0m\u001b[0;34m)\u001b[0m\u001b[0;34m\u001b[0m\u001b[0m\n\u001b[1;32m    267\u001b[0m \u001b[0;34m\u001b[0m\u001b[0m\n",
            "\u001b[0;32m/content/spark-2.2.2-bin-hadoop2.7/python/pyspark/ml/wrapper.py\u001b[0m in \u001b[0;36m_fit_java\u001b[0;34m(self, dataset)\u001b[0m\n\u001b[1;32m    260\u001b[0m         \"\"\"\n\u001b[1;32m    261\u001b[0m         \u001b[0mself\u001b[0m\u001b[0;34m.\u001b[0m\u001b[0m_transfer_params_to_java\u001b[0m\u001b[0;34m(\u001b[0m\u001b[0;34m)\u001b[0m\u001b[0;34m\u001b[0m\u001b[0m\n\u001b[0;32m--> 262\u001b[0;31m         \u001b[0;32mreturn\u001b[0m \u001b[0mself\u001b[0m\u001b[0;34m.\u001b[0m\u001b[0m_java_obj\u001b[0m\u001b[0;34m.\u001b[0m\u001b[0mfit\u001b[0m\u001b[0;34m(\u001b[0m\u001b[0mdataset\u001b[0m\u001b[0;34m.\u001b[0m\u001b[0m_jdf\u001b[0m\u001b[0;34m)\u001b[0m\u001b[0;34m\u001b[0m\u001b[0m\n\u001b[0m\u001b[1;32m    263\u001b[0m \u001b[0;34m\u001b[0m\u001b[0m\n\u001b[1;32m    264\u001b[0m     \u001b[0;32mdef\u001b[0m \u001b[0m_fit\u001b[0m\u001b[0;34m(\u001b[0m\u001b[0mself\u001b[0m\u001b[0;34m,\u001b[0m \u001b[0mdataset\u001b[0m\u001b[0;34m)\u001b[0m\u001b[0;34m:\u001b[0m\u001b[0;34m\u001b[0m\u001b[0m\n",
            "\u001b[0;32m/content/spark-2.2.2-bin-hadoop2.7/python/lib/py4j-0.10.7-src.zip/py4j/java_gateway.py\u001b[0m in \u001b[0;36m__call__\u001b[0;34m(self, *args)\u001b[0m\n\u001b[1;32m   1255\u001b[0m         \u001b[0manswer\u001b[0m \u001b[0;34m=\u001b[0m \u001b[0mself\u001b[0m\u001b[0;34m.\u001b[0m\u001b[0mgateway_client\u001b[0m\u001b[0;34m.\u001b[0m\u001b[0msend_command\u001b[0m\u001b[0;34m(\u001b[0m\u001b[0mcommand\u001b[0m\u001b[0;34m)\u001b[0m\u001b[0;34m\u001b[0m\u001b[0m\n\u001b[1;32m   1256\u001b[0m         return_value = get_return_value(\n\u001b[0;32m-> 1257\u001b[0;31m             answer, self.gateway_client, self.target_id, self.name)\n\u001b[0m\u001b[1;32m   1258\u001b[0m \u001b[0;34m\u001b[0m\u001b[0m\n\u001b[1;32m   1259\u001b[0m         \u001b[0;32mfor\u001b[0m \u001b[0mtemp_arg\u001b[0m \u001b[0;32min\u001b[0m \u001b[0mtemp_args\u001b[0m\u001b[0;34m:\u001b[0m\u001b[0;34m\u001b[0m\u001b[0m\n",
            "\u001b[0;32m/content/spark-2.2.2-bin-hadoop2.7/python/pyspark/sql/utils.py\u001b[0m in \u001b[0;36mdeco\u001b[0;34m(*a, **kw)\u001b[0m\n\u001b[1;32m     77\u001b[0m                 \u001b[0;32mraise\u001b[0m \u001b[0mQueryExecutionException\u001b[0m\u001b[0;34m(\u001b[0m\u001b[0ms\u001b[0m\u001b[0;34m.\u001b[0m\u001b[0msplit\u001b[0m\u001b[0;34m(\u001b[0m\u001b[0;34m': '\u001b[0m\u001b[0;34m,\u001b[0m \u001b[0;36m1\u001b[0m\u001b[0;34m)\u001b[0m\u001b[0;34m[\u001b[0m\u001b[0;36m1\u001b[0m\u001b[0;34m]\u001b[0m\u001b[0;34m,\u001b[0m \u001b[0mstackTrace\u001b[0m\u001b[0;34m)\u001b[0m\u001b[0;34m\u001b[0m\u001b[0m\n\u001b[1;32m     78\u001b[0m             \u001b[0;32mif\u001b[0m \u001b[0ms\u001b[0m\u001b[0;34m.\u001b[0m\u001b[0mstartswith\u001b[0m\u001b[0;34m(\u001b[0m\u001b[0;34m'java.lang.IllegalArgumentException: '\u001b[0m\u001b[0;34m)\u001b[0m\u001b[0;34m:\u001b[0m\u001b[0;34m\u001b[0m\u001b[0m\n\u001b[0;32m---> 79\u001b[0;31m                 \u001b[0;32mraise\u001b[0m \u001b[0mIllegalArgumentException\u001b[0m\u001b[0;34m(\u001b[0m\u001b[0ms\u001b[0m\u001b[0;34m.\u001b[0m\u001b[0msplit\u001b[0m\u001b[0;34m(\u001b[0m\u001b[0;34m': '\u001b[0m\u001b[0;34m,\u001b[0m \u001b[0;36m1\u001b[0m\u001b[0;34m)\u001b[0m\u001b[0;34m[\u001b[0m\u001b[0;36m1\u001b[0m\u001b[0;34m]\u001b[0m\u001b[0;34m,\u001b[0m \u001b[0mstackTrace\u001b[0m\u001b[0;34m)\u001b[0m\u001b[0;34m\u001b[0m\u001b[0m\n\u001b[0m\u001b[1;32m     80\u001b[0m             \u001b[0;32mraise\u001b[0m\u001b[0;34m\u001b[0m\u001b[0m\n\u001b[1;32m     81\u001b[0m     \u001b[0;32mreturn\u001b[0m \u001b[0mdeco\u001b[0m\u001b[0;34m\u001b[0m\u001b[0m\n",
            "\u001b[0;31mIllegalArgumentException\u001b[0m: 'Field \"features\" does not exist.'"
          ]
        }
      ]
    },
    {
      "metadata": {
        "id": "kwaxkh0PJ8nk",
        "colab_type": "code",
        "colab": {}
      },
      "cell_type": "code",
      "source": [
        "# Use Binomial Regression \n",
        "\n",
        "lrModel = lr.fit(training)\n",
        "\n",
        "# Instead of printing the coefficients/intercept, let's try to get a high level view of the model output. \n",
        "trainingSummary = lrModel.summary\n",
        "\n",
        "# Print schema again. Note the additional columns. As with other models, we simply want to compare the label (actual value) to the predicted value.\n",
        "trainingSummary.predictions.printSchema()\n",
        "\n",
        "# Visualise the DataFrame. Visually compare label to prediction. What do you see? \n",
        "trainingSummary.predictions.show()"
      ],
      "execution_count": 0,
      "outputs": []
    },
    {
      "metadata": {
        "id": "ZNe5f2bxJ8nm",
        "colab_type": "code",
        "colab": {}
      },
      "cell_type": "code",
      "source": [
        ""
      ],
      "execution_count": 0,
      "outputs": []
    },
    {
      "metadata": {
        "id": "1nGnlCpVJ8nq",
        "colab_type": "code",
        "colab": {}
      },
      "cell_type": "code",
      "source": [
        ""
      ],
      "execution_count": 0,
      "outputs": []
    },
    {
      "metadata": {
        "id": "PHUSSDCKJ8nt",
        "colab_type": "code",
        "colab": {}
      },
      "cell_type": "code",
      "source": [
        ""
      ],
      "execution_count": 0,
      "outputs": []
    },
    {
      "metadata": {
        "id": "oAExi3YLJ8nw",
        "colab_type": "code",
        "colab": {}
      },
      "cell_type": "code",
      "source": [
        ""
      ],
      "execution_count": 0,
      "outputs": []
    },
    {
      "metadata": {
        "id": "W2awpVllJ8n0",
        "colab_type": "code",
        "colab": {}
      },
      "cell_type": "code",
      "source": [
        ""
      ],
      "execution_count": 0,
      "outputs": []
    },
    {
      "metadata": {
        "id": "v1Xs6lyrJ8n8",
        "colab_type": "code",
        "colab": {}
      },
      "cell_type": "code",
      "source": [
        ""
      ],
      "execution_count": 0,
      "outputs": []
    },
    {
      "metadata": {
        "id": "eXCOPPtvJ8n_",
        "colab_type": "code",
        "colab": {}
      },
      "cell_type": "code",
      "source": [
        ""
      ],
      "execution_count": 0,
      "outputs": []
    },
    {
      "metadata": {
        "id": "q6YMgmIeJ8oA",
        "colab_type": "code",
        "colab": {}
      },
      "cell_type": "code",
      "source": [
        ""
      ],
      "execution_count": 0,
      "outputs": []
    },
    {
      "metadata": {
        "id": "aCJOov_8J8oC",
        "colab_type": "code",
        "colab": {}
      },
      "cell_type": "code",
      "source": [
        ""
      ],
      "execution_count": 0,
      "outputs": []
    }
  ]
}